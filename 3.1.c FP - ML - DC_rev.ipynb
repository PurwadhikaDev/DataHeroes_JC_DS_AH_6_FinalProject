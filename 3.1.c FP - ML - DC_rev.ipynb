{
 "cells": [
  {
   "cell_type": "markdown",
   "metadata": {},
   "source": [
    "# MODELING - Regression 22/01"
   ]
  },
  {
   "cell_type": "code",
   "execution_count": 1,
   "metadata": {},
   "outputs": [
    {
     "name": "stderr",
     "output_type": "stream",
     "text": [
      "C:\\Users\\user\\AppData\\Local\\Programs\\Python\\Python310\\lib\\site-packages\\statsmodels\\compat\\pandas.py:65: FutureWarning: pandas.Int64Index is deprecated and will be removed from pandas in a future version. Use pandas.Index with the appropriate dtype instead.\n",
      "  from pandas import Int64Index as NumericIndex\n",
      "C:\\Users\\user\\AppData\\Local\\Programs\\Python\\Python310\\lib\\site-packages\\xgboost\\compat.py:36: FutureWarning: pandas.Int64Index is deprecated and will be removed from pandas in a future version. Use pandas.Index with the appropriate dtype instead.\n",
      "  from pandas import MultiIndex, Int64Index\n"
     ]
    }
   ],
   "source": [
    "\n",
    "import numpy as np \n",
    "import pandas as pd \n",
    "\n",
    "import statsmodels.api as sm\n",
    "import os\n",
    "import seaborn as sns\n",
    "import matplotlib.pyplot as plt\n",
    "from scipy import stats\n",
    "from sklearn.ensemble import AdaBoostRegressor\n",
    "from sklearn.preprocessing import scale\n",
    "from sklearn.preprocessing import StandardScaler\n",
    "from sklearn.preprocessing import PowerTransformer\n",
    "from sklearn.model_selection import RandomizedSearchCV\n",
    "from sklearn.model_selection import train_test_split, cross_val_score, StratifiedKFold, GridSearchCV, RandomizedSearchCV\n",
    "from sklearn.decomposition import PCA\n",
    "from sklearn.linear_model import LinearRegression\n",
    "from sklearn.tree import DecisionTreeRegressor\n",
    "import seaborn as sns\n",
    "from sklearn import metrics \n",
    "import xgboost as xgb\n",
    "\n",
    "\n"
   ]
  },
  {
   "cell_type": "markdown",
   "metadata": {},
   "source": [
    "## Load Dataset"
   ]
  },
  {
   "cell_type": "code",
   "execution_count": 2,
   "metadata": {},
   "outputs": [
    {
     "data": {
      "text/plain": [
       "(38707, 36)"
      ]
     },
     "execution_count": 2,
     "metadata": {},
     "output_type": "execute_result"
    }
   ],
   "source": [
    "df = pd.read_csv('Data/DC_Prop_Condominium_Regression.csv', index_col= 'Unnamed: 0')\n",
    "df.shape"
   ]
  },
  {
   "cell_type": "markdown",
   "metadata": {},
   "source": [
    "Mendapatkan HARGA yang tidak diketahui ke DataFrame yang berbeda untuk prediksi"
   ]
  },
  {
   "cell_type": "markdown",
   "metadata": {},
   "source": [
    "## Menentukan Feature dan Target"
   ]
  },
  {
   "cell_type": "code",
   "execution_count": 3,
   "metadata": {},
   "outputs": [],
   "source": [
    "X=df.drop(['PRICE'],axis=1)\n",
    "y=df['PRICE']"
   ]
  },
  {
   "cell_type": "markdown",
   "metadata": {},
   "source": [
    "## Regresi untuk setiap model"
   ]
  },
  {
   "cell_type": "code",
   "execution_count": 4,
   "metadata": {},
   "outputs": [],
   "source": [
    "def evaluate(model, X_test, y_test):\n",
    "    predictions = model.predict(X_test)\n",
    "    print('Model Performance')\n",
    "    print('R2:', metrics.r2_score(y_test, predictions))\n",
    "    print('Mean_Absolute_Error:', metrics.mean_absolute_error(y_test, predictions))\n",
    "    print('Mean_Squared_Error:', metrics.mean_squared_error(y_test, predictions))\n",
    "    print('RMSE:', np.sqrt(metrics.mean_squared_error(y_test, predictions)))"
   ]
  },
  {
   "cell_type": "markdown",
   "metadata": {},
   "source": [
    "## Without Drop"
   ]
  },
  {
   "cell_type": "markdown",
   "metadata": {},
   "source": [
    "### OLS Regression"
   ]
  },
  {
   "cell_type": "code",
   "execution_count": 5,
   "metadata": {},
   "outputs": [
    {
     "name": "stdout",
     "output_type": "stream",
     "text": [
      "Model Performance\n",
      "R2: 0.41364062269202084\n",
      "Mean_Absolute_Error: 7.840637450173524\n",
      "Mean_Squared_Error: 188.85999613547537\n",
      "RMSE: 13.74263425022566\n"
     ]
    },
    {
     "data": {
      "text/html": [
       "<table class=\"simpletable\">\n",
       "<caption>OLS Regression Results</caption>\n",
       "<tr>\n",
       "  <th>Dep. Variable:</th>          <td>PRICE</td>      <th>  R-squared (uncentered):</th>       <td>   0.967</td>  \n",
       "</tr>\n",
       "<tr>\n",
       "  <th>Model:</th>                   <td>OLS</td>       <th>  Adj. R-squared (uncentered):</th>  <td>   0.967</td>  \n",
       "</tr>\n",
       "<tr>\n",
       "  <th>Method:</th>             <td>Least Squares</td>  <th>  F-statistic:       </th>           <td>3.475e+04</td> \n",
       "</tr>\n",
       "<tr>\n",
       "  <th>Date:</th>             <td>Mon, 07 Feb 2022</td> <th>  Prob (F-statistic):</th>            <td>  0.00</td>   \n",
       "</tr>\n",
       "<tr>\n",
       "  <th>Time:</th>                 <td>00:46:39</td>     <th>  Log-Likelihood:    </th>          <td>-1.2455e+05</td>\n",
       "</tr>\n",
       "<tr>\n",
       "  <th>No. Observations:</th>      <td> 30965</td>      <th>  AIC:               </th>           <td>2.492e+05</td> \n",
       "</tr>\n",
       "<tr>\n",
       "  <th>Df Residuals:</th>          <td> 30939</td>      <th>  BIC:               </th>           <td>2.494e+05</td> \n",
       "</tr>\n",
       "<tr>\n",
       "  <th>Df Model:</th>              <td>    26</td>      <th>                     </th>               <td> </td>     \n",
       "</tr>\n",
       "<tr>\n",
       "  <th>Covariance Type:</th>      <td>nonrobust</td>    <th>                     </th>               <td> </td>     \n",
       "</tr>\n",
       "</table>\n",
       "<table class=\"simpletable\">\n",
       "<tr>\n",
       "           <td></td>              <th>coef</th>     <th>std err</th>      <th>t</th>      <th>P>|t|</th>  <th>[0.025</th>    <th>0.975]</th>  \n",
       "</tr>\n",
       "<tr>\n",
       "  <th>BATHRM</th>              <td>    3.5317</td> <td>    0.231</td> <td>   15.298</td> <td> 0.000</td> <td>    3.079</td> <td>    3.984</td>\n",
       "</tr>\n",
       "<tr>\n",
       "  <th>HF_BATHRM</th>           <td>   -0.3948</td> <td>    0.252</td> <td>   -1.565</td> <td> 0.118</td> <td>   -0.889</td> <td>    0.100</td>\n",
       "</tr>\n",
       "<tr>\n",
       "  <th>ROOMS</th>               <td>   -1.1566</td> <td>    0.145</td> <td>   -7.982</td> <td> 0.000</td> <td>   -1.441</td> <td>   -0.873</td>\n",
       "</tr>\n",
       "<tr>\n",
       "  <th>BEDRM</th>               <td>    1.3419</td> <td>    0.209</td> <td>    6.411</td> <td> 0.000</td> <td>    0.932</td> <td>    1.752</td>\n",
       "</tr>\n",
       "<tr>\n",
       "  <th>AYB</th>                 <td>    0.0366</td> <td>    0.004</td> <td>   10.276</td> <td> 0.000</td> <td>    0.030</td> <td>    0.044</td>\n",
       "</tr>\n",
       "<tr>\n",
       "  <th>YR_RMDL</th>             <td>   -0.0374</td> <td>    0.004</td> <td>   -8.694</td> <td> 0.000</td> <td>   -0.046</td> <td>   -0.029</td>\n",
       "</tr>\n",
       "<tr>\n",
       "  <th>EYB</th>                 <td>    0.0971</td> <td>    0.005</td> <td>   21.081</td> <td> 0.000</td> <td>    0.088</td> <td>    0.106</td>\n",
       "</tr>\n",
       "<tr>\n",
       "  <th>SALE_NUM</th>            <td>    1.7349</td> <td>    0.060</td> <td>   28.901</td> <td> 0.000</td> <td>    1.617</td> <td>    1.853</td>\n",
       "</tr>\n",
       "<tr>\n",
       "  <th>FIREPLACES</th>          <td>   -0.0087</td> <td>    0.015</td> <td>   -0.595</td> <td> 0.552</td> <td>   -0.037</td> <td>    0.020</td>\n",
       "</tr>\n",
       "<tr>\n",
       "  <th>USECODE</th>             <td>   -5.2007</td> <td>    0.214</td> <td>  -24.286</td> <td> 0.000</td> <td>   -5.620</td> <td>   -4.781</td>\n",
       "</tr>\n",
       "<tr>\n",
       "  <th>LANDAREA</th>            <td>   -0.0098</td> <td>    0.000</td> <td>  -37.982</td> <td> 0.000</td> <td>   -0.010</td> <td>   -0.009</td>\n",
       "</tr>\n",
       "<tr>\n",
       "  <th>LIVING_GBA</th>          <td>    0.0245</td> <td>    0.000</td> <td>   59.321</td> <td> 0.000</td> <td>    0.024</td> <td>    0.025</td>\n",
       "</tr>\n",
       "<tr>\n",
       "  <th>SalevYB</th>             <td>    0.0808</td> <td>    0.004</td> <td>   18.790</td> <td> 0.000</td> <td>    0.072</td> <td>    0.089</td>\n",
       "</tr>\n",
       "<tr>\n",
       "  <th>SalevYI</th>             <td>    0.0204</td> <td>    0.004</td> <td>    5.593</td> <td> 0.000</td> <td>    0.013</td> <td>    0.028</td>\n",
       "</tr>\n",
       "<tr>\n",
       "  <th>HEAT_Air-Oil</th>        <td>-3.631e-14</td> <td> 3.46e-15</td> <td>  -10.484</td> <td> 0.000</td> <td>-4.31e-14</td> <td>-2.95e-14</td>\n",
       "</tr>\n",
       "<tr>\n",
       "  <th>HEAT_Elec Base Brd</th>  <td>-8.434e-15</td> <td> 1.07e-15</td> <td>   -7.893</td> <td> 0.000</td> <td>-1.05e-14</td> <td>-6.34e-15</td>\n",
       "</tr>\n",
       "<tr>\n",
       "  <th>HEAT_Electric Rad</th>   <td> 4.165e-14</td> <td> 3.97e-15</td> <td>   10.479</td> <td> 0.000</td> <td> 3.39e-14</td> <td> 4.94e-14</td>\n",
       "</tr>\n",
       "<tr>\n",
       "  <th>HEAT_Evp Cool</th>       <td> 5.633e-14</td> <td> 5.15e-15</td> <td>   10.945</td> <td> 0.000</td> <td> 4.62e-14</td> <td> 6.64e-14</td>\n",
       "</tr>\n",
       "<tr>\n",
       "  <th>HEAT_Forced Air</th>     <td>  -58.0957</td> <td>    5.453</td> <td>  -10.653</td> <td> 0.000</td> <td>  -68.784</td> <td>  -47.407</td>\n",
       "</tr>\n",
       "<tr>\n",
       "  <th>HEAT_Gravity Furnac</th> <td>-2.603e-14</td> <td> 2.42e-15</td> <td>  -10.744</td> <td> 0.000</td> <td>-3.08e-14</td> <td>-2.13e-14</td>\n",
       "</tr>\n",
       "<tr>\n",
       "  <th>HEAT_Hot Water Rad</th>  <td>  -58.0429</td> <td>    5.472</td> <td>  -10.608</td> <td> 0.000</td> <td>  -68.767</td> <td>  -47.318</td>\n",
       "</tr>\n",
       "<tr>\n",
       "  <th>HEAT_Ht Pump</th>        <td>  -55.8025</td> <td>    5.454</td> <td>  -10.232</td> <td> 0.000</td> <td>  -66.492</td> <td>  -45.113</td>\n",
       "</tr>\n",
       "<tr>\n",
       "  <th>HEAT_Ind Unit</th>       <td> -1.56e-13</td> <td> 1.45e-14</td> <td>  -10.734</td> <td> 0.000</td> <td>-1.84e-13</td> <td>-1.27e-13</td>\n",
       "</tr>\n",
       "<tr>\n",
       "  <th>HEAT_Wall Furnace</th>   <td> 2.401e-13</td> <td> 2.24e-14</td> <td>   10.717</td> <td> 0.000</td> <td> 1.96e-13</td> <td> 2.84e-13</td>\n",
       "</tr>\n",
       "<tr>\n",
       "  <th>HEAT_Warm Cool</th>      <td>  -61.2762</td> <td>    5.456</td> <td>  -11.232</td> <td> 0.000</td> <td>  -71.969</td> <td>  -50.583</td>\n",
       "</tr>\n",
       "<tr>\n",
       "  <th>HEAT_Water Base Brd</th> <td> -9.83e-14</td> <td> 9.16e-15</td> <td>  -10.735</td> <td> 0.000</td> <td>-1.16e-13</td> <td>-8.04e-14</td>\n",
       "</tr>\n",
       "<tr>\n",
       "  <th>AC_1</th>                <td>    3.3594</td> <td>    0.422</td> <td>    7.955</td> <td> 0.000</td> <td>    2.532</td> <td>    4.187</td>\n",
       "</tr>\n",
       "<tr>\n",
       "  <th>QUALIFIED_U</th>         <td>    1.2040</td> <td>    0.184</td> <td>    6.553</td> <td> 0.000</td> <td>    0.844</td> <td>    1.564</td>\n",
       "</tr>\n",
       "<tr>\n",
       "  <th>WARD_Ward 2</th>         <td>   -0.2424</td> <td>    0.238</td> <td>   -1.018</td> <td> 0.309</td> <td>   -0.709</td> <td>    0.224</td>\n",
       "</tr>\n",
       "<tr>\n",
       "  <th>WARD_Ward 3</th>         <td>   -3.4083</td> <td>    0.283</td> <td>  -12.062</td> <td> 0.000</td> <td>   -3.962</td> <td>   -2.854</td>\n",
       "</tr>\n",
       "<tr>\n",
       "  <th>WARD_Ward 4</th>         <td>   -7.6167</td> <td>    0.430</td> <td>  -17.714</td> <td> 0.000</td> <td>   -8.459</td> <td>   -6.774</td>\n",
       "</tr>\n",
       "<tr>\n",
       "  <th>WARD_Ward 5</th>         <td>   -8.6484</td> <td>    0.365</td> <td>  -23.682</td> <td> 0.000</td> <td>   -9.364</td> <td>   -7.933</td>\n",
       "</tr>\n",
       "<tr>\n",
       "  <th>WARD_Ward 6</th>         <td>   -2.3524</td> <td>    0.266</td> <td>   -8.842</td> <td> 0.000</td> <td>   -2.874</td> <td>   -1.831</td>\n",
       "</tr>\n",
       "<tr>\n",
       "  <th>WARD_Ward 7</th>         <td>  -16.1576</td> <td>    0.478</td> <td>  -33.787</td> <td> 0.000</td> <td>  -17.095</td> <td>  -15.220</td>\n",
       "</tr>\n",
       "<tr>\n",
       "  <th>WARD_Ward 8</th>         <td>  -11.9575</td> <td>    0.458</td> <td>  -26.114</td> <td> 0.000</td> <td>  -12.855</td> <td>  -11.060</td>\n",
       "</tr>\n",
       "</table>\n",
       "<table class=\"simpletable\">\n",
       "<tr>\n",
       "  <th>Omnibus:</th>       <td>26265.068</td> <th>  Durbin-Watson:     </th>  <td>   1.992</td>  \n",
       "</tr>\n",
       "<tr>\n",
       "  <th>Prob(Omnibus):</th>  <td> 0.000</td>   <th>  Jarque-Bera (JB):  </th> <td>1844048.234</td>\n",
       "</tr>\n",
       "<tr>\n",
       "  <th>Skew:</th>           <td> 3.689</td>   <th>  Prob(JB):          </th>  <td>    0.00</td>  \n",
       "</tr>\n",
       "<tr>\n",
       "  <th>Kurtosis:</th>       <td>40.079</td>   <th>  Cond. No.          </th>  <td>1.06e+16</td>  \n",
       "</tr>\n",
       "</table><br/><br/>Notes:<br/>[1] R² is computed without centering (uncentered) since the model does not contain a constant.<br/>[2] Standard Errors assume that the covariance matrix of the errors is correctly specified.<br/>[3] The smallest eigenvalue is 3.48e-21. This might indicate that there are<br/>strong multicollinearity problems or that the design matrix is singular."
      ],
      "text/plain": [
       "<class 'statsmodels.iolib.summary.Summary'>\n",
       "\"\"\"\n",
       "                                 OLS Regression Results                                \n",
       "=======================================================================================\n",
       "Dep. Variable:                  PRICE   R-squared (uncentered):                   0.967\n",
       "Model:                            OLS   Adj. R-squared (uncentered):              0.967\n",
       "Method:                 Least Squares   F-statistic:                          3.475e+04\n",
       "Date:                Mon, 07 Feb 2022   Prob (F-statistic):                        0.00\n",
       "Time:                        00:46:39   Log-Likelihood:                     -1.2455e+05\n",
       "No. Observations:               30965   AIC:                                  2.492e+05\n",
       "Df Residuals:                   30939   BIC:                                  2.494e+05\n",
       "Df Model:                          26                                                  \n",
       "Covariance Type:            nonrobust                                                  \n",
       "=======================================================================================\n",
       "                          coef    std err          t      P>|t|      [0.025      0.975]\n",
       "---------------------------------------------------------------------------------------\n",
       "BATHRM                  3.5317      0.231     15.298      0.000       3.079       3.984\n",
       "HF_BATHRM              -0.3948      0.252     -1.565      0.118      -0.889       0.100\n",
       "ROOMS                  -1.1566      0.145     -7.982      0.000      -1.441      -0.873\n",
       "BEDRM                   1.3419      0.209      6.411      0.000       0.932       1.752\n",
       "AYB                     0.0366      0.004     10.276      0.000       0.030       0.044\n",
       "YR_RMDL                -0.0374      0.004     -8.694      0.000      -0.046      -0.029\n",
       "EYB                     0.0971      0.005     21.081      0.000       0.088       0.106\n",
       "SALE_NUM                1.7349      0.060     28.901      0.000       1.617       1.853\n",
       "FIREPLACES             -0.0087      0.015     -0.595      0.552      -0.037       0.020\n",
       "USECODE                -5.2007      0.214    -24.286      0.000      -5.620      -4.781\n",
       "LANDAREA               -0.0098      0.000    -37.982      0.000      -0.010      -0.009\n",
       "LIVING_GBA              0.0245      0.000     59.321      0.000       0.024       0.025\n",
       "SalevYB                 0.0808      0.004     18.790      0.000       0.072       0.089\n",
       "SalevYI                 0.0204      0.004      5.593      0.000       0.013       0.028\n",
       "HEAT_Air-Oil        -3.631e-14   3.46e-15    -10.484      0.000   -4.31e-14   -2.95e-14\n",
       "HEAT_Elec Base Brd  -8.434e-15   1.07e-15     -7.893      0.000   -1.05e-14   -6.34e-15\n",
       "HEAT_Electric Rad    4.165e-14   3.97e-15     10.479      0.000    3.39e-14    4.94e-14\n",
       "HEAT_Evp Cool        5.633e-14   5.15e-15     10.945      0.000    4.62e-14    6.64e-14\n",
       "HEAT_Forced Air       -58.0957      5.453    -10.653      0.000     -68.784     -47.407\n",
       "HEAT_Gravity Furnac -2.603e-14   2.42e-15    -10.744      0.000   -3.08e-14   -2.13e-14\n",
       "HEAT_Hot Water Rad    -58.0429      5.472    -10.608      0.000     -68.767     -47.318\n",
       "HEAT_Ht Pump          -55.8025      5.454    -10.232      0.000     -66.492     -45.113\n",
       "HEAT_Ind Unit        -1.56e-13   1.45e-14    -10.734      0.000   -1.84e-13   -1.27e-13\n",
       "HEAT_Wall Furnace    2.401e-13   2.24e-14     10.717      0.000    1.96e-13    2.84e-13\n",
       "HEAT_Warm Cool        -61.2762      5.456    -11.232      0.000     -71.969     -50.583\n",
       "HEAT_Water Base Brd  -9.83e-14   9.16e-15    -10.735      0.000   -1.16e-13   -8.04e-14\n",
       "AC_1                    3.3594      0.422      7.955      0.000       2.532       4.187\n",
       "QUALIFIED_U             1.2040      0.184      6.553      0.000       0.844       1.564\n",
       "WARD_Ward 2            -0.2424      0.238     -1.018      0.309      -0.709       0.224\n",
       "WARD_Ward 3            -3.4083      0.283    -12.062      0.000      -3.962      -2.854\n",
       "WARD_Ward 4            -7.6167      0.430    -17.714      0.000      -8.459      -6.774\n",
       "WARD_Ward 5            -8.6484      0.365    -23.682      0.000      -9.364      -7.933\n",
       "WARD_Ward 6            -2.3524      0.266     -8.842      0.000      -2.874      -1.831\n",
       "WARD_Ward 7           -16.1576      0.478    -33.787      0.000     -17.095     -15.220\n",
       "WARD_Ward 8           -11.9575      0.458    -26.114      0.000     -12.855     -11.060\n",
       "==============================================================================\n",
       "Omnibus:                    26265.068   Durbin-Watson:                   1.992\n",
       "Prob(Omnibus):                  0.000   Jarque-Bera (JB):          1844048.234\n",
       "Skew:                           3.689   Prob(JB):                         0.00\n",
       "Kurtosis:                      40.079   Cond. No.                     1.06e+16\n",
       "==============================================================================\n",
       "\n",
       "Notes:\n",
       "[1] R² is computed without centering (uncentered) since the model does not contain a constant.\n",
       "[2] Standard Errors assume that the covariance matrix of the errors is correctly specified.\n",
       "[3] The smallest eigenvalue is 3.48e-21. This might indicate that there are\n",
       "strong multicollinearity problems or that the design matrix is singular.\n",
       "\"\"\""
      ]
     },
     "execution_count": 5,
     "metadata": {},
     "output_type": "execute_result"
    }
   ],
   "source": [
    "#split into Test and Train\n",
    "X_train, X_test, y_train, y_test = train_test_split( X, y, test_size = 0.2, random_state = 100)\n",
    "model = sm.OLS(y_train, X_train.astype(float)).fit()\n",
    "\n",
    "# Print out the statistics\n",
    "# evaluate Accuracy\n",
    "evaluate(model, X_test, y_test)\n",
    "model.summary()"
   ]
  },
  {
   "cell_type": "markdown",
   "metadata": {},
   "source": [
    "### DecisionTreeRegressor"
   ]
  },
  {
   "cell_type": "code",
   "execution_count": 8,
   "metadata": {},
   "outputs": [
    {
     "name": "stdout",
     "output_type": "stream",
     "text": [
      "Model Performance\n",
      "R2: 0.7483213045910756\n",
      "Mean_Absolute_Error: 4.611664283641891\n",
      "Mean_Squared_Error: 81.0629782379096\n",
      "RMSE: 9.003498111173768\n"
     ]
    }
   ],
   "source": [
    "from sklearn.tree import DecisionTreeRegressor\n",
    "\n",
    "param_dist = {'max_depth': [1,20]}\n",
    "\n",
    "DTR = DecisionTreeRegressor()\n",
    "DTR_cv = GridSearchCV(DTR, param_dist)\n",
    "DTR_cv.fit(X_train, y_train)\n",
    "evaluate(DTR_cv.best_estimator_, X_test, y_test)"
   ]
  },
  {
   "cell_type": "code",
   "execution_count": 9,
   "metadata": {},
   "outputs": [
    {
     "name": "stdout",
     "output_type": "stream",
     "text": [
      "DecisionTreeRegressor(max_depth=20)\n"
     ]
    }
   ],
   "source": [
    "print(DTR_cv.best_estimator_)"
   ]
  },
  {
   "cell_type": "markdown",
   "metadata": {},
   "source": [
    "### RandomForestRegressor"
   ]
  },
  {
   "cell_type": "code",
   "execution_count": 6,
   "metadata": {},
   "outputs": [],
   "source": [
    "from sklearn.ensemble import RandomForestRegressor\n",
    "from pprint import pprint\n",
    "\n",
    "# Create the parameter distribution\n",
    "param_dist = {'n_estimators': [int(x) for x in np.linspace(start = 100, stop = 500, num = 10)],\n",
    "               'max_features': ['auto', 'sqrt'],\n",
    "               'max_depth': [1, 20]}\n",
    "\n",
    "RFR = RandomForestRegressor()\n",
    "RFR_cv = RandomizedSearchCV(RFR, param_dist, scoring='neg_mean_absolute_error')\n",
    "RFR_cv.fit(X_train, y_train)\n",
    "\n",
    "# RESULT\n",
    "evaluate(RFR_cv.best_estimator_, X_test, y_test)"
   ]
  },
  {
   "cell_type": "code",
   "execution_count": null,
   "metadata": {},
   "outputs": [
    {
     "data": {
      "text/plain": [
       "RandomForestRegressor(max_depth=20, n_estimators=366)"
      ]
     },
     "execution_count": 11,
     "metadata": {},
     "output_type": "execute_result"
    }
   ],
   "source": [
    "RFR_cv.best_estimator_"
   ]
  },
  {
   "cell_type": "markdown",
   "metadata": {},
   "source": [
    "### Adaptive Boosting Decision Tree"
   ]
  },
  {
   "cell_type": "code",
   "execution_count": 12,
   "metadata": {},
   "outputs": [
    {
     "name": "stdout",
     "output_type": "stream",
     "text": [
      "Model Performance\n",
      "R2: 0.8571435659395847\n",
      "Mean_Absolute_Error: 3.870836556904259\n",
      "Mean_Squared_Error: 46.01250807728949\n",
      "RMSE: 6.783252028141774\n"
     ]
    }
   ],
   "source": [
    "rng = np.random.RandomState(1)\n",
    "param_dist = {'n_estimators': [int(x) for x in np.linspace(start = 100, stop = 400, num = 10)]}\n",
    "\n",
    "\n",
    "ada = AdaBoostRegressor(DecisionTreeRegressor(random_state = rng), random_state = rng)\n",
    "ada_cv = RandomizedSearchCV(ada, param_dist, scoring='neg_mean_absolute_error')\n",
    "ada_cv.fit(X_train, y_train)\n",
    "\n",
    "evaluate(ada_cv.best_estimator_, X_test, y_test)"
   ]
  },
  {
   "cell_type": "code",
   "execution_count": 13,
   "metadata": {},
   "outputs": [
    {
     "name": "stdout",
     "output_type": "stream",
     "text": [
      "AdaBoostRegressor(base_estimator=DecisionTreeRegressor(random_state=RandomState(MT19937) at 0x11850BB5F40),\n",
      "                  n_estimators=100,\n",
      "                  random_state=RandomState(MT19937) at 0x11850BB6040)\n"
     ]
    }
   ],
   "source": [
    "#Obtaining the best estimators from the model\n",
    "print(ada_cv.best_estimator_)"
   ]
  },
  {
   "cell_type": "markdown",
   "metadata": {},
   "source": [
    "### XGBRegressor"
   ]
  },
  {
   "cell_type": "code",
   "execution_count": 20,
   "metadata": {},
   "outputs": [],
   "source": [
    "from numpy import absolute\n",
    "from sklearn.model_selection import cross_val_score\n",
    "from sklearn.model_selection import RepeatedKFold\n",
    "from xgboost import XGBRegressor"
   ]
  },
  {
   "cell_type": "code",
   "execution_count": 13,
   "metadata": {},
   "outputs": [
    {
     "name": "stderr",
     "output_type": "stream",
     "text": [
      "C:\\Users\\user\\AppData\\Local\\Programs\\Python\\Python310\\lib\\site-packages\\xgboost\\data.py:262: FutureWarning: pandas.Int64Index is deprecated and will be removed from pandas in a future version. Use pandas.Index with the appropriate dtype instead.\n",
      "  elif isinstance(data.columns, (pd.Int64Index, pd.RangeIndex)):\n"
     ]
    },
    {
     "name": "stdout",
     "output_type": "stream",
     "text": [
      "Model Performance\n",
      "R2: 0.8763561115793718\n",
      "Mean_Absolute_Error: 3.8557271669143898\n",
      "Mean_Squared_Error: 39.824355494241416\n",
      "RMSE: 6.310654125702138\n"
     ]
    }
   ],
   "source": [
    "xg_reg = xgb.XGBRegressor()\n",
    "xg_reg.fit(X_train,y_train)\n",
    "evaluate(xg_reg, X_test, y_test)"
   ]
  },
  {
   "cell_type": "markdown",
   "metadata": {},
   "source": [
    "### KNN"
   ]
  },
  {
   "cell_type": "code",
   "execution_count": 7,
   "metadata": {},
   "outputs": [
    {
     "name": "stderr",
     "output_type": "stream",
     "text": [
      "C:\\Users\\user\\AppData\\Local\\Programs\\Python\\Python310\\lib\\site-packages\\sklearn\\model_selection\\_search.py:292: UserWarning: The total space of parameters 4 is smaller than n_iter=10. Running 4 iterations. For exhaustive searches, use GridSearchCV.\n",
      "  warnings.warn(\n"
     ]
    },
    {
     "name": "stdout",
     "output_type": "stream",
     "text": [
      "Model Performance\n",
      "R2: 0.7094140795988616\n",
      "Mean_Absolute_Error: 5.69759357336533\n",
      "Mean_Squared_Error: 93.59457344391947\n",
      "RMSE: 9.674428843291963\n"
     ]
    }
   ],
   "source": [
    "from sklearn.neighbors import KNeighborsRegressor\n",
    "\n",
    "\n",
    "param_dist = {\"n_neighbors\": [3, 7],\n",
    "              \"weights\": [\"uniform\", \"distance\"]}\n",
    "\n",
    "KNR = KNeighborsRegressor()\n",
    "KNR_cv = RandomizedSearchCV(KNR, param_dist, cv=5)\n",
    "KNR_cv.fit(X_train, y_train)\n",
    "\n",
    "evaluate(KNR_cv.best_estimator_, X_test, y_test)"
   ]
  },
  {
   "cell_type": "code",
   "execution_count": 8,
   "metadata": {},
   "outputs": [
    {
     "data": {
      "text/plain": [
       "KNeighborsRegressor(n_neighbors=7, weights='distance')"
      ]
     },
     "execution_count": 8,
     "metadata": {},
     "output_type": "execute_result"
    }
   ],
   "source": [
    "KNR_cv.best_estimator_"
   ]
  },
  {
   "cell_type": "markdown",
   "metadata": {},
   "source": [
    "### SVR"
   ]
  },
  {
   "cell_type": "code",
   "execution_count": 17,
   "metadata": {},
   "outputs": [
    {
     "name": "stdout",
     "output_type": "stream",
     "text": [
      "Model Performance\n",
      "R2: 0.31646710622369767\n",
      "Mean_Absolute_Error: 8.938978775944417\n",
      "Mean_Squared_Error: 220.15853190535486\n",
      "RMSE: 14.83774012123662\n"
     ]
    }
   ],
   "source": [
    "from sklearn.svm import SVR\n",
    "\n",
    "svr = SVR()\n",
    "svr.fit(X_train, y_train)\n",
    "\n",
    "evaluate(svr, X_test, y_test)"
   ]
  },
  {
   "cell_type": "markdown",
   "metadata": {},
   "source": [
    "### Ridge & Lasso"
   ]
  },
  {
   "cell_type": "code",
   "execution_count": 18,
   "metadata": {},
   "outputs": [
    {
     "name": "stdout",
     "output_type": "stream",
     "text": [
      "Model Performance\n",
      "R2: 0.5077450241029385\n",
      "Mean_Absolute_Error: 6.741963431442311\n",
      "Mean_Squared_Error: 158.54998903984006\n",
      "RMSE: 12.591663473895737\n"
     ]
    }
   ],
   "source": [
    "from scipy.stats import uniform\n",
    "from sklearn.linear_model import Ridge\n",
    "from sklearn.model_selection import KFold\n",
    "\n",
    "\n",
    "param_grid = {'alpha': uniform()}\n",
    "seed=6\n",
    "model = Ridge()\n",
    "kfold = KFold(n_splits=8, random_state=seed, shuffle=True)\n",
    "rsearch = RandomizedSearchCV(estimator=model, param_distributions=param_grid, n_iter=100, cv=kfold, random_state=seed, scoring='neg_mean_absolute_error')\n",
    "rsearch.fit(X_train, y_train)\n",
    "evaluate(rsearch, X_test, y_test)"
   ]
  },
  {
   "cell_type": "code",
   "execution_count": 19,
   "metadata": {},
   "outputs": [
    {
     "name": "stdout",
     "output_type": "stream",
     "text": [
      "Ridge(alpha=0.9942074384219376)\n"
     ]
    }
   ],
   "source": [
    "print(rsearch.best_estimator_)"
   ]
  },
  {
   "cell_type": "code",
   "execution_count": 20,
   "metadata": {},
   "outputs": [
    {
     "name": "stdout",
     "output_type": "stream",
     "text": [
      "Model Performance\n",
      "R2: 0.4609484683619043\n",
      "Mean_Absolute_Error: 7.3849519071587855\n",
      "Mean_Squared_Error: 173.6226521171856\n",
      "RMSE: 13.176594860478392\n"
     ]
    }
   ],
   "source": [
    "import random\n",
    "from sklearn.linear_model import Lasso\n",
    "\n",
    "param_grid = {'alpha': uniform()}\n",
    "seed=6\n",
    "model = Lasso()\n",
    "kfold = KFold(n_splits=8, random_state=seed, shuffle=True)\n",
    "rsearch = RandomizedSearchCV(estimator=model, param_distributions=param_grid, n_iter=100, cv=kfold, random_state=seed)\n",
    "rsearch.fit(X_train, y_train)\n",
    "evaluate(rsearch, X_test, y_test)"
   ]
  },
  {
   "cell_type": "code",
   "execution_count": 21,
   "metadata": {},
   "outputs": [
    {
     "name": "stdout",
     "output_type": "stream",
     "text": [
      "Lasso(alpha=0.4903677932571596)\n"
     ]
    }
   ],
   "source": [
    "print(rsearch.best_estimator_)"
   ]
  },
  {
   "cell_type": "markdown",
   "metadata": {},
   "source": [
    "## With Drop Variable"
   ]
  },
  {
   "cell_type": "markdown",
   "metadata": {},
   "source": [
    "# Demo"
   ]
  },
  {
   "cell_type": "code",
   "execution_count": null,
   "metadata": {},
   "outputs": [],
   "source": [
    "import pickle\n",
    "filename = 'model_randomForest_c_undrop.sav'\n",
    "pickle.dump(RFR_cv, open(filename, 'wb'))\n",
    "loaded_model = pickle.load(open(filename, 'rb'))"
   ]
  },
  {
   "cell_type": "code",
   "execution_count": null,
   "metadata": {},
   "outputs": [],
   "source": [
    "demo = X_train.head(5)\n",
    "demo.to_csv('demo.csv')"
   ]
  },
  {
   "cell_type": "code",
   "execution_count": null,
   "metadata": {},
   "outputs": [
    {
     "data": {
      "text/html": [
       "<div>\n",
       "<style scoped>\n",
       "    .dataframe tbody tr th:only-of-type {\n",
       "        vertical-align: middle;\n",
       "    }\n",
       "\n",
       "    .dataframe tbody tr th {\n",
       "        vertical-align: top;\n",
       "    }\n",
       "\n",
       "    .dataframe thead th {\n",
       "        text-align: right;\n",
       "    }\n",
       "</style>\n",
       "<table border=\"1\" class=\"dataframe\">\n",
       "  <thead>\n",
       "    <tr style=\"text-align: right;\">\n",
       "      <th></th>\n",
       "      <th>BATHRM</th>\n",
       "      <th>HF_BATHRM</th>\n",
       "      <th>NUM_UNITS</th>\n",
       "      <th>ROOMS</th>\n",
       "      <th>BEDRM</th>\n",
       "      <th>AYB</th>\n",
       "      <th>YR_RMDL</th>\n",
       "      <th>EYB</th>\n",
       "      <th>STORIES</th>\n",
       "      <th>SALE_NUM</th>\n",
       "      <th>...</th>\n",
       "      <th>INTWALL_Vinyl Comp</th>\n",
       "      <th>INTWALL_Vinyl Sheet</th>\n",
       "      <th>INTWALL_Wood Floor</th>\n",
       "      <th>WARD_Ward 2</th>\n",
       "      <th>WARD_Ward 3</th>\n",
       "      <th>WARD_Ward 4</th>\n",
       "      <th>WARD_Ward 5</th>\n",
       "      <th>WARD_Ward 6</th>\n",
       "      <th>WARD_Ward 7</th>\n",
       "      <th>WARD_Ward 8</th>\n",
       "    </tr>\n",
       "  </thead>\n",
       "  <tbody>\n",
       "    <tr>\n",
       "      <th>0</th>\n",
       "      <td>3</td>\n",
       "      <td>1</td>\n",
       "      <td>1.0</td>\n",
       "      <td>7</td>\n",
       "      <td>3</td>\n",
       "      <td>1900.0</td>\n",
       "      <td>2009.0</td>\n",
       "      <td>1986</td>\n",
       "      <td>3.0</td>\n",
       "      <td>1</td>\n",
       "      <td>...</td>\n",
       "      <td>0</td>\n",
       "      <td>0</td>\n",
       "      <td>0</td>\n",
       "      <td>1</td>\n",
       "      <td>0</td>\n",
       "      <td>0</td>\n",
       "      <td>0</td>\n",
       "      <td>0</td>\n",
       "      <td>0</td>\n",
       "      <td>0</td>\n",
       "    </tr>\n",
       "    <tr>\n",
       "      <th>1</th>\n",
       "      <td>2</td>\n",
       "      <td>0</td>\n",
       "      <td>1.0</td>\n",
       "      <td>6</td>\n",
       "      <td>3</td>\n",
       "      <td>1923.0</td>\n",
       "      <td>2004.0</td>\n",
       "      <td>1964</td>\n",
       "      <td>2.0</td>\n",
       "      <td>1</td>\n",
       "      <td>...</td>\n",
       "      <td>0</td>\n",
       "      <td>0</td>\n",
       "      <td>0</td>\n",
       "      <td>0</td>\n",
       "      <td>0</td>\n",
       "      <td>1</td>\n",
       "      <td>0</td>\n",
       "      <td>0</td>\n",
       "      <td>0</td>\n",
       "      <td>0</td>\n",
       "    </tr>\n",
       "    <tr>\n",
       "      <th>2</th>\n",
       "      <td>3</td>\n",
       "      <td>0</td>\n",
       "      <td>1.0</td>\n",
       "      <td>8</td>\n",
       "      <td>4</td>\n",
       "      <td>1920.0</td>\n",
       "      <td>2004.0</td>\n",
       "      <td>1964</td>\n",
       "      <td>2.0</td>\n",
       "      <td>1</td>\n",
       "      <td>...</td>\n",
       "      <td>0</td>\n",
       "      <td>0</td>\n",
       "      <td>0</td>\n",
       "      <td>0</td>\n",
       "      <td>0</td>\n",
       "      <td>1</td>\n",
       "      <td>0</td>\n",
       "      <td>0</td>\n",
       "      <td>0</td>\n",
       "      <td>0</td>\n",
       "    </tr>\n",
       "    <tr>\n",
       "      <th>3</th>\n",
       "      <td>2</td>\n",
       "      <td>1</td>\n",
       "      <td>2.0</td>\n",
       "      <td>7</td>\n",
       "      <td>4</td>\n",
       "      <td>1939.0</td>\n",
       "      <td>1950.0</td>\n",
       "      <td>1950</td>\n",
       "      <td>2.0</td>\n",
       "      <td>2</td>\n",
       "      <td>...</td>\n",
       "      <td>0</td>\n",
       "      <td>0</td>\n",
       "      <td>0</td>\n",
       "      <td>0</td>\n",
       "      <td>1</td>\n",
       "      <td>0</td>\n",
       "      <td>0</td>\n",
       "      <td>0</td>\n",
       "      <td>0</td>\n",
       "      <td>0</td>\n",
       "    </tr>\n",
       "    <tr>\n",
       "      <th>4</th>\n",
       "      <td>3</td>\n",
       "      <td>1</td>\n",
       "      <td>1.0</td>\n",
       "      <td>7</td>\n",
       "      <td>4</td>\n",
       "      <td>2010.0</td>\n",
       "      <td>2013.0</td>\n",
       "      <td>2013</td>\n",
       "      <td>3.0</td>\n",
       "      <td>1</td>\n",
       "      <td>...</td>\n",
       "      <td>0</td>\n",
       "      <td>0</td>\n",
       "      <td>0</td>\n",
       "      <td>0</td>\n",
       "      <td>0</td>\n",
       "      <td>0</td>\n",
       "      <td>0</td>\n",
       "      <td>0</td>\n",
       "      <td>0</td>\n",
       "      <td>1</td>\n",
       "    </tr>\n",
       "  </tbody>\n",
       "</table>\n",
       "<p>5 rows × 129 columns</p>\n",
       "</div>"
      ],
      "text/plain": [
       "   BATHRM  HF_BATHRM  NUM_UNITS  ROOMS  BEDRM     AYB  YR_RMDL   EYB  STORIES  \\\n",
       "0       3          1        1.0      7      3  1900.0   2009.0  1986      3.0   \n",
       "1       2          0        1.0      6      3  1923.0   2004.0  1964      2.0   \n",
       "2       3          0        1.0      8      4  1920.0   2004.0  1964      2.0   \n",
       "3       2          1        2.0      7      4  1939.0   1950.0  1950      2.0   \n",
       "4       3          1        1.0      7      4  2010.0   2013.0  2013      3.0   \n",
       "\n",
       "   SALE_NUM  ...  INTWALL_Vinyl Comp  INTWALL_Vinyl Sheet  INTWALL_Wood Floor  \\\n",
       "0         1  ...                   0                    0                   0   \n",
       "1         1  ...                   0                    0                   0   \n",
       "2         1  ...                   0                    0                   0   \n",
       "3         2  ...                   0                    0                   0   \n",
       "4         1  ...                   0                    0                   0   \n",
       "\n",
       "   WARD_Ward 2  WARD_Ward 3  WARD_Ward 4  WARD_Ward 5  WARD_Ward 6  \\\n",
       "0            1            0            0            0            0   \n",
       "1            0            0            1            0            0   \n",
       "2            0            0            1            0            0   \n",
       "3            0            1            0            0            0   \n",
       "4            0            0            0            0            0   \n",
       "\n",
       "   WARD_Ward 7  WARD_Ward 8  \n",
       "0            0            0  \n",
       "1            0            0  \n",
       "2            0            0  \n",
       "3            0            0  \n",
       "4            0            1  \n",
       "\n",
       "[5 rows x 129 columns]"
      ]
     },
     "metadata": {},
     "output_type": "display_data"
    }
   ],
   "source": [
    "demo = pd.read_csv('demo.csv')\n",
    "demo.drop(['Unnamed: 0'], axis =1, inplace=True)\n",
    "demo"
   ]
  },
  {
   "cell_type": "code",
   "execution_count": null,
   "metadata": {},
   "outputs": [
    {
     "data": {
      "text/html": [
       "<div>\n",
       "<style scoped>\n",
       "    .dataframe tbody tr th:only-of-type {\n",
       "        vertical-align: middle;\n",
       "    }\n",
       "\n",
       "    .dataframe tbody tr th {\n",
       "        vertical-align: top;\n",
       "    }\n",
       "\n",
       "    .dataframe thead th {\n",
       "        text-align: right;\n",
       "    }\n",
       "</style>\n",
       "<table border=\"1\" class=\"dataframe\">\n",
       "  <thead>\n",
       "    <tr style=\"text-align: right;\">\n",
       "      <th></th>\n",
       "      <th>PREDICT_PRICE</th>\n",
       "    </tr>\n",
       "  </thead>\n",
       "  <tbody>\n",
       "    <tr>\n",
       "      <th>0</th>\n",
       "      <td>901592.724707</td>\n",
       "    </tr>\n",
       "    <tr>\n",
       "      <th>1</th>\n",
       "      <td>415670.028386</td>\n",
       "    </tr>\n",
       "    <tr>\n",
       "      <th>2</th>\n",
       "      <td>348661.844096</td>\n",
       "    </tr>\n",
       "    <tr>\n",
       "      <th>3</th>\n",
       "      <td>911570.310543</td>\n",
       "    </tr>\n",
       "    <tr>\n",
       "      <th>4</th>\n",
       "      <td>344606.466561</td>\n",
       "    </tr>\n",
       "  </tbody>\n",
       "</table>\n",
       "</div>"
      ],
      "text/plain": [
       "   PREDICT_PRICE\n",
       "0  901592.724707\n",
       "1  415670.028386\n",
       "2  348661.844096\n",
       "3  911570.310543\n",
       "4  344606.466561"
      ]
     },
     "metadata": {},
     "output_type": "display_data"
    }
   ],
   "source": [
    "predict= pd.DataFrame(loaded_model.predict(demo))\n",
    "predict.columns = ['PREDICT_PRICE']\n",
    "predict['PREDICT_PRICE'] = predict['PREDICT_PRICE']**3\n",
    "predict"
   ]
  },
  {
   "cell_type": "code",
   "execution_count": null,
   "metadata": {},
   "outputs": [
    {
     "data": {
      "text/html": [
       "<div>\n",
       "<style scoped>\n",
       "    .dataframe tbody tr th:only-of-type {\n",
       "        vertical-align: middle;\n",
       "    }\n",
       "\n",
       "    .dataframe tbody tr th {\n",
       "        vertical-align: top;\n",
       "    }\n",
       "\n",
       "    .dataframe thead th {\n",
       "        text-align: right;\n",
       "    }\n",
       "</style>\n",
       "<table border=\"1\" class=\"dataframe\">\n",
       "  <thead>\n",
       "    <tr style=\"text-align: right;\">\n",
       "      <th></th>\n",
       "      <th>BATHRM</th>\n",
       "      <th>HF_BATHRM</th>\n",
       "      <th>NUM_UNITS</th>\n",
       "      <th>ROOMS</th>\n",
       "      <th>BEDRM</th>\n",
       "      <th>AYB</th>\n",
       "      <th>YR_RMDL</th>\n",
       "      <th>EYB</th>\n",
       "      <th>STORIES</th>\n",
       "      <th>SALE_NUM</th>\n",
       "      <th>...</th>\n",
       "      <th>INTWALL_Vinyl Sheet</th>\n",
       "      <th>INTWALL_Wood Floor</th>\n",
       "      <th>WARD_Ward 2</th>\n",
       "      <th>WARD_Ward 3</th>\n",
       "      <th>WARD_Ward 4</th>\n",
       "      <th>WARD_Ward 5</th>\n",
       "      <th>WARD_Ward 6</th>\n",
       "      <th>WARD_Ward 7</th>\n",
       "      <th>WARD_Ward 8</th>\n",
       "      <th>PREDICT_PRICE</th>\n",
       "    </tr>\n",
       "  </thead>\n",
       "  <tbody>\n",
       "    <tr>\n",
       "      <th>0</th>\n",
       "      <td>3</td>\n",
       "      <td>1</td>\n",
       "      <td>1.0</td>\n",
       "      <td>7</td>\n",
       "      <td>3</td>\n",
       "      <td>1900.0</td>\n",
       "      <td>2009.0</td>\n",
       "      <td>1986</td>\n",
       "      <td>3.0</td>\n",
       "      <td>1</td>\n",
       "      <td>...</td>\n",
       "      <td>0</td>\n",
       "      <td>0</td>\n",
       "      <td>1</td>\n",
       "      <td>0</td>\n",
       "      <td>0</td>\n",
       "      <td>0</td>\n",
       "      <td>0</td>\n",
       "      <td>0</td>\n",
       "      <td>0</td>\n",
       "      <td>901592.724707</td>\n",
       "    </tr>\n",
       "    <tr>\n",
       "      <th>1</th>\n",
       "      <td>2</td>\n",
       "      <td>0</td>\n",
       "      <td>1.0</td>\n",
       "      <td>6</td>\n",
       "      <td>3</td>\n",
       "      <td>1923.0</td>\n",
       "      <td>2004.0</td>\n",
       "      <td>1964</td>\n",
       "      <td>2.0</td>\n",
       "      <td>1</td>\n",
       "      <td>...</td>\n",
       "      <td>0</td>\n",
       "      <td>0</td>\n",
       "      <td>0</td>\n",
       "      <td>0</td>\n",
       "      <td>1</td>\n",
       "      <td>0</td>\n",
       "      <td>0</td>\n",
       "      <td>0</td>\n",
       "      <td>0</td>\n",
       "      <td>415670.028386</td>\n",
       "    </tr>\n",
       "    <tr>\n",
       "      <th>2</th>\n",
       "      <td>3</td>\n",
       "      <td>0</td>\n",
       "      <td>1.0</td>\n",
       "      <td>8</td>\n",
       "      <td>4</td>\n",
       "      <td>1920.0</td>\n",
       "      <td>2004.0</td>\n",
       "      <td>1964</td>\n",
       "      <td>2.0</td>\n",
       "      <td>1</td>\n",
       "      <td>...</td>\n",
       "      <td>0</td>\n",
       "      <td>0</td>\n",
       "      <td>0</td>\n",
       "      <td>0</td>\n",
       "      <td>1</td>\n",
       "      <td>0</td>\n",
       "      <td>0</td>\n",
       "      <td>0</td>\n",
       "      <td>0</td>\n",
       "      <td>348661.844096</td>\n",
       "    </tr>\n",
       "    <tr>\n",
       "      <th>3</th>\n",
       "      <td>2</td>\n",
       "      <td>1</td>\n",
       "      <td>2.0</td>\n",
       "      <td>7</td>\n",
       "      <td>4</td>\n",
       "      <td>1939.0</td>\n",
       "      <td>1950.0</td>\n",
       "      <td>1950</td>\n",
       "      <td>2.0</td>\n",
       "      <td>2</td>\n",
       "      <td>...</td>\n",
       "      <td>0</td>\n",
       "      <td>0</td>\n",
       "      <td>0</td>\n",
       "      <td>1</td>\n",
       "      <td>0</td>\n",
       "      <td>0</td>\n",
       "      <td>0</td>\n",
       "      <td>0</td>\n",
       "      <td>0</td>\n",
       "      <td>911570.310543</td>\n",
       "    </tr>\n",
       "    <tr>\n",
       "      <th>4</th>\n",
       "      <td>3</td>\n",
       "      <td>1</td>\n",
       "      <td>1.0</td>\n",
       "      <td>7</td>\n",
       "      <td>4</td>\n",
       "      <td>2010.0</td>\n",
       "      <td>2013.0</td>\n",
       "      <td>2013</td>\n",
       "      <td>3.0</td>\n",
       "      <td>1</td>\n",
       "      <td>...</td>\n",
       "      <td>0</td>\n",
       "      <td>0</td>\n",
       "      <td>0</td>\n",
       "      <td>0</td>\n",
       "      <td>0</td>\n",
       "      <td>0</td>\n",
       "      <td>0</td>\n",
       "      <td>0</td>\n",
       "      <td>1</td>\n",
       "      <td>344606.466561</td>\n",
       "    </tr>\n",
       "  </tbody>\n",
       "</table>\n",
       "<p>5 rows × 130 columns</p>\n",
       "</div>"
      ],
      "text/plain": [
       "   BATHRM  HF_BATHRM  NUM_UNITS  ROOMS  BEDRM     AYB  YR_RMDL   EYB  STORIES  \\\n",
       "0       3          1        1.0      7      3  1900.0   2009.0  1986      3.0   \n",
       "1       2          0        1.0      6      3  1923.0   2004.0  1964      2.0   \n",
       "2       3          0        1.0      8      4  1920.0   2004.0  1964      2.0   \n",
       "3       2          1        2.0      7      4  1939.0   1950.0  1950      2.0   \n",
       "4       3          1        1.0      7      4  2010.0   2013.0  2013      3.0   \n",
       "\n",
       "   SALE_NUM  ...  INTWALL_Vinyl Sheet  INTWALL_Wood Floor  WARD_Ward 2  \\\n",
       "0         1  ...                    0                   0            1   \n",
       "1         1  ...                    0                   0            0   \n",
       "2         1  ...                    0                   0            0   \n",
       "3         2  ...                    0                   0            0   \n",
       "4         1  ...                    0                   0            0   \n",
       "\n",
       "   WARD_Ward 3  WARD_Ward 4  WARD_Ward 5  WARD_Ward 6  WARD_Ward 7  \\\n",
       "0            0            0            0            0            0   \n",
       "1            0            1            0            0            0   \n",
       "2            0            1            0            0            0   \n",
       "3            1            0            0            0            0   \n",
       "4            0            0            0            0            0   \n",
       "\n",
       "   WARD_Ward 8  PREDICT_PRICE  \n",
       "0            0  901592.724707  \n",
       "1            0  415670.028386  \n",
       "2            0  348661.844096  \n",
       "3            0  911570.310543  \n",
       "4            1  344606.466561  \n",
       "\n",
       "[5 rows x 130 columns]"
      ]
     },
     "metadata": {},
     "output_type": "display_data"
    }
   ],
   "source": [
    "result = pd.concat([demo,predict], axis=1)\n",
    "result"
   ]
  },
  {
   "cell_type": "markdown",
   "metadata": {},
   "source": [
    "### OLS/LinearRegression with Drop"
   ]
  },
  {
   "cell_type": "code",
   "execution_count": 8,
   "metadata": {},
   "outputs": [
    {
     "data": {
      "text/plain": [
       "0.5097570791774698"
      ]
     },
     "execution_count": 8,
     "metadata": {},
     "output_type": "execute_result"
    }
   ],
   "source": [
    "reg = LinearRegression().fit(X_test, y_test)\n",
    "reg.score(X_test, y_test)"
   ]
  },
  {
   "cell_type": "code",
   "execution_count": 9,
   "metadata": {},
   "outputs": [
    {
     "name": "stdout",
     "output_type": "stream",
     "text": [
      "Model Performance\n",
      "R2: 0.4144239339435287\n",
      "Mean_Absolute_Error: 7.8337957350136005\n",
      "Mean_Squared_Error: 188.60770007667975\n",
      "RMSE: 13.733451863121658\n"
     ]
    },
    {
     "data": {
      "text/html": [
       "<table class=\"simpletable\">\n",
       "<caption>OLS Regression Results</caption>\n",
       "<tr>\n",
       "  <th>Dep. Variable:</th>          <td>PRICE</td>      <th>  R-squared:         </th>  <td>   0.430</td>  \n",
       "</tr>\n",
       "<tr>\n",
       "  <th>Model:</th>                   <td>OLS</td>       <th>  Adj. R-squared:    </th>  <td>   0.430</td>  \n",
       "</tr>\n",
       "<tr>\n",
       "  <th>Method:</th>             <td>Least Squares</td>  <th>  F-statistic:       </th>  <td>   1062.</td>  \n",
       "</tr>\n",
       "<tr>\n",
       "  <th>Date:</th>             <td>Fri, 04 Feb 2022</td> <th>  Prob (F-statistic):</th>   <td>  0.00</td>   \n",
       "</tr>\n",
       "<tr>\n",
       "  <th>Time:</th>                 <td>22:15:24</td>     <th>  Log-Likelihood:    </th> <td>-1.2456e+05</td>\n",
       "</tr>\n",
       "<tr>\n",
       "  <th>No. Observations:</th>      <td> 30965</td>      <th>  AIC:               </th>  <td>2.492e+05</td> \n",
       "</tr>\n",
       "<tr>\n",
       "  <th>Df Residuals:</th>          <td> 30942</td>      <th>  BIC:               </th>  <td>2.493e+05</td> \n",
       "</tr>\n",
       "<tr>\n",
       "  <th>Df Model:</th>              <td>    22</td>      <th>                     </th>      <td> </td>     \n",
       "</tr>\n",
       "<tr>\n",
       "  <th>Covariance Type:</th>      <td>nonrobust</td>    <th>                     </th>      <td> </td>     \n",
       "</tr>\n",
       "</table>\n",
       "<table class=\"simpletable\">\n",
       "<tr>\n",
       "           <td></td>              <th>coef</th>     <th>std err</th>      <th>t</th>      <th>P>|t|</th>  <th>[0.025</th>    <th>0.975]</th>  \n",
       "</tr>\n",
       "<tr>\n",
       "  <th>BATHRM</th>              <td>    3.5929</td> <td>    0.228</td> <td>   15.747</td> <td> 0.000</td> <td>    3.146</td> <td>    4.040</td>\n",
       "</tr>\n",
       "<tr>\n",
       "  <th>ROOMS</th>               <td>   -1.1694</td> <td>    0.145</td> <td>   -8.085</td> <td> 0.000</td> <td>   -1.453</td> <td>   -0.886</td>\n",
       "</tr>\n",
       "<tr>\n",
       "  <th>BEDRM</th>               <td>    1.3788</td> <td>    0.208</td> <td>    6.615</td> <td> 0.000</td> <td>    0.970</td> <td>    1.787</td>\n",
       "</tr>\n",
       "<tr>\n",
       "  <th>AYB</th>                 <td>    0.0363</td> <td>    0.004</td> <td>   10.209</td> <td> 0.000</td> <td>    0.029</td> <td>    0.043</td>\n",
       "</tr>\n",
       "<tr>\n",
       "  <th>YR_RMDL</th>             <td>   -0.0366</td> <td>    0.004</td> <td>   -8.584</td> <td> 0.000</td> <td>   -0.045</td> <td>   -0.028</td>\n",
       "</tr>\n",
       "<tr>\n",
       "  <th>EYB</th>                 <td>    0.0964</td> <td>    0.005</td> <td>   21.002</td> <td> 0.000</td> <td>    0.087</td> <td>    0.105</td>\n",
       "</tr>\n",
       "<tr>\n",
       "  <th>SALE_NUM</th>            <td>    1.7349</td> <td>    0.060</td> <td>   28.902</td> <td> 0.000</td> <td>    1.617</td> <td>    1.853</td>\n",
       "</tr>\n",
       "<tr>\n",
       "  <th>USECODE</th>             <td>   -5.1876</td> <td>    0.210</td> <td>  -24.656</td> <td> 0.000</td> <td>   -5.600</td> <td>   -4.775</td>\n",
       "</tr>\n",
       "<tr>\n",
       "  <th>LANDAREA</th>            <td>   -0.0098</td> <td>    0.000</td> <td>  -38.321</td> <td> 0.000</td> <td>   -0.010</td> <td>   -0.009</td>\n",
       "</tr>\n",
       "<tr>\n",
       "  <th>LIVING_GBA</th>          <td>    0.0243</td> <td>    0.000</td> <td>   62.453</td> <td> 0.000</td> <td>    0.024</td> <td>    0.025</td>\n",
       "</tr>\n",
       "<tr>\n",
       "  <th>SalevYB</th>             <td>    0.0805</td> <td>    0.004</td> <td>   18.724</td> <td> 0.000</td> <td>    0.072</td> <td>    0.089</td>\n",
       "</tr>\n",
       "<tr>\n",
       "  <th>SalevYI</th>             <td>    0.0204</td> <td>    0.004</td> <td>    5.589</td> <td> 0.000</td> <td>    0.013</td> <td>    0.027</td>\n",
       "</tr>\n",
       "<tr>\n",
       "  <th>HEAT_Air-Oil</th>        <td> 4.566e-14</td> <td> 4.83e-15</td> <td>    9.448</td> <td> 0.000</td> <td> 3.62e-14</td> <td> 5.51e-14</td>\n",
       "</tr>\n",
       "<tr>\n",
       "  <th>HEAT_Elec Base Brd</th>  <td> -3.92e-14</td> <td> 4.38e-15</td> <td>   -8.956</td> <td> 0.000</td> <td>-4.78e-14</td> <td>-3.06e-14</td>\n",
       "</tr>\n",
       "<tr>\n",
       "  <th>HEAT_Electric Rad</th>   <td>-3.862e-14</td> <td> 3.52e-15</td> <td>  -10.975</td> <td> 0.000</td> <td>-4.55e-14</td> <td>-3.17e-14</td>\n",
       "</tr>\n",
       "<tr>\n",
       "  <th>HEAT_Evp Cool</th>       <td>  7.19e-14</td> <td> 6.13e-15</td> <td>   11.720</td> <td> 0.000</td> <td> 5.99e-14</td> <td> 8.39e-14</td>\n",
       "</tr>\n",
       "<tr>\n",
       "  <th>HEAT_Forced Air</th>     <td>  -58.1227</td> <td>    5.453</td> <td>  -10.659</td> <td> 0.000</td> <td>  -68.810</td> <td>  -47.435</td>\n",
       "</tr>\n",
       "<tr>\n",
       "  <th>HEAT_Gravity Furnac</th> <td> 3.924e-14</td> <td> 3.63e-15</td> <td>   10.802</td> <td> 0.000</td> <td> 3.21e-14</td> <td> 4.64e-14</td>\n",
       "</tr>\n",
       "<tr>\n",
       "  <th>HEAT_Hot Water Rad</th>  <td>  -58.0609</td> <td>    5.471</td> <td>  -10.612</td> <td> 0.000</td> <td>  -68.785</td> <td>  -47.337</td>\n",
       "</tr>\n",
       "<tr>\n",
       "  <th>HEAT_Ht Pump</th>        <td>  -55.8519</td> <td>    5.453</td> <td>  -10.243</td> <td> 0.000</td> <td>  -66.540</td> <td>  -45.164</td>\n",
       "</tr>\n",
       "<tr>\n",
       "  <th>HEAT_Ind Unit</th>       <td> 2.914e-14</td> <td> 2.72e-15</td> <td>   10.694</td> <td> 0.000</td> <td> 2.38e-14</td> <td> 3.45e-14</td>\n",
       "</tr>\n",
       "<tr>\n",
       "  <th>HEAT_Wall Furnace</th>   <td> 1.217e-13</td> <td> 1.14e-14</td> <td>   10.726</td> <td> 0.000</td> <td> 9.95e-14</td> <td> 1.44e-13</td>\n",
       "</tr>\n",
       "<tr>\n",
       "  <th>HEAT_Warm Cool</th>      <td>  -61.3257</td> <td>    5.455</td> <td>  -11.243</td> <td> 0.000</td> <td>  -72.017</td> <td>  -50.634</td>\n",
       "</tr>\n",
       "<tr>\n",
       "  <th>AC_1</th>                <td>    3.3200</td> <td>    0.422</td> <td>    7.871</td> <td> 0.000</td> <td>    2.493</td> <td>    4.147</td>\n",
       "</tr>\n",
       "<tr>\n",
       "  <th>QUALIFIED_U</th>         <td>    1.2147</td> <td>    0.184</td> <td>    6.619</td> <td> 0.000</td> <td>    0.855</td> <td>    1.574</td>\n",
       "</tr>\n",
       "<tr>\n",
       "  <th>WARD_Ward 3</th>         <td>   -3.2238</td> <td>    0.244</td> <td>  -13.204</td> <td> 0.000</td> <td>   -3.702</td> <td>   -2.745</td>\n",
       "</tr>\n",
       "<tr>\n",
       "  <th>WARD_Ward 4</th>         <td>   -7.5001</td> <td>    0.416</td> <td>  -18.022</td> <td> 0.000</td> <td>   -8.316</td> <td>   -6.684</td>\n",
       "</tr>\n",
       "<tr>\n",
       "  <th>WARD_Ward 5</th>         <td>   -8.5441</td> <td>    0.351</td> <td>  -24.329</td> <td> 0.000</td> <td>   -9.232</td> <td>   -7.856</td>\n",
       "</tr>\n",
       "<tr>\n",
       "  <th>WARD_Ward 6</th>         <td>   -2.1910</td> <td>    0.227</td> <td>   -9.659</td> <td> 0.000</td> <td>   -2.636</td> <td>   -1.746</td>\n",
       "</tr>\n",
       "<tr>\n",
       "  <th>WARD_Ward 7</th>         <td>  -15.9817</td> <td>    0.466</td> <td>  -34.266</td> <td> 0.000</td> <td>  -16.896</td> <td>  -15.068</td>\n",
       "</tr>\n",
       "<tr>\n",
       "  <th>WARD_Ward 8</th>         <td>  -11.8004</td> <td>    0.447</td> <td>  -26.391</td> <td> 0.000</td> <td>  -12.677</td> <td>  -10.924</td>\n",
       "</tr>\n",
       "</table>\n",
       "<table class=\"simpletable\">\n",
       "<tr>\n",
       "  <th>Omnibus:</th>       <td>26315.563</td> <th>  Durbin-Watson:     </th>  <td>   1.992</td>  \n",
       "</tr>\n",
       "<tr>\n",
       "  <th>Prob(Omnibus):</th>  <td> 0.000</td>   <th>  Jarque-Bera (JB):  </th> <td>1858481.311</td>\n",
       "</tr>\n",
       "<tr>\n",
       "  <th>Skew:</th>           <td> 3.699</td>   <th>  Prob(JB):          </th>  <td>    0.00</td>  \n",
       "</tr>\n",
       "<tr>\n",
       "  <th>Kurtosis:</th>       <td>40.225</td>   <th>  Cond. No.          </th>  <td>1.06e+16</td>  \n",
       "</tr>\n",
       "</table><br/><br/>Notes:<br/>[1] Standard Errors assume that the covariance matrix of the errors is correctly specified.<br/>[2] The smallest eigenvalue is 3.48e-21. This might indicate that there are<br/>strong multicollinearity problems or that the design matrix is singular."
      ],
      "text/plain": [
       "<class 'statsmodels.iolib.summary.Summary'>\n",
       "\"\"\"\n",
       "                            OLS Regression Results                            \n",
       "==============================================================================\n",
       "Dep. Variable:                  PRICE   R-squared:                       0.430\n",
       "Model:                            OLS   Adj. R-squared:                  0.430\n",
       "Method:                 Least Squares   F-statistic:                     1062.\n",
       "Date:                Fri, 04 Feb 2022   Prob (F-statistic):               0.00\n",
       "Time:                        22:15:24   Log-Likelihood:            -1.2456e+05\n",
       "No. Observations:               30965   AIC:                         2.492e+05\n",
       "Df Residuals:                   30942   BIC:                         2.493e+05\n",
       "Df Model:                          22                                         \n",
       "Covariance Type:            nonrobust                                         \n",
       "=======================================================================================\n",
       "                          coef    std err          t      P>|t|      [0.025      0.975]\n",
       "---------------------------------------------------------------------------------------\n",
       "BATHRM                  3.5929      0.228     15.747      0.000       3.146       4.040\n",
       "ROOMS                  -1.1694      0.145     -8.085      0.000      -1.453      -0.886\n",
       "BEDRM                   1.3788      0.208      6.615      0.000       0.970       1.787\n",
       "AYB                     0.0363      0.004     10.209      0.000       0.029       0.043\n",
       "YR_RMDL                -0.0366      0.004     -8.584      0.000      -0.045      -0.028\n",
       "EYB                     0.0964      0.005     21.002      0.000       0.087       0.105\n",
       "SALE_NUM                1.7349      0.060     28.902      0.000       1.617       1.853\n",
       "USECODE                -5.1876      0.210    -24.656      0.000      -5.600      -4.775\n",
       "LANDAREA               -0.0098      0.000    -38.321      0.000      -0.010      -0.009\n",
       "LIVING_GBA              0.0243      0.000     62.453      0.000       0.024       0.025\n",
       "SalevYB                 0.0805      0.004     18.724      0.000       0.072       0.089\n",
       "SalevYI                 0.0204      0.004      5.589      0.000       0.013       0.027\n",
       "HEAT_Air-Oil         4.566e-14   4.83e-15      9.448      0.000    3.62e-14    5.51e-14\n",
       "HEAT_Elec Base Brd   -3.92e-14   4.38e-15     -8.956      0.000   -4.78e-14   -3.06e-14\n",
       "HEAT_Electric Rad   -3.862e-14   3.52e-15    -10.975      0.000   -4.55e-14   -3.17e-14\n",
       "HEAT_Evp Cool         7.19e-14   6.13e-15     11.720      0.000    5.99e-14    8.39e-14\n",
       "HEAT_Forced Air       -58.1227      5.453    -10.659      0.000     -68.810     -47.435\n",
       "HEAT_Gravity Furnac  3.924e-14   3.63e-15     10.802      0.000    3.21e-14    4.64e-14\n",
       "HEAT_Hot Water Rad    -58.0609      5.471    -10.612      0.000     -68.785     -47.337\n",
       "HEAT_Ht Pump          -55.8519      5.453    -10.243      0.000     -66.540     -45.164\n",
       "HEAT_Ind Unit        2.914e-14   2.72e-15     10.694      0.000    2.38e-14    3.45e-14\n",
       "HEAT_Wall Furnace    1.217e-13   1.14e-14     10.726      0.000    9.95e-14    1.44e-13\n",
       "HEAT_Warm Cool        -61.3257      5.455    -11.243      0.000     -72.017     -50.634\n",
       "AC_1                    3.3200      0.422      7.871      0.000       2.493       4.147\n",
       "QUALIFIED_U             1.2147      0.184      6.619      0.000       0.855       1.574\n",
       "WARD_Ward 3            -3.2238      0.244    -13.204      0.000      -3.702      -2.745\n",
       "WARD_Ward 4            -7.5001      0.416    -18.022      0.000      -8.316      -6.684\n",
       "WARD_Ward 5            -8.5441      0.351    -24.329      0.000      -9.232      -7.856\n",
       "WARD_Ward 6            -2.1910      0.227     -9.659      0.000      -2.636      -1.746\n",
       "WARD_Ward 7           -15.9817      0.466    -34.266      0.000     -16.896     -15.068\n",
       "WARD_Ward 8           -11.8004      0.447    -26.391      0.000     -12.677     -10.924\n",
       "==============================================================================\n",
       "Omnibus:                    26315.563   Durbin-Watson:                   1.992\n",
       "Prob(Omnibus):                  0.000   Jarque-Bera (JB):          1858481.311\n",
       "Skew:                           3.699   Prob(JB):                         0.00\n",
       "Kurtosis:                      40.225   Cond. No.                     1.06e+16\n",
       "==============================================================================\n",
       "\n",
       "Notes:\n",
       "[1] Standard Errors assume that the covariance matrix of the errors is correctly specified.\n",
       "[2] The smallest eigenvalue is 3.48e-21. This might indicate that there are\n",
       "strong multicollinearity problems or that the design matrix is singular.\n",
       "\"\"\""
      ]
     },
     "execution_count": 9,
     "metadata": {},
     "output_type": "execute_result"
    }
   ],
   "source": [
    "drop_res = ['WARD_Ward 2', 'FIREPLACES', 'HEAT_Water Base Brd', 'HF_BATHRM']\n",
    "\n",
    "#Drop insignificant variables and rerun the ols model\n",
    "X_train_ols = X_train.drop(drop_res, axis =1)\n",
    "X_test_ols = X_test.drop(drop_res, axis = 1)\n",
    "model = sm.OLS(y_train, X_train_ols.astype(float), hasconst=True).fit()\n",
    "\n",
    "# Print out the statistics\n",
    "# evaluate Accuracy\n",
    "\n",
    "evaluate(model, X_test_ols, y_test)\n",
    "model.summary()"
   ]
  },
  {
   "cell_type": "markdown",
   "metadata": {},
   "source": [
    "### DecisionTreeRegressor"
   ]
  },
  {
   "cell_type": "code",
   "execution_count": 27,
   "metadata": {},
   "outputs": [
    {
     "name": "stdout",
     "output_type": "stream",
     "text": [
      "Model Performance\n",
      "R2: 0.7666006403911337\n",
      "Mean_Absolute_Error: 4.6656443695909005\n",
      "Mean_Squared_Error: 75.17540242321469\n",
      "RMSE: 8.670374987462463\n"
     ]
    }
   ],
   "source": [
    "from sklearn.tree import DecisionTreeRegressor\n",
    "#regressor = DecisionTreeRegressor(max_depth=15)\n",
    "param_dist = {'max_depth': [1,20]}\n",
    "#regressor.fit(X_train, y_train)\n",
    "#regressor.score(X_train, y_train)\n",
    "DTR = DecisionTreeRegressor()\n",
    "DTR_cv = GridSearchCV(DTR, param_dist)\n",
    "\n",
    "DTR_cv.fit(X_train_ols, y_train)\n",
    "evaluate(DTR_cv.best_estimator_, X_test_ols, y_test)"
   ]
  },
  {
   "cell_type": "code",
   "execution_count": 28,
   "metadata": {},
   "outputs": [
    {
     "name": "stdout",
     "output_type": "stream",
     "text": [
      "DecisionTreeRegressor(max_depth=20)\n"
     ]
    }
   ],
   "source": [
    "print(DTR_cv.best_estimator_)"
   ]
  },
  {
   "cell_type": "markdown",
   "metadata": {},
   "source": [
    "### RandomForestRegressor"
   ]
  },
  {
   "cell_type": "code",
   "execution_count": 29,
   "metadata": {},
   "outputs": [
    {
     "name": "stdout",
     "output_type": "stream",
     "text": [
      "Model Performance\n",
      "R2: 0.8770198004904058\n",
      "Mean_Absolute_Error: 3.6472194392616757\n",
      "Mean_Squared_Error: 39.61058849396163\n",
      "RMSE: 6.293694343862088\n"
     ]
    }
   ],
   "source": [
    "from sklearn.ensemble import RandomForestRegressor\n",
    "from pprint import pprint\n",
    "\n",
    "# Create the parameter distribution\n",
    "param_dist = {'n_estimators': [int(x) for x in np.linspace(start = 100, stop = 500, num = 10)],\n",
    "               'max_features': ['auto', 'sqrt'],\n",
    "               'max_depth': [1, 20]}\n",
    "\n",
    "RFR = RandomForestRegressor()\n",
    "RFR_cv = RandomizedSearchCV(RFR, param_dist, scoring='neg_mean_absolute_error')\n",
    "RFR_cv.fit(X_train_ols, y_train)\n",
    "\n",
    "# RESULT\n",
    "evaluate(RFR_cv.best_estimator_, X_test_ols, y_test)"
   ]
  },
  {
   "cell_type": "code",
   "execution_count": 30,
   "metadata": {},
   "outputs": [
    {
     "name": "stdout",
     "output_type": "stream",
     "text": [
      "RandomForestRegressor(max_depth=20, max_features='sqrt', n_estimators=500)\n"
     ]
    }
   ],
   "source": [
    "print(RFR_cv.best_estimator_)"
   ]
  },
  {
   "cell_type": "code",
   "execution_count": 10,
   "metadata": {},
   "outputs": [],
   "source": [
    "from sklearn.ensemble import RandomForestRegressor\n",
    "from pprint import pprint\n",
    "\n",
    "rf = RandomForestRegressor(n_estimators=100)\n",
    "rf.fit(X_train_ols, y_train)\n",
    "importances = rf.feature_importances_\n",
    "std = np.std([tree.feature_importances_ for tree in rf.estimators_], axis=0)"
   ]
  },
  {
   "cell_type": "code",
   "execution_count": 12,
   "metadata": {},
   "outputs": [
    {
     "data": {
      "image/png": "[encoded data removed]",
      "text/plain": [
       "<Figure size 720x576 with 1 Axes>"
      ]
     },
     "metadata": {
      "needs_background": "light"
     },
     "output_type": "display_data"
    }
   ],
   "source": [
    "forest_importances = pd.Series(importances, index=df.columns[0:31])\n",
    "sorted_idx = rf.feature_importances_.argsort()\n",
    "\n",
    "fig, ax = plt.subplots(figsize=(10,8))\n",
    "forest_importances.sort_values().plot.barh(yerr=std, ax=ax)\n",
    "ax.set_title(\"Feature importances using CON_Handling\")\n",
    "ax.set_ylabel(\"Mean decrease in impurity\")\n",
    "fig.tight_layout()"
   ]
  },
  {
   "cell_type": "markdown",
   "metadata": {},
   "source": [
    "### Adaptive Boosting Decision Tree"
   ]
  },
  {
   "cell_type": "code",
   "execution_count": 31,
   "metadata": {},
   "outputs": [
    {
     "name": "stdout",
     "output_type": "stream",
     "text": [
      "Model Performance\n",
      "R2: 0.8589926085911037\n",
      "Mean_Absolute_Error: 3.8295821908440533\n",
      "Mean_Squared_Error: 45.416951492821696\n",
      "RMSE: 6.739210005098646\n"
     ]
    }
   ],
   "source": [
    "rng = np.random.RandomState(1)\n",
    "param_dist = {'n_estimators': [int(x) for x in np.linspace(start = 100, stop = 400, num = 10)]}\n",
    "\n",
    "\n",
    "ada = AdaBoostRegressor(DecisionTreeRegressor(random_state = rng), random_state = rng)\n",
    "ada_cv = RandomizedSearchCV(ada, param_dist, scoring='neg_mean_absolute_error')\n",
    "ada_cv.fit(X_train_ols, y_train)\n",
    "\n",
    "evaluate(ada_cv.best_estimator_, X_test_ols, y_test)"
   ]
  },
  {
   "cell_type": "code",
   "execution_count": 32,
   "metadata": {},
   "outputs": [
    {
     "name": "stdout",
     "output_type": "stream",
     "text": [
      "AdaBoostRegressor(base_estimator=DecisionTreeRegressor(random_state=RandomState(MT19937) at 0x1181015C940),\n",
      "                  n_estimators=100,\n",
      "                  random_state=RandomState(MT19937) at 0x1181015C640)\n"
     ]
    }
   ],
   "source": [
    "# Obtaining the best estimators from the model\n",
    "print(ada_cv.best_estimator_)"
   ]
  },
  {
   "cell_type": "markdown",
   "metadata": {},
   "source": [
    "### XGBRegressor"
   ]
  },
  {
   "cell_type": "code",
   "execution_count": 14,
   "metadata": {},
   "outputs": [],
   "source": [
    "from numpy import absolute\n",
    "from sklearn.model_selection import cross_val_score\n",
    "from sklearn.model_selection import RepeatedKFold\n",
    "from xgboost import XGBRegressor"
   ]
  },
  {
   "cell_type": "code",
   "execution_count": 15,
   "metadata": {},
   "outputs": [
    {
     "name": "stderr",
     "output_type": "stream",
     "text": [
      "C:\\Users\\user\\AppData\\Local\\Programs\\Python\\Python310\\lib\\site-packages\\xgboost\\data.py:262: FutureWarning: pandas.Int64Index is deprecated and will be removed from pandas in a future version. Use pandas.Index with the appropriate dtype instead.\n",
      "  elif isinstance(data.columns, (pd.Int64Index, pd.RangeIndex)):\n"
     ]
    },
    {
     "name": "stdout",
     "output_type": "stream",
     "text": [
      "Model Performance\n",
      "R2: 0.8735743019426696\n",
      "Mean_Absolute_Error: 3.972937232250383\n",
      "Mean_Squared_Error: 40.72034620841608\n",
      "RMSE: 6.381249580483127\n"
     ]
    }
   ],
   "source": [
    "xg_reg = xgb.XGBRegressor()\n",
    "xg_reg.fit(X_train_ols,y_train)\n",
    "evaluate(xg_reg, X_test_ols, y_test)"
   ]
  },
  {
   "cell_type": "markdown",
   "metadata": {},
   "source": [
    "### KNN"
   ]
  },
  {
   "cell_type": "code",
   "execution_count": 11,
   "metadata": {},
   "outputs": [
    {
     "name": "stderr",
     "output_type": "stream",
     "text": [
      "C:\\Users\\user\\AppData\\Local\\Programs\\Python\\Python310\\lib\\site-packages\\sklearn\\model_selection\\_search.py:292: UserWarning: The total space of parameters 4 is smaller than n_iter=10. Running 4 iterations. For exhaustive searches, use GridSearchCV.\n",
      "  warnings.warn(\n"
     ]
    },
    {
     "name": "stdout",
     "output_type": "stream",
     "text": [
      "Model Performance\n",
      "R2: 0.6952341052716416\n",
      "Mean_Absolute_Error: 5.622740628301968\n",
      "Mean_Squared_Error: 98.16178938738224\n",
      "RMSE: 9.90766316481249\n"
     ]
    }
   ],
   "source": [
    "from sklearn.neighbors import KNeighborsRegressor\n",
    "\n",
    "\n",
    "param_dist = {\"n_neighbors\": [3, 7],\n",
    "              \"weights\": [\"uniform\", \"distance\"]}\n",
    "\n",
    "KNR = KNeighborsRegressor()\n",
    "KNR_cv = RandomizedSearchCV(KNR, param_dist, scoring='neg_mean_absolute_error')\n",
    "\n",
    "KNR_cv.fit(X_train_ols, y_train)\n",
    "#KNR.score(X_train, y_train)\n",
    "\n",
    "evaluate(KNR_cv.best_estimator_, X_test_ols, y_test)"
   ]
  },
  {
   "cell_type": "code",
   "execution_count": 12,
   "metadata": {},
   "outputs": [
    {
     "name": "stdout",
     "output_type": "stream",
     "text": [
      "KNeighborsRegressor(n_neighbors=3, weights='distance')\n"
     ]
    }
   ],
   "source": [
    "print(KNR_cv.best_estimator_)"
   ]
  },
  {
   "cell_type": "markdown",
   "metadata": {},
   "source": [
    "### SVR"
   ]
  },
  {
   "cell_type": "code",
   "execution_count": 16,
   "metadata": {},
   "outputs": [
    {
     "name": "stdout",
     "output_type": "stream",
     "text": [
      "Model Performance\n",
      "R2: 0.3166560474721798\n",
      "Mean_Absolute_Error: 8.935960175138879\n",
      "Mean_Squared_Error: 220.0976759783601\n",
      "RMSE: 14.83568926536142\n"
     ]
    }
   ],
   "source": [
    "from sklearn.svm import SVR\n",
    "\n",
    "\n",
    "svr = SVR()\n",
    "svr.fit(X_train_ols, y_train)\n",
    "evaluate(svr, X_test_ols, y_test)"
   ]
  },
  {
   "cell_type": "markdown",
   "metadata": {},
   "source": [
    "### Ridge"
   ]
  },
  {
   "cell_type": "code",
   "execution_count": 35,
   "metadata": {},
   "outputs": [
    {
     "name": "stdout",
     "output_type": "stream",
     "text": [
      "Model Performance\n",
      "R2: 0.5069941903407649\n",
      "Mean_Absolute_Error: 6.766853114286645\n",
      "Mean_Squared_Error: 158.79182445155212\n",
      "RMSE: 12.6012628117801\n"
     ]
    }
   ],
   "source": [
    "from scipy.stats import uniform\n",
    "from sklearn.linear_model import Ridge\n",
    "from sklearn.model_selection import KFold\n",
    "\n",
    "\n",
    "param_grid = {'alpha': uniform()}\n",
    "seed=6\n",
    "model = Ridge()\n",
    "kfold = KFold(n_splits=8, random_state=seed, shuffle=True)\n",
    "rsearch = RandomizedSearchCV(estimator=model, param_distributions=param_grid, n_iter=100, cv=kfold, random_state=seed, scoring='neg_mean_absolute_error')\n",
    "rsearch.fit(X_train_ols, y_train)\n",
    "evaluate(rsearch, X_test_ols, y_test)"
   ]
  },
  {
   "cell_type": "code",
   "execution_count": 36,
   "metadata": {},
   "outputs": [
    {
     "name": "stdout",
     "output_type": "stream",
     "text": [
      "Ridge(alpha=0.9942074384219376)\n"
     ]
    }
   ],
   "source": [
    "print(rsearch.best_estimator_)"
   ]
  },
  {
   "cell_type": "code",
   "execution_count": 37,
   "metadata": {},
   "outputs": [
    {
     "name": "stdout",
     "output_type": "stream",
     "text": [
      "Model Performance\n",
      "R2: 0.5053963272147999\n",
      "Mean_Absolute_Error: 6.756872549973598\n",
      "Mean_Squared_Error: 159.3064788349786\n",
      "RMSE: 12.621667038667223\n"
     ]
    }
   ],
   "source": [
    "import random\n",
    "from sklearn.linear_model import Lasso\n",
    "\n",
    "param_grid = {'alpha': uniform()}\n",
    "seed=6\n",
    "model = Lasso()\n",
    "kfold = KFold(n_splits=8, random_state=seed, shuffle=True)\n",
    "rsearch = RandomizedSearchCV(estimator=model, param_distributions=param_grid, n_iter=100, cv=kfold, random_state=seed)\n",
    "rsearch.fit(X_train_ols, y_train)\n",
    "evaluate(rsearch, X_test_ols, y_test)"
   ]
  },
  {
   "cell_type": "code",
   "execution_count": 38,
   "metadata": {},
   "outputs": [
    {
     "name": "stdout",
     "output_type": "stream",
     "text": [
      "Lasso(alpha=0.036608530436010756)\n"
     ]
    }
   ],
   "source": [
    "print(rsearch.best_estimator_)"
   ]
  }
 ],
 "metadata": {
  "interpreter": {
   "hash": "c717e48f47dbf3882205ebaefec1a2b4f1b354b496a24c57e7aae83aa2cbf878"
  },
  "kernelspec": {
   "display_name": "Python 3.9.6 64-bit",
   "language": "python",
   "name": "python3"
  },
  "language_info": {
   "codemirror_mode": {
    "name": "ipython",
    "version": 3
   },
   "file_extension": ".py",
   "mimetype": "text/x-python",
   "name": "python",
   "nbconvert_exporter": "python",
   "pygments_lexer": "ipython3",
   "version": "3.10.2"
  },
  "orig_nbformat": 4
 },
 "nbformat": 4,
 "nbformat_minor": 2
}
