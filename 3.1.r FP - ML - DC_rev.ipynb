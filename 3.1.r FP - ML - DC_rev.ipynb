{
 "cells": [
  {
   "cell_type": "markdown",
   "metadata": {},
   "source": [
    "# MODELING"
   ]
  },
  {
   "cell_type": "code",
   "execution_count": 2,
   "metadata": {},
   "outputs": [
    {
     "name": "stderr",
     "output_type": "stream",
     "text": [
      "C:\\Users\\user\\AppData\\Local\\Programs\\Python\\Python310\\lib\\site-packages\\statsmodels\\compat\\pandas.py:65: FutureWarning: pandas.Int64Index is deprecated and will be removed from pandas in a future version. Use pandas.Index with the appropriate dtype instead.\n",
      "  from pandas import Int64Index as NumericIndex\n",
      "C:\\Users\\user\\AppData\\Local\\Programs\\Python\\Python310\\lib\\site-packages\\xgboost\\compat.py:36: FutureWarning: pandas.Int64Index is deprecated and will be removed from pandas in a future version. Use pandas.Index with the appropriate dtype instead.\n",
      "  from pandas import MultiIndex, Int64Index\n"
     ]
    }
   ],
   "source": [
    "\n",
    "import numpy as np \n",
    "import pandas as pd \n",
    "\n",
    "import statsmodels.api as sm\n",
    "import os\n",
    "import seaborn as sns\n",
    "import matplotlib.pyplot as plt\n",
    "from scipy import stats\n",
    "from sklearn.ensemble import AdaBoostRegressor\n",
    "from sklearn.preprocessing import scale\n",
    "from sklearn.preprocessing import StandardScaler\n",
    "from sklearn.preprocessing import PowerTransformer\n",
    "from sklearn.model_selection import RandomizedSearchCV\n",
    "from sklearn.model_selection import train_test_split, cross_val_score, StratifiedKFold, GridSearchCV, RandomizedSearchCV\n",
    "from sklearn.decomposition import PCA\n",
    "from sklearn.linear_model import LinearRegression\n",
    "from sklearn.tree import DecisionTreeRegressor\n",
    "import seaborn as sns\n",
    "from sklearn import metrics \n",
    "import xgboost as xgb\n",
    "\n",
    "\n"
   ]
  },
  {
   "cell_type": "markdown",
   "metadata": {},
   "source": [
    "## Load Dataset"
   ]
  },
  {
   "cell_type": "code",
   "execution_count": 3,
   "metadata": {},
   "outputs": [
    {
     "data": {
      "text/plain": [
       "(45851, 130)"
      ]
     },
     "execution_count": 3,
     "metadata": {},
     "output_type": "execute_result"
    }
   ],
   "source": [
    "df = pd.read_csv('Data/DC_Prop_Residential_Regression.csv', index_col= 'Unnamed: 0')\n",
    "df.shape"
   ]
  },
  {
   "cell_type": "markdown",
   "metadata": {},
   "source": [
    "Mendapatkan HARGA yang tidak diketahui ke DataFrame yang berbeda untuk prediksi"
   ]
  },
  {
   "cell_type": "markdown",
   "metadata": {},
   "source": [
    "## Menentukan Feature dan Target"
   ]
  },
  {
   "cell_type": "code",
   "execution_count": 4,
   "metadata": {},
   "outputs": [],
   "source": [
    "X=df.drop(['PRICE'],axis=1)\n",
    "y=df['PRICE']"
   ]
  },
  {
   "cell_type": "markdown",
   "metadata": {},
   "source": [
    "## Regresi untuk setiap model"
   ]
  },
  {
   "cell_type": "code",
   "execution_count": 6,
   "metadata": {},
   "outputs": [],
   "source": [
    "def evaluate(model, X_test, y_test):\n",
    "    predictions = model.predict(X_test)\n",
    "    print('Model Performance')\n",
    "    print('R2:', metrics.r2_score(y_test, predictions))\n",
    "    print('Mean_Absolute_Error:', metrics.mean_absolute_error(y_test, predictions))\n",
    "    print('Mean_Squared_Error:', metrics.mean_squared_error(y_test, predictions))\n",
    "    print('RMSE:', np.sqrt(metrics.mean_squared_error(y_test, predictions)))"
   ]
  },
  {
   "cell_type": "markdown",
   "metadata": {},
   "source": [
    "## Without Drop"
   ]
  },
  {
   "cell_type": "markdown",
   "metadata": {},
   "source": [
    "### OLS Regression"
   ]
  },
  {
   "cell_type": "code",
   "execution_count": 7,
   "metadata": {},
   "outputs": [
    {
     "name": "stdout",
     "output_type": "stream",
     "text": [
      "Model Performance\n",
      "R2: 0.8324684857653597\n",
      "Mean_Absolute_Error: 5.745566789861264\n",
      "Mean_Squared_Error: 61.76810151141042\n",
      "RMSE: 7.85926850994483\n"
     ]
    },
    {
     "data": {
      "text/html": [
       "<table class=\"simpletable\">\n",
       "<caption>OLS Regression Results</caption>\n",
       "<tr>\n",
       "  <th>Dep. Variable:</th>          <td>PRICE</td>      <th>  R-squared:         </th>  <td>   0.827</td>  \n",
       "</tr>\n",
       "<tr>\n",
       "  <th>Model:</th>                   <td>OLS</td>       <th>  Adj. R-squared:    </th>  <td>   0.827</td>  \n",
       "</tr>\n",
       "<tr>\n",
       "  <th>Method:</th>             <td>Least Squares</td>  <th>  F-statistic:       </th>  <td>   3303.</td>  \n",
       "</tr>\n",
       "<tr>\n",
       "  <th>Date:</th>             <td>Sun, 06 Feb 2022</td> <th>  Prob (F-statistic):</th>   <td>  0.00</td>   \n",
       "</tr>\n",
       "<tr>\n",
       "  <th>Time:</th>                 <td>23:13:24</td>     <th>  Log-Likelihood:    </th> <td>-1.2807e+05</td>\n",
       "</tr>\n",
       "<tr>\n",
       "  <th>No. Observations:</th>      <td> 36680</td>      <th>  AIC:               </th>  <td>2.562e+05</td> \n",
       "</tr>\n",
       "<tr>\n",
       "  <th>Df Residuals:</th>          <td> 36626</td>      <th>  BIC:               </th>  <td>2.567e+05</td> \n",
       "</tr>\n",
       "<tr>\n",
       "  <th>Df Model:</th>              <td>    53</td>      <th>                     </th>      <td> </td>     \n",
       "</tr>\n",
       "<tr>\n",
       "  <th>Covariance Type:</th>      <td>nonrobust</td>    <th>                     </th>      <td> </td>     \n",
       "</tr>\n",
       "</table>\n",
       "<table class=\"simpletable\">\n",
       "<tr>\n",
       "             <td></td>               <th>coef</th>     <th>std err</th>      <th>t</th>      <th>P>|t|</th>  <th>[0.025</th>    <th>0.975]</th>  \n",
       "</tr>\n",
       "<tr>\n",
       "  <th>BATHRM</th>                 <td>    1.4055</td> <td>    0.071</td> <td>   19.807</td> <td> 0.000</td> <td>    1.266</td> <td>    1.545</td>\n",
       "</tr>\n",
       "<tr>\n",
       "  <th>HF_BATHRM</th>              <td>    1.1820</td> <td>    0.081</td> <td>   14.664</td> <td> 0.000</td> <td>    1.024</td> <td>    1.340</td>\n",
       "</tr>\n",
       "<tr>\n",
       "  <th>NUM_UNITS</th>              <td>   -1.4845</td> <td>    0.240</td> <td>   -6.191</td> <td> 0.000</td> <td>   -1.955</td> <td>   -1.014</td>\n",
       "</tr>\n",
       "<tr>\n",
       "  <th>ROOMS</th>                  <td>    0.0469</td> <td>    0.033</td> <td>    1.422</td> <td> 0.155</td> <td>   -0.018</td> <td>    0.111</td>\n",
       "</tr>\n",
       "<tr>\n",
       "  <th>BEDRM</th>                  <td>    0.0364</td> <td>    0.060</td> <td>    0.602</td> <td> 0.547</td> <td>   -0.082</td> <td>    0.155</td>\n",
       "</tr>\n",
       "<tr>\n",
       "  <th>AYB</th>                    <td>    0.6649</td> <td>    0.004</td> <td>  157.046</td> <td> 0.000</td> <td>    0.657</td> <td>    0.673</td>\n",
       "</tr>\n",
       "<tr>\n",
       "  <th>YR_RMDL</th>                <td>   -0.0132</td> <td>    0.003</td> <td>   -5.162</td> <td> 0.000</td> <td>   -0.018</td> <td>   -0.008</td>\n",
       "</tr>\n",
       "<tr>\n",
       "  <th>EYB</th>                    <td>    0.7364</td> <td>    0.006</td> <td>  132.648</td> <td> 0.000</td> <td>    0.725</td> <td>    0.747</td>\n",
       "</tr>\n",
       "<tr>\n",
       "  <th>STORIES</th>                <td>    0.2461</td> <td>    0.203</td> <td>    1.211</td> <td> 0.226</td> <td>   -0.152</td> <td>    0.644</td>\n",
       "</tr>\n",
       "<tr>\n",
       "  <th>SALE_NUM</th>               <td>   -0.0838</td> <td>    0.036</td> <td>   -2.299</td> <td> 0.021</td> <td>   -0.155</td> <td>   -0.012</td>\n",
       "</tr>\n",
       "<tr>\n",
       "  <th>GBA</th>                    <td>    0.0043</td> <td>    0.000</td> <td>   34.152</td> <td> 0.000</td> <td>    0.004</td> <td>    0.005</td>\n",
       "</tr>\n",
       "<tr>\n",
       "  <th>BLDG_NUM</th>               <td>-2722.7777</td> <td>   20.001</td> <td> -136.130</td> <td> 0.000</td> <td>-2761.981</td> <td>-2683.575</td>\n",
       "</tr>\n",
       "<tr>\n",
       "  <th>KITCHENS</th>               <td>    0.6509</td> <td>    0.206</td> <td>    3.157</td> <td> 0.002</td> <td>    0.247</td> <td>    1.055</td>\n",
       "</tr>\n",
       "<tr>\n",
       "  <th>FIREPLACES</th>             <td>    1.6550</td> <td>    0.068</td> <td>   24.391</td> <td> 0.000</td> <td>    1.522</td> <td>    1.788</td>\n",
       "</tr>\n",
       "<tr>\n",
       "  <th>USECODE</th>                <td>    0.1616</td> <td>    0.018</td> <td>    9.048</td> <td> 0.000</td> <td>    0.127</td> <td>    0.197</td>\n",
       "</tr>\n",
       "<tr>\n",
       "  <th>LANDAREA</th>               <td>    0.0005</td> <td> 3.47e-05</td> <td>   15.568</td> <td> 0.000</td> <td>    0.000</td> <td>    0.001</td>\n",
       "</tr>\n",
       "<tr>\n",
       "  <th>SalevYB</th>                <td>    0.7293</td> <td>    0.004</td> <td>  167.215</td> <td> 0.000</td> <td>    0.721</td> <td>    0.738</td>\n",
       "</tr>\n",
       "<tr>\n",
       "  <th>SalevYI</th>                <td>    0.6579</td> <td>    0.005</td> <td>  144.761</td> <td> 0.000</td> <td>    0.649</td> <td>    0.667</td>\n",
       "</tr>\n",
       "<tr>\n",
       "  <th>HEAT_Air-Oil</th>           <td> 2.603e-11</td> <td> 1.95e-13</td> <td>  133.422</td> <td> 0.000</td> <td> 2.57e-11</td> <td> 2.64e-11</td>\n",
       "</tr>\n",
       "<tr>\n",
       "  <th>HEAT_Elec Base Brd</th>     <td> 9.502e-13</td> <td> 1.81e-14</td> <td>   52.408</td> <td> 0.000</td> <td> 9.15e-13</td> <td> 9.86e-13</td>\n",
       "</tr>\n",
       "<tr>\n",
       "  <th>HEAT_Electric Rad</th>      <td>-3.931e-11</td> <td> 2.91e-13</td> <td> -135.000</td> <td> 0.000</td> <td>-3.99e-11</td> <td>-3.87e-11</td>\n",
       "</tr>\n",
       "<tr>\n",
       "  <th>HEAT_Evp Cool</th>          <td> 1.291e-10</td> <td> 9.52e-13</td> <td>  135.626</td> <td> 0.000</td> <td> 1.27e-10</td> <td> 1.31e-10</td>\n",
       "</tr>\n",
       "<tr>\n",
       "  <th>HEAT_Forced Air</th>        <td>    3.2606</td> <td>    3.009</td> <td>    1.084</td> <td> 0.278</td> <td>   -2.637</td> <td>    9.158</td>\n",
       "</tr>\n",
       "<tr>\n",
       "  <th>HEAT_Gravity Furnac</th>    <td>-3.045e-11</td> <td> 2.21e-13</td> <td> -137.528</td> <td> 0.000</td> <td>-3.09e-11</td> <td>   -3e-11</td>\n",
       "</tr>\n",
       "<tr>\n",
       "  <th>HEAT_Hot Water Rad</th>     <td>    3.6389</td> <td>    3.008</td> <td>    1.210</td> <td> 0.226</td> <td>   -2.257</td> <td>    9.535</td>\n",
       "</tr>\n",
       "<tr>\n",
       "  <th>HEAT_Ht Pump</th>           <td>-3.269e-12</td> <td> 2.77e-14</td> <td> -117.922</td> <td> 0.000</td> <td>-3.32e-12</td> <td>-3.21e-12</td>\n",
       "</tr>\n",
       "<tr>\n",
       "  <th>HEAT_Ind Unit</th>          <td> 2.739e-11</td> <td> 2.03e-13</td> <td>  135.149</td> <td> 0.000</td> <td>  2.7e-11</td> <td> 2.78e-11</td>\n",
       "</tr>\n",
       "<tr>\n",
       "  <th>HEAT_Wall Furnace</th>      <td>-2.341e-11</td> <td> 1.88e-13</td> <td> -124.238</td> <td> 0.000</td> <td>-2.38e-11</td> <td> -2.3e-11</td>\n",
       "</tr>\n",
       "<tr>\n",
       "  <th>HEAT_Warm Cool</th>         <td>    3.5719</td> <td>    3.010</td> <td>    1.187</td> <td> 0.235</td> <td>   -2.327</td> <td>    9.471</td>\n",
       "</tr>\n",
       "<tr>\n",
       "  <th>HEAT_Water Base Brd</th>    <td>-4.526e-11</td> <td> 3.37e-13</td> <td> -134.252</td> <td> 0.000</td> <td>-4.59e-11</td> <td>-4.46e-11</td>\n",
       "</tr>\n",
       "<tr>\n",
       "  <th>AC_1</th>                   <td>    1.5104</td> <td>    0.135</td> <td>   11.186</td> <td> 0.000</td> <td>    1.246</td> <td>    1.775</td>\n",
       "</tr>\n",
       "<tr>\n",
       "  <th>QUALIFIED_U</th>            <td>   -7.0280</td> <td>    0.107</td> <td>  -65.803</td> <td> 0.000</td> <td>   -7.237</td> <td>   -6.819</td>\n",
       "</tr>\n",
       "<tr>\n",
       "  <th>STYLE_1.5 Story Fin</th>    <td> 1.377e-11</td> <td> 1.14e-13</td> <td>  120.542</td> <td> 0.000</td> <td> 1.35e-11</td> <td>  1.4e-11</td>\n",
       "</tr>\n",
       "<tr>\n",
       "  <th>STYLE_1.5 Story Unfin</th>  <td> 8.327e-12</td> <td>  5.5e-14</td> <td>  151.452</td> <td> 0.000</td> <td> 8.22e-12</td> <td> 8.43e-12</td>\n",
       "</tr>\n",
       "<tr>\n",
       "  <th>STYLE_2 Story</th>          <td>   -1.7864</td> <td>    0.327</td> <td>   -5.461</td> <td> 0.000</td> <td>   -2.428</td> <td>   -1.145</td>\n",
       "</tr>\n",
       "<tr>\n",
       "  <th>STYLE_2.5 Story Fin</th>    <td>   -0.3260</td> <td>    0.429</td> <td>   -0.759</td> <td> 0.448</td> <td>   -1.167</td> <td>    0.516</td>\n",
       "</tr>\n",
       "<tr>\n",
       "  <th>STYLE_2.5 Story Unfin</th>  <td>-8.014e-12</td> <td> 7.27e-14</td> <td> -110.231</td> <td> 0.000</td> <td>-8.16e-12</td> <td>-7.87e-12</td>\n",
       "</tr>\n",
       "<tr>\n",
       "  <th>STYLE_3 Story</th>          <td>   -2.3046</td> <td>    0.511</td> <td>   -4.511</td> <td> 0.000</td> <td>   -3.306</td> <td>   -1.303</td>\n",
       "</tr>\n",
       "<tr>\n",
       "  <th>STYLE_3.5 Story Fin</th>    <td> 8.454e-12</td> <td> 7.22e-14</td> <td>  117.127</td> <td> 0.000</td> <td> 8.31e-12</td> <td>  8.6e-12</td>\n",
       "</tr>\n",
       "<tr>\n",
       "  <th>STYLE_3.5 Story Unfin</th>  <td>-4.081e-12</td> <td>  3.2e-14</td> <td> -127.637</td> <td> 0.000</td> <td>-4.14e-12</td> <td>-4.02e-12</td>\n",
       "</tr>\n",
       "<tr>\n",
       "  <th>STYLE_4 Story</th>          <td> 2.102e-12</td> <td> 4.34e-14</td> <td>   48.427</td> <td> 0.000</td> <td> 2.02e-12</td> <td> 2.19e-12</td>\n",
       "</tr>\n",
       "<tr>\n",
       "  <th>STYLE_4.5 Story Fin</th>    <td> 4.484e-12</td> <td> 4.06e-14</td> <td>  110.395</td> <td> 0.000</td> <td>  4.4e-12</td> <td> 4.56e-12</td>\n",
       "</tr>\n",
       "<tr>\n",
       "  <th>STYLE_4.5 Story Unfin</th>  <td>-4.845e-13</td> <td> 1.66e-14</td> <td>  -29.261</td> <td> 0.000</td> <td>-5.17e-13</td> <td>-4.52e-13</td>\n",
       "</tr>\n",
       "<tr>\n",
       "  <th>STYLE_Bi-Level</th>         <td> 6.787e-12</td> <td> 5.04e-14</td> <td>  134.763</td> <td> 0.000</td> <td> 6.69e-12</td> <td> 6.89e-12</td>\n",
       "</tr>\n",
       "<tr>\n",
       "  <th>STYLE_Default</th>          <td>-7.584e-12</td> <td> 4.99e-14</td> <td> -152.078</td> <td> 0.000</td> <td>-7.68e-12</td> <td>-7.49e-12</td>\n",
       "</tr>\n",
       "<tr>\n",
       "  <th>STYLE_Outbuildings</th>     <td>-8.052e-13</td> <td>  6.6e-15</td> <td> -121.985</td> <td> 0.000</td> <td>-8.18e-13</td> <td>-7.92e-13</td>\n",
       "</tr>\n",
       "<tr>\n",
       "  <th>STYLE_Split Foyer</th>      <td> 4.455e-12</td> <td> 2.93e-14</td> <td>  152.001</td> <td> 0.000</td> <td>  4.4e-12</td> <td> 4.51e-12</td>\n",
       "</tr>\n",
       "<tr>\n",
       "  <th>STYLE_Split Level</th>      <td>-1.573e-12</td> <td>  1.1e-14</td> <td> -142.353</td> <td> 0.000</td> <td>-1.59e-12</td> <td>-1.55e-12</td>\n",
       "</tr>\n",
       "<tr>\n",
       "  <th>STYLE_Vacant</th>           <td> 9.612e-12</td> <td> 6.35e-14</td> <td>  151.436</td> <td> 0.000</td> <td> 9.49e-12</td> <td> 9.74e-12</td>\n",
       "</tr>\n",
       "<tr>\n",
       "  <th>STRUCT_Multi</th>           <td>   -3.5386</td> <td>    5.635</td> <td>   -0.628</td> <td> 0.530</td> <td>  -14.583</td> <td>    7.506</td>\n",
       "</tr>\n",
       "<tr>\n",
       "  <th>STRUCT_Row End</th>         <td>    1.1875</td> <td>    5.629</td> <td>    0.211</td> <td> 0.833</td> <td>   -9.845</td> <td>   12.220</td>\n",
       "</tr>\n",
       "<tr>\n",
       "  <th>STRUCT_Row Inside</th>      <td>    1.5345</td> <td>    5.628</td> <td>    0.273</td> <td> 0.785</td> <td>   -9.497</td> <td>   12.566</td>\n",
       "</tr>\n",
       "<tr>\n",
       "  <th>STRUCT_Semi-Detached</th>   <td>    0.0281</td> <td>    5.629</td> <td>    0.005</td> <td> 0.996</td> <td>  -11.004</td> <td>   11.060</td>\n",
       "</tr>\n",
       "<tr>\n",
       "  <th>STRUCT_Single</th>          <td>    0.6524</td> <td>    5.629</td> <td>    0.116</td> <td> 0.908</td> <td>  -10.380</td> <td>   11.685</td>\n",
       "</tr>\n",
       "<tr>\n",
       "  <th>STRUCT_Town End</th>        <td>         0</td> <td>        0</td> <td>      nan</td> <td>   nan</td> <td>        0</td> <td>        0</td>\n",
       "</tr>\n",
       "<tr>\n",
       "  <th>STRUCT_Town Inside</th>     <td>         0</td> <td>        0</td> <td>      nan</td> <td>   nan</td> <td>        0</td> <td>        0</td>\n",
       "</tr>\n",
       "<tr>\n",
       "  <th>GRADE_Average</th>          <td>   -1.8613</td> <td>    0.115</td> <td>  -16.174</td> <td> 0.000</td> <td>   -2.087</td> <td>   -1.636</td>\n",
       "</tr>\n",
       "<tr>\n",
       "  <th>GRADE_Excellent</th>        <td>    8.7929</td> <td>    0.307</td> <td>   28.608</td> <td> 0.000</td> <td>    8.190</td> <td>    9.395</td>\n",
       "</tr>\n",
       "<tr>\n",
       "  <th>GRADE_Exceptional-A</th>    <td>         0</td> <td>        0</td> <td>      nan</td> <td>   nan</td> <td>        0</td> <td>        0</td>\n",
       "</tr>\n",
       "<tr>\n",
       "  <th>GRADE_Exceptional-B</th>    <td>         0</td> <td>        0</td> <td>      nan</td> <td>   nan</td> <td>        0</td> <td>        0</td>\n",
       "</tr>\n",
       "<tr>\n",
       "  <th>GRADE_Exceptional-C</th>    <td>         0</td> <td>        0</td> <td>      nan</td> <td>   nan</td> <td>        0</td> <td>        0</td>\n",
       "</tr>\n",
       "<tr>\n",
       "  <th>GRADE_Exceptional-D</th>    <td>         0</td> <td>        0</td> <td>      nan</td> <td>   nan</td> <td>        0</td> <td>        0</td>\n",
       "</tr>\n",
       "<tr>\n",
       "  <th>GRADE_Fair Quality</th>     <td>         0</td> <td>        0</td> <td>      nan</td> <td>   nan</td> <td>        0</td> <td>        0</td>\n",
       "</tr>\n",
       "<tr>\n",
       "  <th>GRADE_Good Quality</th>     <td>    3.2153</td> <td>    0.137</td> <td>   23.542</td> <td> 0.000</td> <td>    2.948</td> <td>    3.483</td>\n",
       "</tr>\n",
       "<tr>\n",
       "  <th>GRADE_Low Quality</th>      <td>         0</td> <td>        0</td> <td>      nan</td> <td>   nan</td> <td>        0</td> <td>        0</td>\n",
       "</tr>\n",
       "<tr>\n",
       "  <th>GRADE_Superior</th>         <td>         0</td> <td>        0</td> <td>      nan</td> <td>   nan</td> <td>        0</td> <td>        0</td>\n",
       "</tr>\n",
       "<tr>\n",
       "  <th>GRADE_Very Good</th>        <td>    6.0905</td> <td>    0.208</td> <td>   29.303</td> <td> 0.000</td> <td>    5.683</td> <td>    6.498</td>\n",
       "</tr>\n",
       "<tr>\n",
       "  <th>CNDTN_Default</th>          <td>         0</td> <td>        0</td> <td>      nan</td> <td>   nan</td> <td>        0</td> <td>        0</td>\n",
       "</tr>\n",
       "<tr>\n",
       "  <th>CNDTN_Excellent</th>        <td>         0</td> <td>        0</td> <td>      nan</td> <td>   nan</td> <td>        0</td> <td>        0</td>\n",
       "</tr>\n",
       "<tr>\n",
       "  <th>CNDTN_Fair</th>             <td>         0</td> <td>        0</td> <td>      nan</td> <td>   nan</td> <td>        0</td> <td>        0</td>\n",
       "</tr>\n",
       "<tr>\n",
       "  <th>CNDTN_Good</th>             <td>    2.4383</td> <td>    0.113</td> <td>   21.497</td> <td> 0.000</td> <td>    2.216</td> <td>    2.661</td>\n",
       "</tr>\n",
       "<tr>\n",
       "  <th>CNDTN_Poor</th>             <td>         0</td> <td>        0</td> <td>      nan</td> <td>   nan</td> <td>        0</td> <td>        0</td>\n",
       "</tr>\n",
       "<tr>\n",
       "  <th>CNDTN_Very Good</th>        <td>    5.5901</td> <td>    0.187</td> <td>   29.953</td> <td> 0.000</td> <td>    5.224</td> <td>    5.956</td>\n",
       "</tr>\n",
       "<tr>\n",
       "  <th>EXTWALL_Aluminum</th>       <td>         0</td> <td>        0</td> <td>      nan</td> <td>   nan</td> <td>        0</td> <td>        0</td>\n",
       "</tr>\n",
       "<tr>\n",
       "  <th>EXTWALL_Brick Veneer</th>   <td>         0</td> <td>        0</td> <td>      nan</td> <td>   nan</td> <td>        0</td> <td>        0</td>\n",
       "</tr>\n",
       "<tr>\n",
       "  <th>EXTWALL_Brick/Siding</th>   <td>   -9.9251</td> <td>    7.958</td> <td>   -1.247</td> <td> 0.212</td> <td>  -25.523</td> <td>    5.673</td>\n",
       "</tr>\n",
       "<tr>\n",
       "  <th>EXTWALL_Brick/Stone</th>    <td>         0</td> <td>        0</td> <td>      nan</td> <td>   nan</td> <td>        0</td> <td>        0</td>\n",
       "</tr>\n",
       "<tr>\n",
       "  <th>EXTWALL_Brick/Stucco</th>   <td>         0</td> <td>        0</td> <td>      nan</td> <td>   nan</td> <td>        0</td> <td>        0</td>\n",
       "</tr>\n",
       "<tr>\n",
       "  <th>EXTWALL_Common Brick</th>   <td>   -9.0355</td> <td>    7.956</td> <td>   -1.136</td> <td> 0.256</td> <td>  -24.630</td> <td>    6.559</td>\n",
       "</tr>\n",
       "<tr>\n",
       "  <th>EXTWALL_Concrete</th>       <td>         0</td> <td>        0</td> <td>      nan</td> <td>   nan</td> <td>        0</td> <td>        0</td>\n",
       "</tr>\n",
       "<tr>\n",
       "  <th>EXTWALL_Concrete Block</th> <td>         0</td> <td>        0</td> <td>      nan</td> <td>   nan</td> <td>        0</td> <td>        0</td>\n",
       "</tr>\n",
       "<tr>\n",
       "  <th>EXTWALL_Default</th>        <td>         0</td> <td>        0</td> <td>      nan</td> <td>   nan</td> <td>        0</td> <td>        0</td>\n",
       "</tr>\n",
       "<tr>\n",
       "  <th>EXTWALL_Face Brick</th>     <td>         0</td> <td>        0</td> <td>      nan</td> <td>   nan</td> <td>        0</td> <td>        0</td>\n",
       "</tr>\n",
       "<tr>\n",
       "  <th>EXTWALL_Hardboard</th>      <td>         0</td> <td>        0</td> <td>      nan</td> <td>   nan</td> <td>        0</td> <td>        0</td>\n",
       "</tr>\n",
       "<tr>\n",
       "  <th>EXTWALL_Metal Siding</th>   <td>         0</td> <td>        0</td> <td>      nan</td> <td>   nan</td> <td>        0</td> <td>        0</td>\n",
       "</tr>\n",
       "<tr>\n",
       "  <th>EXTWALL_Plywood</th>        <td>         0</td> <td>        0</td> <td>      nan</td> <td>   nan</td> <td>        0</td> <td>        0</td>\n",
       "</tr>\n",
       "<tr>\n",
       "  <th>EXTWALL_SPlaster</th>       <td>         0</td> <td>        0</td> <td>      nan</td> <td>   nan</td> <td>        0</td> <td>        0</td>\n",
       "</tr>\n",
       "<tr>\n",
       "  <th>EXTWALL_Shingle</th>        <td>         0</td> <td>        0</td> <td>      nan</td> <td>   nan</td> <td>        0</td> <td>        0</td>\n",
       "</tr>\n",
       "<tr>\n",
       "  <th>EXTWALL_Stone</th>          <td>         0</td> <td>        0</td> <td>      nan</td> <td>   nan</td> <td>        0</td> <td>        0</td>\n",
       "</tr>\n",
       "<tr>\n",
       "  <th>EXTWALL_Stone Veneer</th>   <td>         0</td> <td>        0</td> <td>      nan</td> <td>   nan</td> <td>        0</td> <td>        0</td>\n",
       "</tr>\n",
       "<tr>\n",
       "  <th>EXTWALL_Stone/Siding</th>   <td>         0</td> <td>        0</td> <td>      nan</td> <td>   nan</td> <td>        0</td> <td>        0</td>\n",
       "</tr>\n",
       "<tr>\n",
       "  <th>EXTWALL_Stone/Stucco</th>   <td>         0</td> <td>        0</td> <td>      nan</td> <td>   nan</td> <td>        0</td> <td>        0</td>\n",
       "</tr>\n",
       "<tr>\n",
       "  <th>EXTWALL_Stucco</th>         <td>   -9.1773</td> <td>    7.960</td> <td>   -1.153</td> <td> 0.249</td> <td>  -24.779</td> <td>    6.424</td>\n",
       "</tr>\n",
       "<tr>\n",
       "  <th>EXTWALL_Stucco Block</th>   <td>         0</td> <td>        0</td> <td>      nan</td> <td>   nan</td> <td>        0</td> <td>        0</td>\n",
       "</tr>\n",
       "<tr>\n",
       "  <th>EXTWALL_Vinyl Siding</th>   <td>  -10.6327</td> <td>    7.958</td> <td>   -1.336</td> <td> 0.181</td> <td>  -26.230</td> <td>    4.964</td>\n",
       "</tr>\n",
       "<tr>\n",
       "  <th>EXTWALL_Wood Siding</th>    <td>   -9.1846</td> <td>    7.959</td> <td>   -1.154</td> <td> 0.248</td> <td>  -24.784</td> <td>    6.415</td>\n",
       "</tr>\n",
       "<tr>\n",
       "  <th>ROOF_Clay Tile</th>         <td>         0</td> <td>        0</td> <td>      nan</td> <td>   nan</td> <td>        0</td> <td>        0</td>\n",
       "</tr>\n",
       "<tr>\n",
       "  <th>ROOF_Comp Shingle</th>      <td>   -0.4115</td> <td>    0.155</td> <td>   -2.650</td> <td> 0.008</td> <td>   -0.716</td> <td>   -0.107</td>\n",
       "</tr>\n",
       "<tr>\n",
       "  <th>ROOF_Composition Ro</th>    <td>         0</td> <td>        0</td> <td>      nan</td> <td>   nan</td> <td>        0</td> <td>        0</td>\n",
       "</tr>\n",
       "<tr>\n",
       "  <th>ROOF_Concrete</th>          <td>         0</td> <td>        0</td> <td>      nan</td> <td>   nan</td> <td>        0</td> <td>        0</td>\n",
       "</tr>\n",
       "<tr>\n",
       "  <th>ROOF_Concrete Tile</th>     <td>         0</td> <td>        0</td> <td>      nan</td> <td>   nan</td> <td>        0</td> <td>        0</td>\n",
       "</tr>\n",
       "<tr>\n",
       "  <th>ROOF_Metal- Cpr</th>        <td>         0</td> <td>        0</td> <td>      nan</td> <td>   nan</td> <td>        0</td> <td>        0</td>\n",
       "</tr>\n",
       "<tr>\n",
       "  <th>ROOF_Metal- Pre</th>        <td>         0</td> <td>        0</td> <td>      nan</td> <td>   nan</td> <td>        0</td> <td>        0</td>\n",
       "</tr>\n",
       "<tr>\n",
       "  <th>ROOF_Metal- Sms</th>        <td>   -0.2268</td> <td>    0.114</td> <td>   -1.988</td> <td> 0.047</td> <td>   -0.451</td> <td>   -0.003</td>\n",
       "</tr>\n",
       "<tr>\n",
       "  <th>ROOF_Neopren</th>           <td>         0</td> <td>        0</td> <td>      nan</td> <td>   nan</td> <td>        0</td> <td>        0</td>\n",
       "</tr>\n",
       "<tr>\n",
       "  <th>ROOF_Shake</th>             <td>         0</td> <td>        0</td> <td>      nan</td> <td>   nan</td> <td>        0</td> <td>        0</td>\n",
       "</tr>\n",
       "<tr>\n",
       "  <th>ROOF_Shingle</th>           <td>         0</td> <td>        0</td> <td>      nan</td> <td>   nan</td> <td>        0</td> <td>        0</td>\n",
       "</tr>\n",
       "<tr>\n",
       "  <th>ROOF_Slate</th>             <td>    0.3645</td> <td>    0.213</td> <td>    1.712</td> <td> 0.087</td> <td>   -0.053</td> <td>    0.782</td>\n",
       "</tr>\n",
       "<tr>\n",
       "  <th>ROOF_Typical</th>           <td>         0</td> <td>        0</td> <td>      nan</td> <td>   nan</td> <td>        0</td> <td>        0</td>\n",
       "</tr>\n",
       "<tr>\n",
       "  <th>ROOF_Water Proof</th>       <td>         0</td> <td>        0</td> <td>      nan</td> <td>   nan</td> <td>        0</td> <td>        0</td>\n",
       "</tr>\n",
       "<tr>\n",
       "  <th>ROOF_Wood- FS</th>          <td>         0</td> <td>        0</td> <td>      nan</td> <td>   nan</td> <td>        0</td> <td>        0</td>\n",
       "</tr>\n",
       "<tr>\n",
       "  <th>INTWALL_Ceramic Tile</th>   <td>         0</td> <td>        0</td> <td>      nan</td> <td>   nan</td> <td>        0</td> <td>        0</td>\n",
       "</tr>\n",
       "<tr>\n",
       "  <th>INTWALL_Default</th>        <td>         0</td> <td>        0</td> <td>      nan</td> <td>   nan</td> <td>        0</td> <td>        0</td>\n",
       "</tr>\n",
       "<tr>\n",
       "  <th>INTWALL_Hardwood</th>       <td>    0.4727</td> <td>    0.241</td> <td>    1.960</td> <td> 0.050</td> <td> 9.59e-05</td> <td>    0.945</td>\n",
       "</tr>\n",
       "<tr>\n",
       "  <th>INTWALL_Hardwood/Carp</th>  <td>   -0.5751</td> <td>    0.258</td> <td>   -2.230</td> <td> 0.026</td> <td>   -1.081</td> <td>   -0.070</td>\n",
       "</tr>\n",
       "<tr>\n",
       "  <th>INTWALL_Lt Concrete</th>    <td>         0</td> <td>        0</td> <td>      nan</td> <td>   nan</td> <td>        0</td> <td>        0</td>\n",
       "</tr>\n",
       "<tr>\n",
       "  <th>INTWALL_Parquet</th>        <td>         0</td> <td>        0</td> <td>      nan</td> <td>   nan</td> <td>        0</td> <td>        0</td>\n",
       "</tr>\n",
       "<tr>\n",
       "  <th>INTWALL_Resiliant</th>      <td>         0</td> <td>        0</td> <td>      nan</td> <td>   nan</td> <td>        0</td> <td>        0</td>\n",
       "</tr>\n",
       "<tr>\n",
       "  <th>INTWALL_Terrazo</th>        <td>         0</td> <td>        0</td> <td>      nan</td> <td>   nan</td> <td>        0</td> <td>        0</td>\n",
       "</tr>\n",
       "<tr>\n",
       "  <th>INTWALL_Vinyl Comp</th>     <td>         0</td> <td>        0</td> <td>      nan</td> <td>   nan</td> <td>        0</td> <td>        0</td>\n",
       "</tr>\n",
       "<tr>\n",
       "  <th>INTWALL_Vinyl Sheet</th>    <td>         0</td> <td>        0</td> <td>      nan</td> <td>   nan</td> <td>        0</td> <td>        0</td>\n",
       "</tr>\n",
       "<tr>\n",
       "  <th>INTWALL_Wood Floor</th>     <td>   -0.2976</td> <td>    0.285</td> <td>   -1.044</td> <td> 0.296</td> <td>   -0.856</td> <td>    0.261</td>\n",
       "</tr>\n",
       "<tr>\n",
       "  <th>WARD_Ward 2</th>            <td>    7.7224</td> <td>    0.272</td> <td>   28.388</td> <td> 0.000</td> <td>    7.189</td> <td>    8.256</td>\n",
       "</tr>\n",
       "<tr>\n",
       "  <th>WARD_Ward 3</th>            <td>    5.8330</td> <td>    0.229</td> <td>   25.493</td> <td> 0.000</td> <td>    5.385</td> <td>    6.281</td>\n",
       "</tr>\n",
       "<tr>\n",
       "  <th>WARD_Ward 4</th>            <td>   -3.2416</td> <td>    0.191</td> <td>  -16.953</td> <td> 0.000</td> <td>   -3.616</td> <td>   -2.867</td>\n",
       "</tr>\n",
       "<tr>\n",
       "  <th>WARD_Ward 5</th>            <td>   -5.7379</td> <td>    0.194</td> <td>  -29.520</td> <td> 0.000</td> <td>   -6.119</td> <td>   -5.357</td>\n",
       "</tr>\n",
       "<tr>\n",
       "  <th>WARD_Ward 6</th>            <td>    0.8345</td> <td>    0.176</td> <td>    4.749</td> <td> 0.000</td> <td>    0.490</td> <td>    1.179</td>\n",
       "</tr>\n",
       "<tr>\n",
       "  <th>WARD_Ward 7</th>            <td>  -12.2681</td> <td>    0.219</td> <td>  -56.135</td> <td> 0.000</td> <td>  -12.696</td> <td>  -11.840</td>\n",
       "</tr>\n",
       "<tr>\n",
       "  <th>WARD_Ward 8</th>            <td>  -13.3414</td> <td>    0.238</td> <td>  -56.172</td> <td> 0.000</td> <td>  -13.807</td> <td>  -12.876</td>\n",
       "</tr>\n",
       "</table>\n",
       "<table class=\"simpletable\">\n",
       "<tr>\n",
       "  <th>Omnibus:</th>       <td>9160.995</td> <th>  Durbin-Watson:     </th>  <td>   2.002</td> \n",
       "</tr>\n",
       "<tr>\n",
       "  <th>Prob(Omnibus):</th>  <td> 0.000</td>  <th>  Jarque-Bera (JB):  </th> <td>389877.783</td>\n",
       "</tr>\n",
       "<tr>\n",
       "  <th>Skew:</th>           <td> 0.439</td>  <th>  Prob(JB):          </th>  <td>    0.00</td> \n",
       "</tr>\n",
       "<tr>\n",
       "  <th>Kurtosis:</th>       <td>18.948</td>  <th>  Cond. No.          </th>  <td>1.10e+16</td> \n",
       "</tr>\n",
       "</table><br/><br/>Notes:<br/>[1] Standard Errors assume that the covariance matrix of the errors is correctly specified.<br/>[2] The smallest eigenvalue is 7.43e-21. This might indicate that there are<br/>strong multicollinearity problems or that the design matrix is singular."
      ],
      "text/plain": [
       "<class 'statsmodels.iolib.summary.Summary'>\n",
       "\"\"\"\n",
       "                            OLS Regression Results                            \n",
       "==============================================================================\n",
       "Dep. Variable:                  PRICE   R-squared:                       0.827\n",
       "Model:                            OLS   Adj. R-squared:                  0.827\n",
       "Method:                 Least Squares   F-statistic:                     3303.\n",
       "Date:                Sun, 06 Feb 2022   Prob (F-statistic):               0.00\n",
       "Time:                        23:13:24   Log-Likelihood:            -1.2807e+05\n",
       "No. Observations:               36680   AIC:                         2.562e+05\n",
       "Df Residuals:                   36626   BIC:                         2.567e+05\n",
       "Df Model:                          53                                         \n",
       "Covariance Type:            nonrobust                                         \n",
       "==========================================================================================\n",
       "                             coef    std err          t      P>|t|      [0.025      0.975]\n",
       "------------------------------------------------------------------------------------------\n",
       "BATHRM                     1.4055      0.071     19.807      0.000       1.266       1.545\n",
       "HF_BATHRM                  1.1820      0.081     14.664      0.000       1.024       1.340\n",
       "NUM_UNITS                 -1.4845      0.240     -6.191      0.000      -1.955      -1.014\n",
       "ROOMS                      0.0469      0.033      1.422      0.155      -0.018       0.111\n",
       "BEDRM                      0.0364      0.060      0.602      0.547      -0.082       0.155\n",
       "AYB                        0.6649      0.004    157.046      0.000       0.657       0.673\n",
       "YR_RMDL                   -0.0132      0.003     -5.162      0.000      -0.018      -0.008\n",
       "EYB                        0.7364      0.006    132.648      0.000       0.725       0.747\n",
       "STORIES                    0.2461      0.203      1.211      0.226      -0.152       0.644\n",
       "SALE_NUM                  -0.0838      0.036     -2.299      0.021      -0.155      -0.012\n",
       "GBA                        0.0043      0.000     34.152      0.000       0.004       0.005\n",
       "BLDG_NUM               -2722.7777     20.001   -136.130      0.000   -2761.981   -2683.575\n",
       "KITCHENS                   0.6509      0.206      3.157      0.002       0.247       1.055\n",
       "FIREPLACES                 1.6550      0.068     24.391      0.000       1.522       1.788\n",
       "USECODE                    0.1616      0.018      9.048      0.000       0.127       0.197\n",
       "LANDAREA                   0.0005   3.47e-05     15.568      0.000       0.000       0.001\n",
       "SalevYB                    0.7293      0.004    167.215      0.000       0.721       0.738\n",
       "SalevYI                    0.6579      0.005    144.761      0.000       0.649       0.667\n",
       "HEAT_Air-Oil            2.603e-11   1.95e-13    133.422      0.000    2.57e-11    2.64e-11\n",
       "HEAT_Elec Base Brd      9.502e-13   1.81e-14     52.408      0.000    9.15e-13    9.86e-13\n",
       "HEAT_Electric Rad      -3.931e-11   2.91e-13   -135.000      0.000   -3.99e-11   -3.87e-11\n",
       "HEAT_Evp Cool           1.291e-10   9.52e-13    135.626      0.000    1.27e-10    1.31e-10\n",
       "HEAT_Forced Air            3.2606      3.009      1.084      0.278      -2.637       9.158\n",
       "HEAT_Gravity Furnac    -3.045e-11   2.21e-13   -137.528      0.000   -3.09e-11      -3e-11\n",
       "HEAT_Hot Water Rad         3.6389      3.008      1.210      0.226      -2.257       9.535\n",
       "HEAT_Ht Pump           -3.269e-12   2.77e-14   -117.922      0.000   -3.32e-12   -3.21e-12\n",
       "HEAT_Ind Unit           2.739e-11   2.03e-13    135.149      0.000     2.7e-11    2.78e-11\n",
       "HEAT_Wall Furnace      -2.341e-11   1.88e-13   -124.238      0.000   -2.38e-11    -2.3e-11\n",
       "HEAT_Warm Cool             3.5719      3.010      1.187      0.235      -2.327       9.471\n",
       "HEAT_Water Base Brd    -4.526e-11   3.37e-13   -134.252      0.000   -4.59e-11   -4.46e-11\n",
       "AC_1                       1.5104      0.135     11.186      0.000       1.246       1.775\n",
       "QUALIFIED_U               -7.0280      0.107    -65.803      0.000      -7.237      -6.819\n",
       "STYLE_1.5 Story Fin     1.377e-11   1.14e-13    120.542      0.000    1.35e-11     1.4e-11\n",
       "STYLE_1.5 Story Unfin   8.327e-12    5.5e-14    151.452      0.000    8.22e-12    8.43e-12\n",
       "STYLE_2 Story             -1.7864      0.327     -5.461      0.000      -2.428      -1.145\n",
       "STYLE_2.5 Story Fin       -0.3260      0.429     -0.759      0.448      -1.167       0.516\n",
       "STYLE_2.5 Story Unfin  -8.014e-12   7.27e-14   -110.231      0.000   -8.16e-12   -7.87e-12\n",
       "STYLE_3 Story             -2.3046      0.511     -4.511      0.000      -3.306      -1.303\n",
       "STYLE_3.5 Story Fin     8.454e-12   7.22e-14    117.127      0.000    8.31e-12     8.6e-12\n",
       "STYLE_3.5 Story Unfin  -4.081e-12    3.2e-14   -127.637      0.000   -4.14e-12   -4.02e-12\n",
       "STYLE_4 Story           2.102e-12   4.34e-14     48.427      0.000    2.02e-12    2.19e-12\n",
       "STYLE_4.5 Story Fin     4.484e-12   4.06e-14    110.395      0.000     4.4e-12    4.56e-12\n",
       "STYLE_4.5 Story Unfin  -4.845e-13   1.66e-14    -29.261      0.000   -5.17e-13   -4.52e-13\n",
       "STYLE_Bi-Level          6.787e-12   5.04e-14    134.763      0.000    6.69e-12    6.89e-12\n",
       "STYLE_Default          -7.584e-12   4.99e-14   -152.078      0.000   -7.68e-12   -7.49e-12\n",
       "STYLE_Outbuildings     -8.052e-13    6.6e-15   -121.985      0.000   -8.18e-13   -7.92e-13\n",
       "STYLE_Split Foyer       4.455e-12   2.93e-14    152.001      0.000     4.4e-12    4.51e-12\n",
       "STYLE_Split Level      -1.573e-12    1.1e-14   -142.353      0.000   -1.59e-12   -1.55e-12\n",
       "STYLE_Vacant            9.612e-12   6.35e-14    151.436      0.000    9.49e-12    9.74e-12\n",
       "STRUCT_Multi              -3.5386      5.635     -0.628      0.530     -14.583       7.506\n",
       "STRUCT_Row End             1.1875      5.629      0.211      0.833      -9.845      12.220\n",
       "STRUCT_Row Inside          1.5345      5.628      0.273      0.785      -9.497      12.566\n",
       "STRUCT_Semi-Detached       0.0281      5.629      0.005      0.996     -11.004      11.060\n",
       "STRUCT_Single              0.6524      5.629      0.116      0.908     -10.380      11.685\n",
       "STRUCT_Town End                 0          0        nan        nan           0           0\n",
       "STRUCT_Town Inside              0          0        nan        nan           0           0\n",
       "GRADE_Average             -1.8613      0.115    -16.174      0.000      -2.087      -1.636\n",
       "GRADE_Excellent            8.7929      0.307     28.608      0.000       8.190       9.395\n",
       "GRADE_Exceptional-A             0          0        nan        nan           0           0\n",
       "GRADE_Exceptional-B             0          0        nan        nan           0           0\n",
       "GRADE_Exceptional-C             0          0        nan        nan           0           0\n",
       "GRADE_Exceptional-D             0          0        nan        nan           0           0\n",
       "GRADE_Fair Quality              0          0        nan        nan           0           0\n",
       "GRADE_Good Quality         3.2153      0.137     23.542      0.000       2.948       3.483\n",
       "GRADE_Low Quality               0          0        nan        nan           0           0\n",
       "GRADE_Superior                  0          0        nan        nan           0           0\n",
       "GRADE_Very Good            6.0905      0.208     29.303      0.000       5.683       6.498\n",
       "CNDTN_Default                   0          0        nan        nan           0           0\n",
       "CNDTN_Excellent                 0          0        nan        nan           0           0\n",
       "CNDTN_Fair                      0          0        nan        nan           0           0\n",
       "CNDTN_Good                 2.4383      0.113     21.497      0.000       2.216       2.661\n",
       "CNDTN_Poor                      0          0        nan        nan           0           0\n",
       "CNDTN_Very Good            5.5901      0.187     29.953      0.000       5.224       5.956\n",
       "EXTWALL_Aluminum                0          0        nan        nan           0           0\n",
       "EXTWALL_Brick Veneer            0          0        nan        nan           0           0\n",
       "EXTWALL_Brick/Siding      -9.9251      7.958     -1.247      0.212     -25.523       5.673\n",
       "EXTWALL_Brick/Stone             0          0        nan        nan           0           0\n",
       "EXTWALL_Brick/Stucco            0          0        nan        nan           0           0\n",
       "EXTWALL_Common Brick      -9.0355      7.956     -1.136      0.256     -24.630       6.559\n",
       "EXTWALL_Concrete                0          0        nan        nan           0           0\n",
       "EXTWALL_Concrete Block          0          0        nan        nan           0           0\n",
       "EXTWALL_Default                 0          0        nan        nan           0           0\n",
       "EXTWALL_Face Brick              0          0        nan        nan           0           0\n",
       "EXTWALL_Hardboard               0          0        nan        nan           0           0\n",
       "EXTWALL_Metal Siding            0          0        nan        nan           0           0\n",
       "EXTWALL_Plywood                 0          0        nan        nan           0           0\n",
       "EXTWALL_SPlaster                0          0        nan        nan           0           0\n",
       "EXTWALL_Shingle                 0          0        nan        nan           0           0\n",
       "EXTWALL_Stone                   0          0        nan        nan           0           0\n",
       "EXTWALL_Stone Veneer            0          0        nan        nan           0           0\n",
       "EXTWALL_Stone/Siding            0          0        nan        nan           0           0\n",
       "EXTWALL_Stone/Stucco            0          0        nan        nan           0           0\n",
       "EXTWALL_Stucco            -9.1773      7.960     -1.153      0.249     -24.779       6.424\n",
       "EXTWALL_Stucco Block            0          0        nan        nan           0           0\n",
       "EXTWALL_Vinyl Siding     -10.6327      7.958     -1.336      0.181     -26.230       4.964\n",
       "EXTWALL_Wood Siding       -9.1846      7.959     -1.154      0.248     -24.784       6.415\n",
       "ROOF_Clay Tile                  0          0        nan        nan           0           0\n",
       "ROOF_Comp Shingle         -0.4115      0.155     -2.650      0.008      -0.716      -0.107\n",
       "ROOF_Composition Ro             0          0        nan        nan           0           0\n",
       "ROOF_Concrete                   0          0        nan        nan           0           0\n",
       "ROOF_Concrete Tile              0          0        nan        nan           0           0\n",
       "ROOF_Metal- Cpr                 0          0        nan        nan           0           0\n",
       "ROOF_Metal- Pre                 0          0        nan        nan           0           0\n",
       "ROOF_Metal- Sms           -0.2268      0.114     -1.988      0.047      -0.451      -0.003\n",
       "ROOF_Neopren                    0          0        nan        nan           0           0\n",
       "ROOF_Shake                      0          0        nan        nan           0           0\n",
       "ROOF_Shingle                    0          0        nan        nan           0           0\n",
       "ROOF_Slate                 0.3645      0.213      1.712      0.087      -0.053       0.782\n",
       "ROOF_Typical                    0          0        nan        nan           0           0\n",
       "ROOF_Water Proof                0          0        nan        nan           0           0\n",
       "ROOF_Wood- FS                   0          0        nan        nan           0           0\n",
       "INTWALL_Ceramic Tile            0          0        nan        nan           0           0\n",
       "INTWALL_Default                 0          0        nan        nan           0           0\n",
       "INTWALL_Hardwood           0.4727      0.241      1.960      0.050    9.59e-05       0.945\n",
       "INTWALL_Hardwood/Carp     -0.5751      0.258     -2.230      0.026      -1.081      -0.070\n",
       "INTWALL_Lt Concrete             0          0        nan        nan           0           0\n",
       "INTWALL_Parquet                 0          0        nan        nan           0           0\n",
       "INTWALL_Resiliant               0          0        nan        nan           0           0\n",
       "INTWALL_Terrazo                 0          0        nan        nan           0           0\n",
       "INTWALL_Vinyl Comp              0          0        nan        nan           0           0\n",
       "INTWALL_Vinyl Sheet             0          0        nan        nan           0           0\n",
       "INTWALL_Wood Floor        -0.2976      0.285     -1.044      0.296      -0.856       0.261\n",
       "WARD_Ward 2                7.7224      0.272     28.388      0.000       7.189       8.256\n",
       "WARD_Ward 3                5.8330      0.229     25.493      0.000       5.385       6.281\n",
       "WARD_Ward 4               -3.2416      0.191    -16.953      0.000      -3.616      -2.867\n",
       "WARD_Ward 5               -5.7379      0.194    -29.520      0.000      -6.119      -5.357\n",
       "WARD_Ward 6                0.8345      0.176      4.749      0.000       0.490       1.179\n",
       "WARD_Ward 7              -12.2681      0.219    -56.135      0.000     -12.696     -11.840\n",
       "WARD_Ward 8              -13.3414      0.238    -56.172      0.000     -13.807     -12.876\n",
       "==============================================================================\n",
       "Omnibus:                     9160.995   Durbin-Watson:                   2.002\n",
       "Prob(Omnibus):                  0.000   Jarque-Bera (JB):           389877.783\n",
       "Skew:                           0.439   Prob(JB):                         0.00\n",
       "Kurtosis:                      18.948   Cond. No.                     1.10e+16\n",
       "==============================================================================\n",
       "\n",
       "Notes:\n",
       "[1] Standard Errors assume that the covariance matrix of the errors is correctly specified.\n",
       "[2] The smallest eigenvalue is 7.43e-21. This might indicate that there are\n",
       "strong multicollinearity problems or that the design matrix is singular.\n",
       "\"\"\""
      ]
     },
     "execution_count": 7,
     "metadata": {},
     "output_type": "execute_result"
    }
   ],
   "source": [
    "#split into Test and Train\n",
    "X_train, X_test, y_train, y_test = train_test_split( X, y, test_size = 0.2, random_state = 100)\n",
    "model = sm.OLS(y_train, X_train.astype(float)).fit()\n",
    "\n",
    "# Print out the statistics\n",
    "# evaluate Accuracy\n",
    "evaluate(model, X_test, y_test)\n",
    "model.summary()"
   ]
  },
  {
   "cell_type": "markdown",
   "metadata": {},
   "source": [
    "### DecisionTreeRegressor"
   ]
  },
  {
   "cell_type": "code",
   "execution_count": 7,
   "metadata": {},
   "outputs": [
    {
     "name": "stderr",
     "output_type": "stream",
     "text": [
      "C:\\Users\\user\\AppData\\Local\\Programs\\Python\\Python310\\lib\\site-packages\\sklearn\\model_selection\\_search.py:292: UserWarning: The total space of parameters 2 is smaller than n_iter=10. Running 2 iterations. For exhaustive searches, use GridSearchCV.\n",
      "  warnings.warn(\n"
     ]
    },
    {
     "name": "stdout",
     "output_type": "stream",
     "text": [
      "Model Performance\n",
      "R2: 0.6964075733661369\n",
      "Mean_Absolute_Error: 6.916788424756027\n",
      "Mean_Squared_Error: 111.93313635398685\n",
      "RMSE: 10.579845762296673\n"
     ]
    }
   ],
   "source": [
    "from sklearn.tree import DecisionTreeRegressor\n",
    "\n",
    "param_dist = {'max_depth': [1,20]}\n",
    "\n",
    "DTR = DecisionTreeRegressor()\n",
    "DTR_cv = RandomizedSearchCV(DTR, param_dist, scoring='neg_mean_absolute_error')\n",
    "DTR_cv.fit(X_train, y_train)\n",
    "evaluate(DTR_cv.best_estimator_, X_test, y_test)"
   ]
  },
  {
   "cell_type": "code",
   "execution_count": 8,
   "metadata": {},
   "outputs": [
    {
     "name": "stdout",
     "output_type": "stream",
     "text": [
      "DecisionTreeRegressor(max_depth=20)\n"
     ]
    }
   ],
   "source": [
    "print(DTR_cv.best_estimator_)"
   ]
  },
  {
   "cell_type": "markdown",
   "metadata": {},
   "source": [
    "### RandomForestRegressor"
   ]
  },
  {
   "cell_type": "code",
   "execution_count": 8,
   "metadata": {},
   "outputs": [
    {
     "name": "stdout",
     "output_type": "stream",
     "text": [
      "Model Performance\n",
      "R2: 0.8561928287404549\n",
      "Mean_Absolute_Error: 4.868271974984811\n",
      "Mean_Squared_Error: 53.02104498373658\n",
      "RMSE: 7.281555121245501\n"
     ]
    }
   ],
   "source": [
    "from sklearn.ensemble import RandomForestRegressor\n",
    "from pprint import pprint\n",
    "\n",
    "# Create the parameter distribution\n",
    "param_dist = {'n_estimators': [int(x) for x in np.linspace(start = 100, stop = 500, num = 10)],\n",
    "               'max_features': ['auto', 'sqrt'],\n",
    "               'max_depth': [1, 20]}\n",
    "\n",
    "RFR = RandomForestRegressor()\n",
    "RFR_cv = RandomizedSearchCV(RFR, param_dist, scoring='neg_mean_absolute_error')\n",
    "RFR_cv.fit(X_train, y_train)\n",
    "\n",
    "# RESULT\n",
    "evaluate(RFR_cv.best_estimator_, X_test, y_test)"
   ]
  },
  {
   "cell_type": "code",
   "execution_count": 9,
   "metadata": {},
   "outputs": [
    {
     "name": "stdout",
     "output_type": "stream",
     "text": [
      "RandomForestRegressor(max_depth=20, n_estimators=322)\n"
     ]
    }
   ],
   "source": [
    "print(RFR_cv.best_estimator_)"
   ]
  },
  {
   "cell_type": "markdown",
   "metadata": {},
   "source": [
    "### Adaptive Boosting Decision Tree"
   ]
  },
  {
   "cell_type": "code",
   "execution_count": 11,
   "metadata": {},
   "outputs": [
    {
     "name": "stdout",
     "output_type": "stream",
     "text": [
      "Model Performance\n",
      "R2: 0.8665232039756257\n",
      "Mean_Absolute_Error: 4.64378525946357\n",
      "Mean_Squared_Error: 49.21228297802044\n",
      "RMSE: 7.01514668257339\n"
     ]
    }
   ],
   "source": [
    "rng = np.random.RandomState(1)\n",
    "param_dist = {'n_estimators': [int(x) for x in np.linspace(start = 100, stop = 400, num = 10)]}\n",
    "\n",
    "\n",
    "ada = AdaBoostRegressor(DecisionTreeRegressor(random_state = rng), random_state = rng)\n",
    "ada_cv = RandomizedSearchCV(ada, param_dist, scoring='neg_mean_absolute_error')\n",
    "ada_cv.fit(X_train, y_train)\n",
    "\n",
    "evaluate(ada_cv.best_estimator_, X_test, y_test)"
   ]
  },
  {
   "cell_type": "code",
   "execution_count": 12,
   "metadata": {},
   "outputs": [
    {
     "name": "stdout",
     "output_type": "stream",
     "text": [
      "AdaBoostRegressor(base_estimator=DecisionTreeRegressor(random_state=RandomState(MT19937) at 0x257B7FE9F40),\n",
      "                  n_estimators=166,\n",
      "                  random_state=RandomState(MT19937) at 0x257B7FEA040)\n"
     ]
    }
   ],
   "source": [
    "# Obtaining the best estimators from the model\n",
    "print(ada_cv.best_estimator_)"
   ]
  },
  {
   "cell_type": "markdown",
   "metadata": {},
   "source": [
    "### XGBRegressor"
   ]
  },
  {
   "cell_type": "code",
   "execution_count": 16,
   "metadata": {},
   "outputs": [],
   "source": [
    "from numpy import absolute\n",
    "from sklearn.model_selection import cross_val_score\n",
    "from sklearn.model_selection import RepeatedKFold\n",
    "from xgboost import XGBRegressor\n",
    "from hyperopt import STATUS_OK, Trials, fmin, hp, tpe"
   ]
  },
  {
   "cell_type": "code",
   "execution_count": 50,
   "metadata": {},
   "outputs": [
    {
     "name": "stderr",
     "output_type": "stream",
     "text": [
      "C:\\Users\\user\\AppData\\Local\\Programs\\Python\\Python310\\lib\\site-packages\\xgboost\\data.py:262: FutureWarning: pandas.Int64Index is deprecated and will be removed from pandas in a future version. Use pandas.Index with the appropriate dtype instead.\n",
      "  elif isinstance(data.columns, (pd.Int64Index, pd.RangeIndex)):\n"
     ]
    },
    {
     "name": "stdout",
     "output_type": "stream",
     "text": [
      "Model Performance\n",
      "R2: 0.8693665388275876\n",
      "Mean_Absolute_Error: 4.751485282607828\n",
      "Mean_Squared_Error: 48.163958448935496\n",
      "RMSE: 6.940025824803212\n"
     ]
    }
   ],
   "source": [
    "xg_reg = xgb.XGBRegressor()\n",
    "xg_reg.fit(X_train,y_train)\n",
    "evaluate(xg_reg, X_test, y_test)"
   ]
  },
  {
   "cell_type": "markdown",
   "metadata": {},
   "source": [
    "### KNN"
   ]
  },
  {
   "cell_type": "code",
   "execution_count": 6,
   "metadata": {},
   "outputs": [
    {
     "name": "stderr",
     "output_type": "stream",
     "text": [
      "C:\\Users\\user\\AppData\\Local\\Programs\\Python\\Python310\\lib\\site-packages\\sklearn\\model_selection\\_search.py:292: UserWarning: The total space of parameters 4 is smaller than n_iter=10. Running 4 iterations. For exhaustive searches, use GridSearchCV.\n",
      "  warnings.warn(\n"
     ]
    },
    {
     "name": "stdout",
     "output_type": "stream",
     "text": [
      "Model Performance\n",
      "R2: 0.3946184394129292\n",
      "Mean_Absolute_Error: 11.374063008403468\n",
      "Mean_Squared_Error: 223.2014069609985\n",
      "RMSE: 14.93992660494015\n"
     ]
    }
   ],
   "source": [
    "from sklearn.neighbors import KNeighborsRegressor\n",
    "\n",
    "\n",
    "param_dist = {\"n_neighbors\": [3, 7],\n",
    "              \"weights\": [\"uniform\", \"distance\"]}\n",
    "\n",
    "KNR = KNeighborsRegressor()\n",
    "KNR_cv = RandomizedSearchCV(KNR, param_dist, cv=5)\n",
    "\n",
    "KNR_cv.fit(X_train, y_train)\n",
    "#KNR.score(X_train, y_train)\n",
    "\n",
    "evaluate(KNR_cv.best_estimator_, X_test, y_test)"
   ]
  },
  {
   "cell_type": "code",
   "execution_count": 7,
   "metadata": {},
   "outputs": [
    {
     "name": "stdout",
     "output_type": "stream",
     "text": [
      "KNeighborsRegressor(n_neighbors=7, weights='distance')\n"
     ]
    }
   ],
   "source": [
    "print(KNR_cv.best_estimator_)"
   ]
  },
  {
   "cell_type": "markdown",
   "metadata": {},
   "source": [
    "### SVR"
   ]
  },
  {
   "cell_type": "code",
   "execution_count": 49,
   "metadata": {},
   "outputs": [
    {
     "name": "stdout",
     "output_type": "stream",
     "text": [
      "Model Performance\n",
      "R2: 0.2658893976167852\n",
      "Mean_Absolute_Error: 13.19100043877997\n",
      "Mean_Squared_Error: 270.66321471374386\n",
      "RMSE: 16.451845328526034\n"
     ]
    }
   ],
   "source": [
    "from sklearn.svm import SVR\n",
    "\n",
    "\n",
    "svr = SVR()\n",
    "svr.fit(X_train, y_train)\n",
    "evaluate(svr, X_test, y_test)"
   ]
  },
  {
   "cell_type": "markdown",
   "metadata": {},
   "source": [
    "### Ridge"
   ]
  },
  {
   "cell_type": "code",
   "execution_count": 58,
   "metadata": {},
   "outputs": [
    {
     "name": "stdout",
     "output_type": "stream",
     "text": [
      "Model Performance\n",
      "R2: 0.8324752562668996\n",
      "Mean_Absolute_Error: 5.745353126603387\n",
      "Mean_Squared_Error: 61.76560525852152\n",
      "RMSE: 7.8591096988476705\n"
     ]
    }
   ],
   "source": [
    "from scipy.stats import uniform\n",
    "from sklearn.linear_model import Ridge\n",
    "from sklearn.model_selection import KFold\n",
    "\n",
    "\n",
    "param_grid = {'alpha': uniform()}\n",
    "seed=6\n",
    "model = Ridge()\n",
    "kfold = KFold(n_splits=8, random_state=seed, shuffle=True)\n",
    "rsearch = RandomizedSearchCV(estimator=model, param_distributions=param_grid, n_iter=100, cv=kfold, random_state=seed, scoring='neg_mean_absolute_error')\n",
    "rsearch.fit(X_train, y_train)\n",
    "evaluate(rsearch, X_test, y_test)"
   ]
  },
  {
   "cell_type": "code",
   "execution_count": 59,
   "metadata": {},
   "outputs": [
    {
     "name": "stdout",
     "output_type": "stream",
     "text": [
      "Ridge(alpha=0.9942074384219376)\n"
     ]
    }
   ],
   "source": [
    "print(rsearch.best_estimator_)"
   ]
  },
  {
   "cell_type": "markdown",
   "metadata": {},
   "source": [
    "### Lasso"
   ]
  },
  {
   "cell_type": "code",
   "execution_count": 64,
   "metadata": {},
   "outputs": [
    {
     "name": "stdout",
     "output_type": "stream",
     "text": [
      "Model Performance\n",
      "R2: 0.8307481851054155\n",
      "Mean_Absolute_Error: 5.781296636410418\n",
      "Mean_Squared_Error: 62.40236848069694\n",
      "RMSE: 7.899516977682683\n"
     ]
    }
   ],
   "source": [
    "import random\n",
    "from sklearn.linear_model import Lasso\n",
    "\n",
    "param_grid = {'alpha': uniform()}\n",
    "seed=6\n",
    "model = Lasso()\n",
    "kfold = KFold(n_splits=8, random_state=seed, shuffle=True)\n",
    "rsearch = RandomizedSearchCV(estimator=model, param_distributions=param_grid, n_iter=100, cv=kfold, random_state=seed)\n",
    "rsearch.fit(X_train, y_train)\n",
    "evaluate(rsearch, X_test, y_test)"
   ]
  },
  {
   "cell_type": "code",
   "execution_count": 65,
   "metadata": {},
   "outputs": [
    {
     "name": "stdout",
     "output_type": "stream",
     "text": [
      "Lasso(alpha=0.036608530436010756)\n"
     ]
    }
   ],
   "source": [
    "print(rsearch.best_estimator_)"
   ]
  },
  {
   "cell_type": "markdown",
   "metadata": {},
   "source": [
    "## With Drop Variable"
   ]
  },
  {
   "cell_type": "markdown",
   "metadata": {},
   "source": [
    "### OLS/LinearRegression with Drop"
   ]
  },
  {
   "cell_type": "code",
   "execution_count": 12,
   "metadata": {},
   "outputs": [
    {
     "data": {
      "text/plain": [
       "0.8338295744236155"
      ]
     },
     "execution_count": 12,
     "metadata": {},
     "output_type": "execute_result"
    }
   ],
   "source": [
    "reg = LinearRegression().fit(X_test, y_test)\n",
    "reg.score(X_test, y_test)"
   ]
  },
  {
   "cell_type": "code",
   "execution_count": 13,
   "metadata": {},
   "outputs": [],
   "source": [
    "drop1 = ['ROOF_Slate', 'ROOMS', 'EXTWALL_Vinyl Siding', 'EXTWALL_Brick/Siding', 'STORIES', 'HEAT_Hot Water Rad', 'HEAT_Warm Cool', 'EXTWALL_Wood Siding', 'EXTWALL_Stucco', 'EXTWALL_Common Brick', 'HEAT_Forced Air', 'INTWALL_Wood Floor', 'STYLE_2.5 Story Fin', 'STRUCT_Multi', 'BEDRM', 'STRUCT_Row Inside', 'STRUCT_Row End', 'STRUCT_Single', 'STRUCT_Semi-Detached', 'STRUCT_Town End', 'STRUCT_Town Inside', 'GRADE_Exceptional-A', 'GRADE_Exceptional-B', 'GRADE_Exceptional-C', 'GRADE_Exceptional-D', 'GRADE_Fair Quality', 'GRADE_Low Quality', 'GRADE_Superior', 'CNDTN_Default', 'CNDTN_Excellent', 'CNDTN_Fair', 'CNDTN_Poor', 'EXTWALL_Aluminum', 'EXTWALL_Brick Veneer', 'EXTWALL_Brick/Stone', 'EXTWALL_Brick/Stucco', 'EXTWALL_Concrete', 'EXTWALL_Concrete Block', 'EXTWALL_Default', 'EXTWALL_Face Brick', 'EXTWALL_Hardboard', 'EXTWALL_Metal Siding', 'EXTWALL_Plywood', 'EXTWALL_SPlaster', 'EXTWALL_Shingle', 'EXTWALL_Stone', 'EXTWALL_Stone Veneer', 'EXTWALL_Stone/Siding', 'EXTWALL_Stone/Stucco', 'EXTWALL_Stucco Block', 'ROOF_Clay Tile', 'ROOF_Composition Ro', 'ROOF_Concrete', 'ROOF_Concrete Tile', 'ROOF_Metal- Cpr', 'ROOF_Metal- Pre', 'ROOF_Neopren', 'ROOF_Shake', 'ROOF_Shingle', 'ROOF_Typical', 'ROOF_Water Proof', 'ROOF_Wood- FS', 'INTWALL_Ceramic Tile', 'INTWALL_Default', 'INTWALL_Lt Concrete', 'INTWALL_Parquet', 'INTWALL_Resiliant', 'INTWALL_Terrazo', 'INTWALL_Vinyl Comp', 'INTWALL_Vinyl Sheet']"
   ]
  },
  {
   "cell_type": "code",
   "execution_count": 14,
   "metadata": {},
   "outputs": [
    {
     "name": "stdout",
     "output_type": "stream",
     "text": [
      "Model Performance\n",
      "R2: 0.8299217995795433\n",
      "Mean_Absolute_Error: 5.797898843757664\n",
      "Mean_Squared_Error: 62.707053036810606\n",
      "RMSE: 7.918778506613921\n"
     ]
    },
    {
     "data": {
      "text/html": [
       "<table class=\"simpletable\">\n",
       "<caption>OLS Regression Results</caption>\n",
       "<tr>\n",
       "  <th>Dep. Variable:</th>          <td>PRICE</td>      <th>  R-squared:         </th>  <td>   0.825</td>  \n",
       "</tr>\n",
       "<tr>\n",
       "  <th>Model:</th>                   <td>OLS</td>       <th>  Adj. R-squared:    </th>  <td>   0.825</td>  \n",
       "</tr>\n",
       "<tr>\n",
       "  <th>Method:</th>             <td>Least Squares</td>  <th>  F-statistic:       </th>  <td>   5076.</td>  \n",
       "</tr>\n",
       "<tr>\n",
       "  <th>Date:</th>             <td>Fri, 04 Feb 2022</td> <th>  Prob (F-statistic):</th>   <td>  0.00</td>   \n",
       "</tr>\n",
       "<tr>\n",
       "  <th>Time:</th>                 <td>20:51:01</td>     <th>  Log-Likelihood:    </th> <td>-1.2829e+05</td>\n",
       "</tr>\n",
       "<tr>\n",
       "  <th>No. Observations:</th>      <td> 36680</td>      <th>  AIC:               </th>  <td>2.567e+05</td> \n",
       "</tr>\n",
       "<tr>\n",
       "  <th>Df Residuals:</th>          <td> 36645</td>      <th>  BIC:               </th>  <td>2.569e+05</td> \n",
       "</tr>\n",
       "<tr>\n",
       "  <th>Df Model:</th>              <td>    34</td>      <th>                     </th>      <td> </td>     \n",
       "</tr>\n",
       "<tr>\n",
       "  <th>Covariance Type:</th>      <td>nonrobust</td>    <th>                     </th>      <td> </td>     \n",
       "</tr>\n",
       "</table>\n",
       "<table class=\"simpletable\">\n",
       "<tr>\n",
       "            <td></td>               <th>coef</th>     <th>std err</th>      <th>t</th>      <th>P>|t|</th>  <th>[0.025</th>    <th>0.975]</th>  \n",
       "</tr>\n",
       "<tr>\n",
       "  <th>BATHRM</th>                <td>    1.4698</td> <td>    0.073</td> <td>   20.250</td> <td> 0.000</td> <td>    1.328</td> <td>    1.612</td>\n",
       "</tr>\n",
       "<tr>\n",
       "  <th>HF_BATHRM</th>             <td>    1.2927</td> <td>    0.086</td> <td>   15.059</td> <td> 0.000</td> <td>    1.124</td> <td>    1.461</td>\n",
       "</tr>\n",
       "<tr>\n",
       "  <th>NUM_UNITS</th>             <td>   -2.0827</td> <td>    0.233</td> <td>   -8.942</td> <td> 0.000</td> <td>   -2.539</td> <td>   -1.626</td>\n",
       "</tr>\n",
       "<tr>\n",
       "  <th>AYB</th>                   <td>-1.822e+08</td> <td> 2.47e+09</td> <td>   -0.074</td> <td> 0.941</td> <td>-5.03e+09</td> <td> 4.67e+09</td>\n",
       "</tr>\n",
       "<tr>\n",
       "  <th>YR_RMDL</th>               <td>   -0.0148</td> <td>    0.003</td> <td>   -5.807</td> <td> 0.000</td> <td>   -0.020</td> <td>   -0.010</td>\n",
       "</tr>\n",
       "<tr>\n",
       "  <th>EYB</th>                   <td> 1.822e+08</td> <td> 2.47e+09</td> <td>    0.074</td> <td> 0.941</td> <td>-4.67e+09</td> <td> 5.03e+09</td>\n",
       "</tr>\n",
       "<tr>\n",
       "  <th>SALE_NUM</th>              <td>   -0.0970</td> <td>    0.037</td> <td>   -2.648</td> <td> 0.008</td> <td>   -0.169</td> <td>   -0.025</td>\n",
       "</tr>\n",
       "<tr>\n",
       "  <th>GBA</th>                   <td>    0.0042</td> <td>    0.000</td> <td>   36.853</td> <td> 0.000</td> <td>    0.004</td> <td>    0.004</td>\n",
       "</tr>\n",
       "<tr>\n",
       "  <th>BLDG_NUM</th>              <td>-2705.0301</td> <td>   17.064</td> <td> -158.523</td> <td> 0.000</td> <td>-2738.476</td> <td>-2671.584</td>\n",
       "</tr>\n",
       "<tr>\n",
       "  <th>KITCHENS</th>              <td>    0.4406</td> <td>    0.206</td> <td>    2.139</td> <td> 0.032</td> <td>    0.037</td> <td>    0.844</td>\n",
       "</tr>\n",
       "<tr>\n",
       "  <th>FIREPLACES</th>            <td>    1.7377</td> <td>    0.067</td> <td>   25.890</td> <td> 0.000</td> <td>    1.606</td> <td>    1.869</td>\n",
       "</tr>\n",
       "<tr>\n",
       "  <th>USECODE</th>               <td>    0.1336</td> <td>    0.017</td> <td>    7.738</td> <td> 0.000</td> <td>    0.100</td> <td>    0.167</td>\n",
       "</tr>\n",
       "<tr>\n",
       "  <th>LANDAREA</th>              <td>    0.0005</td> <td> 2.97e-05</td> <td>   16.104</td> <td> 0.000</td> <td>    0.000</td> <td>    0.001</td>\n",
       "</tr>\n",
       "<tr>\n",
       "  <th>SalevYB</th>               <td>-1.822e+08</td> <td> 2.47e+09</td> <td>   -0.074</td> <td> 0.941</td> <td>-5.03e+09</td> <td> 4.67e+09</td>\n",
       "</tr>\n",
       "<tr>\n",
       "  <th>SalevYI</th>               <td> 1.822e+08</td> <td> 2.47e+09</td> <td>    0.074</td> <td> 0.941</td> <td>-4.67e+09</td> <td> 5.03e+09</td>\n",
       "</tr>\n",
       "<tr>\n",
       "  <th>HEAT_Air-Oil</th>          <td>  -85.0020</td> <td> 1154.271</td> <td>   -0.074</td> <td> 0.941</td> <td>-2347.406</td> <td> 2177.402</td>\n",
       "</tr>\n",
       "<tr>\n",
       "  <th>HEAT_Elec Base Brd</th>    <td>  357.7873</td> <td> 4858.514</td> <td>    0.074</td> <td> 0.941</td> <td>-9165.040</td> <td> 9880.615</td>\n",
       "</tr>\n",
       "<tr>\n",
       "  <th>HEAT_Electric Rad</th>     <td>   68.4340</td> <td>  929.288</td> <td>    0.074</td> <td> 0.941</td> <td>-1752.998</td> <td> 1889.866</td>\n",
       "</tr>\n",
       "<tr>\n",
       "  <th>HEAT_Evp Cool</th>         <td>  351.1924</td> <td> 4768.960</td> <td>    0.074</td> <td> 0.941</td> <td>-8996.106</td> <td> 9698.491</td>\n",
       "</tr>\n",
       "<tr>\n",
       "  <th>HEAT_Gravity Furnac</th>   <td>  207.0701</td> <td> 2811.874</td> <td>    0.074</td> <td> 0.941</td> <td>-5304.284</td> <td> 5718.424</td>\n",
       "</tr>\n",
       "<tr>\n",
       "  <th>HEAT_Ht Pump</th>          <td> -539.5646</td> <td> 7326.930</td> <td>   -0.074</td> <td> 0.941</td> <td>-1.49e+04</td> <td> 1.38e+04</td>\n",
       "</tr>\n",
       "<tr>\n",
       "  <th>HEAT_Ind Unit</th>         <td>  222.2734</td> <td> 3018.325</td> <td>    0.074</td> <td> 0.941</td> <td>-5693.731</td> <td> 6138.278</td>\n",
       "</tr>\n",
       "<tr>\n",
       "  <th>HEAT_Wall Furnace</th>     <td>  342.8717</td> <td> 4655.970</td> <td>    0.074</td> <td> 0.941</td> <td>-8782.964</td> <td> 9468.707</td>\n",
       "</tr>\n",
       "<tr>\n",
       "  <th>HEAT_Water Base Brd</th>   <td> -296.9537</td> <td> 4032.434</td> <td>   -0.074</td> <td> 0.941</td> <td>-8200.640</td> <td> 7606.733</td>\n",
       "</tr>\n",
       "<tr>\n",
       "  <th>AC_1</th>                  <td>    1.5036</td> <td>    0.115</td> <td>   13.030</td> <td> 0.000</td> <td>    1.277</td> <td>    1.730</td>\n",
       "</tr>\n",
       "<tr>\n",
       "  <th>QUALIFIED_U</th>           <td>   -7.0636</td> <td>    0.107</td> <td>  -65.880</td> <td> 0.000</td> <td>   -7.274</td> <td>   -6.853</td>\n",
       "</tr>\n",
       "<tr>\n",
       "  <th>STYLE_1.5 Story Fin</th>   <td>   86.6373</td> <td> 1176.477</td> <td>    0.074</td> <td> 0.941</td> <td>-2219.291</td> <td> 2392.565</td>\n",
       "</tr>\n",
       "<tr>\n",
       "  <th>STYLE_1.5 Story Unfin</th> <td>  318.0196</td> <td> 4318.495</td> <td>    0.074</td> <td> 0.941</td> <td>-8146.355</td> <td> 8782.394</td>\n",
       "</tr>\n",
       "<tr>\n",
       "  <th>STYLE_2 Story</th>         <td>   -1.6617</td> <td>    0.163</td> <td>  -10.200</td> <td> 0.000</td> <td>   -1.981</td> <td>   -1.342</td>\n",
       "</tr>\n",
       "<tr>\n",
       "  <th>STYLE_2.5 Story Unfin</th> <td>   15.1227</td> <td>  205.356</td> <td>    0.074</td> <td> 0.941</td> <td> -387.381</td> <td>  417.627</td>\n",
       "</tr>\n",
       "<tr>\n",
       "  <th>STYLE_3 Story</th>         <td>   -1.5852</td> <td>    0.235</td> <td>   -6.735</td> <td> 0.000</td> <td>   -2.046</td> <td>   -1.124</td>\n",
       "</tr>\n",
       "<tr>\n",
       "  <th>STYLE_3.5 Story Fin</th>   <td>  129.6273</td> <td> 1760.252</td> <td>    0.074</td> <td> 0.941</td> <td>-3320.518</td> <td> 3579.772</td>\n",
       "</tr>\n",
       "<tr>\n",
       "  <th>STYLE_3.5 Story Unfin</th> <td>  231.8875</td> <td> 3148.879</td> <td>    0.074</td> <td> 0.941</td> <td>-5940.005</td> <td> 6403.780</td>\n",
       "</tr>\n",
       "<tr>\n",
       "  <th>STYLE_4 Story</th>         <td>   14.3746</td> <td>  195.197</td> <td>    0.074</td> <td> 0.941</td> <td> -368.217</td> <td>  396.967</td>\n",
       "</tr>\n",
       "<tr>\n",
       "  <th>STYLE_4.5 Story Fin</th>   <td>    3.7488</td> <td>   50.907</td> <td>    0.074</td> <td> 0.941</td> <td>  -96.030</td> <td>  103.528</td>\n",
       "</tr>\n",
       "<tr>\n",
       "  <th>STYLE_4.5 Story Unfin</th> <td>         0</td> <td>        0</td> <td>      nan</td> <td>   nan</td> <td>        0</td> <td>        0</td>\n",
       "</tr>\n",
       "<tr>\n",
       "  <th>STYLE_Bi-Level</th>        <td>         0</td> <td>        0</td> <td>      nan</td> <td>   nan</td> <td>        0</td> <td>        0</td>\n",
       "</tr>\n",
       "<tr>\n",
       "  <th>STYLE_Default</th>         <td>         0</td> <td>        0</td> <td>      nan</td> <td>   nan</td> <td>        0</td> <td>        0</td>\n",
       "</tr>\n",
       "<tr>\n",
       "  <th>STYLE_Outbuildings</th>    <td>         0</td> <td>        0</td> <td>      nan</td> <td>   nan</td> <td>        0</td> <td>        0</td>\n",
       "</tr>\n",
       "<tr>\n",
       "  <th>STYLE_Split Foyer</th>     <td>         0</td> <td>        0</td> <td>      nan</td> <td>   nan</td> <td>        0</td> <td>        0</td>\n",
       "</tr>\n",
       "<tr>\n",
       "  <th>STYLE_Split Level</th>     <td>         0</td> <td>        0</td> <td>      nan</td> <td>   nan</td> <td>        0</td> <td>        0</td>\n",
       "</tr>\n",
       "<tr>\n",
       "  <th>STYLE_Vacant</th>          <td>         0</td> <td>        0</td> <td>      nan</td> <td>   nan</td> <td>        0</td> <td>        0</td>\n",
       "</tr>\n",
       "<tr>\n",
       "  <th>GRADE_Average</th>         <td>   -2.1662</td> <td>    0.113</td> <td>  -19.176</td> <td> 0.000</td> <td>   -2.388</td> <td>   -1.945</td>\n",
       "</tr>\n",
       "<tr>\n",
       "  <th>GRADE_Excellent</th>       <td>    9.1318</td> <td>    0.305</td> <td>   29.893</td> <td> 0.000</td> <td>    8.533</td> <td>    9.730</td>\n",
       "</tr>\n",
       "<tr>\n",
       "  <th>GRADE_Good Quality</th>    <td>    3.4711</td> <td>    0.135</td> <td>   25.637</td> <td> 0.000</td> <td>    3.206</td> <td>    3.736</td>\n",
       "</tr>\n",
       "<tr>\n",
       "  <th>GRADE_Very Good</th>       <td>    6.4723</td> <td>    0.205</td> <td>   31.631</td> <td> 0.000</td> <td>    6.071</td> <td>    6.873</td>\n",
       "</tr>\n",
       "<tr>\n",
       "  <th>CNDTN_Good</th>            <td>    2.3925</td> <td>    0.113</td> <td>   21.081</td> <td> 0.000</td> <td>    2.170</td> <td>    2.615</td>\n",
       "</tr>\n",
       "<tr>\n",
       "  <th>CNDTN_Very Good</th>       <td>    5.5785</td> <td>    0.185</td> <td>   30.086</td> <td> 0.000</td> <td>    5.215</td> <td>    5.942</td>\n",
       "</tr>\n",
       "<tr>\n",
       "  <th>ROOF_Comp Shingle</th>     <td>   -0.8187</td> <td>    0.122</td> <td>   -6.726</td> <td> 0.000</td> <td>   -1.057</td> <td>   -0.580</td>\n",
       "</tr>\n",
       "<tr>\n",
       "  <th>ROOF_Metal- Sms</th>       <td>   -0.0098</td> <td>    0.109</td> <td>   -0.090</td> <td> 0.929</td> <td>   -0.223</td> <td>    0.204</td>\n",
       "</tr>\n",
       "<tr>\n",
       "  <th>INTWALL_Hardwood</th>      <td>    0.7249</td> <td>    0.144</td> <td>    5.042</td> <td> 0.000</td> <td>    0.443</td> <td>    1.007</td>\n",
       "</tr>\n",
       "<tr>\n",
       "  <th>INTWALL_Hardwood/Carp</th> <td>   -0.3587</td> <td>    0.182</td> <td>   -1.969</td> <td> 0.049</td> <td>   -0.716</td> <td>   -0.002</td>\n",
       "</tr>\n",
       "<tr>\n",
       "  <th>WARD_Ward 2</th>           <td>    7.6078</td> <td>    0.270</td> <td>   28.157</td> <td> 0.000</td> <td>    7.078</td> <td>    8.137</td>\n",
       "</tr>\n",
       "<tr>\n",
       "  <th>WARD_Ward 3</th>           <td>    5.4315</td> <td>    0.224</td> <td>   24.205</td> <td> 0.000</td> <td>    4.992</td> <td>    5.871</td>\n",
       "</tr>\n",
       "<tr>\n",
       "  <th>WARD_Ward 4</th>           <td>   -3.4329</td> <td>    0.189</td> <td>  -18.150</td> <td> 0.000</td> <td>   -3.804</td> <td>   -3.062</td>\n",
       "</tr>\n",
       "<tr>\n",
       "  <th>WARD_Ward 5</th>           <td>   -6.0556</td> <td>    0.194</td> <td>  -31.273</td> <td> 0.000</td> <td>   -6.435</td> <td>   -5.676</td>\n",
       "</tr>\n",
       "<tr>\n",
       "  <th>WARD_Ward 6</th>           <td>    0.6570</td> <td>    0.175</td> <td>    3.755</td> <td> 0.000</td> <td>    0.314</td> <td>    1.000</td>\n",
       "</tr>\n",
       "<tr>\n",
       "  <th>WARD_Ward 7</th>           <td>  -12.7743</td> <td>    0.215</td> <td>  -59.295</td> <td> 0.000</td> <td>  -13.197</td> <td>  -12.352</td>\n",
       "</tr>\n",
       "<tr>\n",
       "  <th>WARD_Ward 8</th>           <td>  -13.9217</td> <td>    0.234</td> <td>  -59.372</td> <td> 0.000</td> <td>  -14.381</td> <td>  -13.462</td>\n",
       "</tr>\n",
       "</table>\n",
       "<table class=\"simpletable\">\n",
       "<tr>\n",
       "  <th>Omnibus:</th>       <td>8947.944</td> <th>  Durbin-Watson:     </th>  <td>   1.999</td> \n",
       "</tr>\n",
       "<tr>\n",
       "  <th>Prob(Omnibus):</th>  <td> 0.000</td>  <th>  Jarque-Bera (JB):  </th> <td>359468.822</td>\n",
       "</tr>\n",
       "<tr>\n",
       "  <th>Skew:</th>           <td> 0.425</td>  <th>  Prob(JB):          </th>  <td>    0.00</td> \n",
       "</tr>\n",
       "<tr>\n",
       "  <th>Kurtosis:</th>       <td>18.313</td>  <th>  Cond. No.          </th>  <td>1.10e+16</td> \n",
       "</tr>\n",
       "</table><br/><br/>Notes:<br/>[1] Standard Errors assume that the covariance matrix of the errors is correctly specified.<br/>[2] The smallest eigenvalue is 7.43e-21. This might indicate that there are<br/>strong multicollinearity problems or that the design matrix is singular."
      ],
      "text/plain": [
       "<class 'statsmodels.iolib.summary.Summary'>\n",
       "\"\"\"\n",
       "                            OLS Regression Results                            \n",
       "==============================================================================\n",
       "Dep. Variable:                  PRICE   R-squared:                       0.825\n",
       "Model:                            OLS   Adj. R-squared:                  0.825\n",
       "Method:                 Least Squares   F-statistic:                     5076.\n",
       "Date:                Fri, 04 Feb 2022   Prob (F-statistic):               0.00\n",
       "Time:                        20:51:01   Log-Likelihood:            -1.2829e+05\n",
       "No. Observations:               36680   AIC:                         2.567e+05\n",
       "Df Residuals:                   36645   BIC:                         2.569e+05\n",
       "Df Model:                          34                                         \n",
       "Covariance Type:            nonrobust                                         \n",
       "=========================================================================================\n",
       "                            coef    std err          t      P>|t|      [0.025      0.975]\n",
       "-----------------------------------------------------------------------------------------\n",
       "BATHRM                    1.4698      0.073     20.250      0.000       1.328       1.612\n",
       "HF_BATHRM                 1.2927      0.086     15.059      0.000       1.124       1.461\n",
       "NUM_UNITS                -2.0827      0.233     -8.942      0.000      -2.539      -1.626\n",
       "AYB                   -1.822e+08   2.47e+09     -0.074      0.941   -5.03e+09    4.67e+09\n",
       "YR_RMDL                  -0.0148      0.003     -5.807      0.000      -0.020      -0.010\n",
       "EYB                    1.822e+08   2.47e+09      0.074      0.941   -4.67e+09    5.03e+09\n",
       "SALE_NUM                 -0.0970      0.037     -2.648      0.008      -0.169      -0.025\n",
       "GBA                       0.0042      0.000     36.853      0.000       0.004       0.004\n",
       "BLDG_NUM              -2705.0301     17.064   -158.523      0.000   -2738.476   -2671.584\n",
       "KITCHENS                  0.4406      0.206      2.139      0.032       0.037       0.844\n",
       "FIREPLACES                1.7377      0.067     25.890      0.000       1.606       1.869\n",
       "USECODE                   0.1336      0.017      7.738      0.000       0.100       0.167\n",
       "LANDAREA                  0.0005   2.97e-05     16.104      0.000       0.000       0.001\n",
       "SalevYB               -1.822e+08   2.47e+09     -0.074      0.941   -5.03e+09    4.67e+09\n",
       "SalevYI                1.822e+08   2.47e+09      0.074      0.941   -4.67e+09    5.03e+09\n",
       "HEAT_Air-Oil            -85.0020   1154.271     -0.074      0.941   -2347.406    2177.402\n",
       "HEAT_Elec Base Brd      357.7873   4858.514      0.074      0.941   -9165.040    9880.615\n",
       "HEAT_Electric Rad        68.4340    929.288      0.074      0.941   -1752.998    1889.866\n",
       "HEAT_Evp Cool           351.1924   4768.960      0.074      0.941   -8996.106    9698.491\n",
       "HEAT_Gravity Furnac     207.0701   2811.874      0.074      0.941   -5304.284    5718.424\n",
       "HEAT_Ht Pump           -539.5646   7326.930     -0.074      0.941   -1.49e+04    1.38e+04\n",
       "HEAT_Ind Unit           222.2734   3018.325      0.074      0.941   -5693.731    6138.278\n",
       "HEAT_Wall Furnace       342.8717   4655.970      0.074      0.941   -8782.964    9468.707\n",
       "HEAT_Water Base Brd    -296.9537   4032.434     -0.074      0.941   -8200.640    7606.733\n",
       "AC_1                      1.5036      0.115     13.030      0.000       1.277       1.730\n",
       "QUALIFIED_U              -7.0636      0.107    -65.880      0.000      -7.274      -6.853\n",
       "STYLE_1.5 Story Fin      86.6373   1176.477      0.074      0.941   -2219.291    2392.565\n",
       "STYLE_1.5 Story Unfin   318.0196   4318.495      0.074      0.941   -8146.355    8782.394\n",
       "STYLE_2 Story            -1.6617      0.163    -10.200      0.000      -1.981      -1.342\n",
       "STYLE_2.5 Story Unfin    15.1227    205.356      0.074      0.941    -387.381     417.627\n",
       "STYLE_3 Story            -1.5852      0.235     -6.735      0.000      -2.046      -1.124\n",
       "STYLE_3.5 Story Fin     129.6273   1760.252      0.074      0.941   -3320.518    3579.772\n",
       "STYLE_3.5 Story Unfin   231.8875   3148.879      0.074      0.941   -5940.005    6403.780\n",
       "STYLE_4 Story            14.3746    195.197      0.074      0.941    -368.217     396.967\n",
       "STYLE_4.5 Story Fin       3.7488     50.907      0.074      0.941     -96.030     103.528\n",
       "STYLE_4.5 Story Unfin          0          0        nan        nan           0           0\n",
       "STYLE_Bi-Level                 0          0        nan        nan           0           0\n",
       "STYLE_Default                  0          0        nan        nan           0           0\n",
       "STYLE_Outbuildings             0          0        nan        nan           0           0\n",
       "STYLE_Split Foyer              0          0        nan        nan           0           0\n",
       "STYLE_Split Level              0          0        nan        nan           0           0\n",
       "STYLE_Vacant                   0          0        nan        nan           0           0\n",
       "GRADE_Average            -2.1662      0.113    -19.176      0.000      -2.388      -1.945\n",
       "GRADE_Excellent           9.1318      0.305     29.893      0.000       8.533       9.730\n",
       "GRADE_Good Quality        3.4711      0.135     25.637      0.000       3.206       3.736\n",
       "GRADE_Very Good           6.4723      0.205     31.631      0.000       6.071       6.873\n",
       "CNDTN_Good                2.3925      0.113     21.081      0.000       2.170       2.615\n",
       "CNDTN_Very Good           5.5785      0.185     30.086      0.000       5.215       5.942\n",
       "ROOF_Comp Shingle        -0.8187      0.122     -6.726      0.000      -1.057      -0.580\n",
       "ROOF_Metal- Sms          -0.0098      0.109     -0.090      0.929      -0.223       0.204\n",
       "INTWALL_Hardwood          0.7249      0.144      5.042      0.000       0.443       1.007\n",
       "INTWALL_Hardwood/Carp    -0.3587      0.182     -1.969      0.049      -0.716      -0.002\n",
       "WARD_Ward 2               7.6078      0.270     28.157      0.000       7.078       8.137\n",
       "WARD_Ward 3               5.4315      0.224     24.205      0.000       4.992       5.871\n",
       "WARD_Ward 4              -3.4329      0.189    -18.150      0.000      -3.804      -3.062\n",
       "WARD_Ward 5              -6.0556      0.194    -31.273      0.000      -6.435      -5.676\n",
       "WARD_Ward 6               0.6570      0.175      3.755      0.000       0.314       1.000\n",
       "WARD_Ward 7             -12.7743      0.215    -59.295      0.000     -13.197     -12.352\n",
       "WARD_Ward 8             -13.9217      0.234    -59.372      0.000     -14.381     -13.462\n",
       "==============================================================================\n",
       "Omnibus:                     8947.944   Durbin-Watson:                   1.999\n",
       "Prob(Omnibus):                  0.000   Jarque-Bera (JB):           359468.822\n",
       "Skew:                           0.425   Prob(JB):                         0.00\n",
       "Kurtosis:                      18.313   Cond. No.                     1.10e+16\n",
       "==============================================================================\n",
       "\n",
       "Notes:\n",
       "[1] Standard Errors assume that the covariance matrix of the errors is correctly specified.\n",
       "[2] The smallest eigenvalue is 7.43e-21. This might indicate that there are\n",
       "strong multicollinearity problems or that the design matrix is singular.\n",
       "\"\"\""
      ]
     },
     "execution_count": 14,
     "metadata": {},
     "output_type": "execute_result"
    }
   ],
   "source": [
    "#Drop insignificant variables and rerun the ols model\n",
    "X_train_ols = X_train.drop(drop1, axis =1)\n",
    "X_test_ols = X_test.drop(drop1, axis = 1)\n",
    "model = sm.OLS(y_train, X_train_ols.astype(float), hasconst=True).fit()\n",
    "# Print out the statistics\n",
    "#evaluate Accuracy\n",
    "evaluate(model, X_test_ols, y_test)\n",
    "model.summary()"
   ]
  },
  {
   "cell_type": "code",
   "execution_count": 15,
   "metadata": {},
   "outputs": [],
   "source": [
    "drop2 = ['WARD_Ward 6', 'ROOF_Slate', 'ROOMS', 'EXTWALL_Vinyl Siding', 'EXTWALL_Brick/Siding', 'STORIES', 'HEAT_Hot Water Rad', 'HEAT_Warm Cool', 'EXTWALL_Wood Siding', 'EXTWALL_Stucco', 'EXTWALL_Common Brick', 'HEAT_Forced Air', 'INTWALL_Wood Floor', 'STYLE_2.5 Story Fin', 'STRUCT_Multi', 'BEDRM', 'STRUCT_Row Inside', 'STRUCT_Row End', 'STRUCT_Single', 'STRUCT_Semi-Detached', 'STRUCT_Town End', 'STRUCT_Town Inside', 'GRADE_Exceptional-A', 'GRADE_Exceptional-B', 'GRADE_Exceptional-C', 'GRADE_Exceptional-D', 'GRADE_Fair Quality', 'GRADE_Low Quality', 'GRADE_Superior', 'CNDTN_Default', 'CNDTN_Excellent', 'CNDTN_Fair', 'CNDTN_Poor', 'EXTWALL_Aluminum', 'EXTWALL_Brick Veneer', 'EXTWALL_Brick/Stone', 'EXTWALL_Brick/Stucco', 'EXTWALL_Concrete', 'EXTWALL_Concrete Block', 'EXTWALL_Default', 'EXTWALL_Face Brick', 'EXTWALL_Hardboard', 'EXTWALL_Metal Siding', 'EXTWALL_Plywood', 'EXTWALL_SPlaster', 'EXTWALL_Shingle', 'EXTWALL_Stone', 'EXTWALL_Stone Veneer', 'EXTWALL_Stone/Siding', 'EXTWALL_Stone/Stucco', 'EXTWALL_Stucco Block', 'ROOF_Clay Tile', 'ROOF_Composition Ro', 'ROOF_Concrete', 'ROOF_Concrete Tile', 'ROOF_Metal- Cpr', 'ROOF_Metal- Pre', 'ROOF_Neopren', 'ROOF_Shake', 'ROOF_Shingle', 'ROOF_Typical', 'ROOF_Water Proof', 'ROOF_Wood- FS', 'INTWALL_Ceramic Tile', 'INTWALL_Default', 'INTWALL_Lt Concrete', 'INTWALL_Parquet', 'INTWALL_Resiliant', 'INTWALL_Terrazo', 'INTWALL_Vinyl Comp', 'INTWALL_Vinyl Sheet', 'STYLE_4.5 Story Unfin', 'STYLE_Bi-Level', 'STYLE_Default', 'STYLE_Outbuildings', 'STYLE_Split Foyer', 'STYLE_Split Level', 'STYLE_Vacant','STYLE_4.5 Story Unfin',\t'STYLE_Bi-Level',\t'STYLE_Default',\t'STYLE_Outbuildings', 'STYLE_Split Foyer',\t'STYLE_Split Level',\t'STYLE_Vacant',\t'AYB', 'EYB',\t'SalevYB',\t'SalevYI',\t'HEAT_Air-Oil',\t'HEAT_Elec Base Brd',\t'HEAT_Electric Rad',\t'HEAT_Evp Cool',\t'HEAT_Gravity Furnac',\t'HEAT_Ht Pump',\t'HEAT_Ind Unit',\t'HEAT_Wall Furnace',\t'HEAT_Water Base Brd',\t'STYLE_1.5 Story Fin',\t'STYLE_1.5 Story Unfin',\t'STYLE_2.5 Story Unfin',\t'STYLE_3.5 Story Fin',\t'STYLE_3.5 Story Unfin',\t'STYLE_4 Story',\t'STYLE_4.5 Story Fin',\t'ROOF_Metal- Sms',\t'INTWALL_Hardwood/Carp',\t'KITCHENS']\n"
   ]
  },
  {
   "cell_type": "code",
   "execution_count": 16,
   "metadata": {},
   "outputs": [
    {
     "name": "stdout",
     "output_type": "stream",
     "text": [
      "Model Performance\n",
      "R2: 0.6833232703745915\n",
      "Mean_Absolute_Error: 8.261206160015503\n",
      "Mean_Squared_Error: 116.75725890239222\n",
      "RMSE: 10.805427289209447\n"
     ]
    },
    {
     "data": {
      "text/html": [
       "<table class=\"simpletable\">\n",
       "<caption>OLS Regression Results</caption>\n",
       "<tr>\n",
       "  <th>Dep. Variable:</th>          <td>PRICE</td>      <th>  R-squared:         </th>  <td>   0.672</td>  \n",
       "</tr>\n",
       "<tr>\n",
       "  <th>Model:</th>                   <td>OLS</td>       <th>  Adj. R-squared:    </th>  <td>   0.672</td>  \n",
       "</tr>\n",
       "<tr>\n",
       "  <th>Method:</th>             <td>Least Squares</td>  <th>  F-statistic:       </th>  <td>   2784.</td>  \n",
       "</tr>\n",
       "<tr>\n",
       "  <th>Date:</th>             <td>Fri, 04 Feb 2022</td> <th>  Prob (F-statistic):</th>   <td>  0.00</td>   \n",
       "</tr>\n",
       "<tr>\n",
       "  <th>Time:</th>                 <td>20:51:11</td>     <th>  Log-Likelihood:    </th> <td>-1.3978e+05</td>\n",
       "</tr>\n",
       "<tr>\n",
       "  <th>No. Observations:</th>      <td> 36680</td>      <th>  AIC:               </th>  <td>2.796e+05</td> \n",
       "</tr>\n",
       "<tr>\n",
       "  <th>Df Residuals:</th>          <td> 36652</td>      <th>  BIC:               </th>  <td>2.799e+05</td> \n",
       "</tr>\n",
       "<tr>\n",
       "  <th>Df Model:</th>              <td>    27</td>      <th>                     </th>      <td> </td>     \n",
       "</tr>\n",
       "<tr>\n",
       "  <th>Covariance Type:</th>      <td>nonrobust</td>    <th>                     </th>      <td> </td>     \n",
       "</tr>\n",
       "</table>\n",
       "<table class=\"simpletable\">\n",
       "<tr>\n",
       "           <td></td>             <th>coef</th>     <th>std err</th>      <th>t</th>      <th>P>|t|</th>  <th>[0.025</th>    <th>0.975]</th>  \n",
       "</tr>\n",
       "<tr>\n",
       "  <th>BATHRM</th>             <td>    2.4816</td> <td>    0.092</td> <td>   27.044</td> <td> 0.000</td> <td>    2.302</td> <td>    2.661</td>\n",
       "</tr>\n",
       "<tr>\n",
       "  <th>HF_BATHRM</th>          <td>    1.4653</td> <td>    0.108</td> <td>   13.524</td> <td> 0.000</td> <td>    1.253</td> <td>    1.678</td>\n",
       "</tr>\n",
       "<tr>\n",
       "  <th>NUM_UNITS</th>          <td>   -1.9699</td> <td>    0.178</td> <td>  -11.088</td> <td> 0.000</td> <td>   -2.318</td> <td>   -1.622</td>\n",
       "</tr>\n",
       "<tr>\n",
       "  <th>YR_RMDL</th>            <td>    0.0586</td> <td>    0.003</td> <td>   18.378</td> <td> 0.000</td> <td>    0.052</td> <td>    0.065</td>\n",
       "</tr>\n",
       "<tr>\n",
       "  <th>SALE_NUM</th>           <td>    3.5829</td> <td>    0.041</td> <td>   86.833</td> <td> 0.000</td> <td>    3.502</td> <td>    3.664</td>\n",
       "</tr>\n",
       "<tr>\n",
       "  <th>GBA</th>                <td>    0.0035</td> <td>    0.000</td> <td>   22.450</td> <td> 0.000</td> <td>    0.003</td> <td>    0.004</td>\n",
       "</tr>\n",
       "<tr>\n",
       "  <th>BLDG_NUM</th>           <td>  -58.1930</td> <td>    6.272</td> <td>   -9.278</td> <td> 0.000</td> <td>  -70.487</td> <td>  -45.899</td>\n",
       "</tr>\n",
       "<tr>\n",
       "  <th>FIREPLACES</th>         <td>    1.8113</td> <td>    0.091</td> <td>   19.887</td> <td> 0.000</td> <td>    1.633</td> <td>    1.990</td>\n",
       "</tr>\n",
       "<tr>\n",
       "  <th>USECODE</th>            <td>    0.1063</td> <td>    0.023</td> <td>    4.529</td> <td> 0.000</td> <td>    0.060</td> <td>    0.152</td>\n",
       "</tr>\n",
       "<tr>\n",
       "  <th>LANDAREA</th>           <td>    0.0003</td> <td> 3.98e-05</td> <td>    8.077</td> <td> 0.000</td> <td>    0.000</td> <td>    0.000</td>\n",
       "</tr>\n",
       "<tr>\n",
       "  <th>AC_1</th>               <td>    1.6877</td> <td>    0.157</td> <td>   10.774</td> <td> 0.000</td> <td>    1.381</td> <td>    1.995</td>\n",
       "</tr>\n",
       "<tr>\n",
       "  <th>QUALIFIED_U</th>        <td>   -7.0468</td> <td>    0.147</td> <td>  -48.077</td> <td> 0.000</td> <td>   -7.334</td> <td>   -6.759</td>\n",
       "</tr>\n",
       "<tr>\n",
       "  <th>STYLE_2 Story</th>      <td>   -1.9243</td> <td>    0.222</td> <td>   -8.658</td> <td> 0.000</td> <td>   -2.360</td> <td>   -1.489</td>\n",
       "</tr>\n",
       "<tr>\n",
       "  <th>STYLE_3 Story</th>      <td>   -2.0714</td> <td>    0.318</td> <td>   -6.508</td> <td> 0.000</td> <td>   -2.695</td> <td>   -1.448</td>\n",
       "</tr>\n",
       "<tr>\n",
       "  <th>GRADE_Average</th>      <td>   -2.0297</td> <td>    0.150</td> <td>  -13.519</td> <td> 0.000</td> <td>   -2.324</td> <td>   -1.735</td>\n",
       "</tr>\n",
       "<tr>\n",
       "  <th>GRADE_Excellent</th>    <td>    9.2250</td> <td>    0.408</td> <td>   22.599</td> <td> 0.000</td> <td>    8.425</td> <td>   10.025</td>\n",
       "</tr>\n",
       "<tr>\n",
       "  <th>GRADE_Good Quality</th> <td>    3.3913</td> <td>    0.184</td> <td>   18.479</td> <td> 0.000</td> <td>    3.032</td> <td>    3.751</td>\n",
       "</tr>\n",
       "<tr>\n",
       "  <th>GRADE_Very Good</th>    <td>    6.2111</td> <td>    0.277</td> <td>   22.442</td> <td> 0.000</td> <td>    5.669</td> <td>    6.754</td>\n",
       "</tr>\n",
       "<tr>\n",
       "  <th>CNDTN_Good</th>         <td>    3.8231</td> <td>    0.152</td> <td>   25.090</td> <td> 0.000</td> <td>    3.524</td> <td>    4.122</td>\n",
       "</tr>\n",
       "<tr>\n",
       "  <th>CNDTN_Very Good</th>    <td>    7.7553</td> <td>    0.242</td> <td>   31.993</td> <td> 0.000</td> <td>    7.280</td> <td>    8.230</td>\n",
       "</tr>\n",
       "<tr>\n",
       "  <th>ROOF_Comp Shingle</th>  <td>   -1.6737</td> <td>    0.156</td> <td>  -10.696</td> <td> 0.000</td> <td>   -1.980</td> <td>   -1.367</td>\n",
       "</tr>\n",
       "<tr>\n",
       "  <th>INTWALL_Hardwood</th>   <td>    1.3087</td> <td>    0.145</td> <td>    9.018</td> <td> 0.000</td> <td>    1.024</td> <td>    1.593</td>\n",
       "</tr>\n",
       "<tr>\n",
       "  <th>WARD_Ward 2</th>        <td>    7.1447</td> <td>    0.338</td> <td>   21.168</td> <td> 0.000</td> <td>    6.483</td> <td>    7.806</td>\n",
       "</tr>\n",
       "<tr>\n",
       "  <th>WARD_Ward 3</th>        <td>    3.7054</td> <td>    0.255</td> <td>   14.540</td> <td> 0.000</td> <td>    3.206</td> <td>    4.205</td>\n",
       "</tr>\n",
       "<tr>\n",
       "  <th>WARD_Ward 4</th>        <td>   -4.5416</td> <td>    0.195</td> <td>  -23.264</td> <td> 0.000</td> <td>   -4.924</td> <td>   -4.159</td>\n",
       "</tr>\n",
       "<tr>\n",
       "  <th>WARD_Ward 5</th>        <td>   -6.4156</td> <td>    0.196</td> <td>  -32.792</td> <td> 0.000</td> <td>   -6.799</td> <td>   -6.032</td>\n",
       "</tr>\n",
       "<tr>\n",
       "  <th>WARD_Ward 7</th>        <td>  -14.1432</td> <td>    0.223</td> <td>  -63.360</td> <td> 0.000</td> <td>  -14.581</td> <td>  -13.706</td>\n",
       "</tr>\n",
       "<tr>\n",
       "  <th>WARD_Ward 8</th>        <td>  -15.8249</td> <td>    0.259</td> <td>  -61.164</td> <td> 0.000</td> <td>  -16.332</td> <td>  -15.318</td>\n",
       "</tr>\n",
       "</table>\n",
       "<table class=\"simpletable\">\n",
       "<tr>\n",
       "  <th>Omnibus:</th>       <td>4222.717</td> <th>  Durbin-Watson:     </th> <td>   1.999</td> \n",
       "</tr>\n",
       "<tr>\n",
       "  <th>Prob(Omnibus):</th>  <td> 0.000</td>  <th>  Jarque-Bera (JB):  </th> <td>39810.310</td>\n",
       "</tr>\n",
       "<tr>\n",
       "  <th>Skew:</th>           <td>-0.154</td>  <th>  Prob(JB):          </th> <td>    0.00</td> \n",
       "</tr>\n",
       "<tr>\n",
       "  <th>Kurtosis:</th>       <td> 8.094</td>  <th>  Cond. No.          </th> <td>4.66e+05</td> \n",
       "</tr>\n",
       "</table><br/><br/>Notes:<br/>[1] Standard Errors assume that the covariance matrix of the errors is correctly specified.<br/>[2] The condition number is large, 4.66e+05. This might indicate that there are<br/>strong multicollinearity or other numerical problems."
      ],
      "text/plain": [
       "<class 'statsmodels.iolib.summary.Summary'>\n",
       "\"\"\"\n",
       "                            OLS Regression Results                            \n",
       "==============================================================================\n",
       "Dep. Variable:                  PRICE   R-squared:                       0.672\n",
       "Model:                            OLS   Adj. R-squared:                  0.672\n",
       "Method:                 Least Squares   F-statistic:                     2784.\n",
       "Date:                Fri, 04 Feb 2022   Prob (F-statistic):               0.00\n",
       "Time:                        20:51:11   Log-Likelihood:            -1.3978e+05\n",
       "No. Observations:               36680   AIC:                         2.796e+05\n",
       "Df Residuals:                   36652   BIC:                         2.799e+05\n",
       "Df Model:                          27                                         \n",
       "Covariance Type:            nonrobust                                         \n",
       "======================================================================================\n",
       "                         coef    std err          t      P>|t|      [0.025      0.975]\n",
       "--------------------------------------------------------------------------------------\n",
       "BATHRM                 2.4816      0.092     27.044      0.000       2.302       2.661\n",
       "HF_BATHRM              1.4653      0.108     13.524      0.000       1.253       1.678\n",
       "NUM_UNITS             -1.9699      0.178    -11.088      0.000      -2.318      -1.622\n",
       "YR_RMDL                0.0586      0.003     18.378      0.000       0.052       0.065\n",
       "SALE_NUM               3.5829      0.041     86.833      0.000       3.502       3.664\n",
       "GBA                    0.0035      0.000     22.450      0.000       0.003       0.004\n",
       "BLDG_NUM             -58.1930      6.272     -9.278      0.000     -70.487     -45.899\n",
       "FIREPLACES             1.8113      0.091     19.887      0.000       1.633       1.990\n",
       "USECODE                0.1063      0.023      4.529      0.000       0.060       0.152\n",
       "LANDAREA               0.0003   3.98e-05      8.077      0.000       0.000       0.000\n",
       "AC_1                   1.6877      0.157     10.774      0.000       1.381       1.995\n",
       "QUALIFIED_U           -7.0468      0.147    -48.077      0.000      -7.334      -6.759\n",
       "STYLE_2 Story         -1.9243      0.222     -8.658      0.000      -2.360      -1.489\n",
       "STYLE_3 Story         -2.0714      0.318     -6.508      0.000      -2.695      -1.448\n",
       "GRADE_Average         -2.0297      0.150    -13.519      0.000      -2.324      -1.735\n",
       "GRADE_Excellent        9.2250      0.408     22.599      0.000       8.425      10.025\n",
       "GRADE_Good Quality     3.3913      0.184     18.479      0.000       3.032       3.751\n",
       "GRADE_Very Good        6.2111      0.277     22.442      0.000       5.669       6.754\n",
       "CNDTN_Good             3.8231      0.152     25.090      0.000       3.524       4.122\n",
       "CNDTN_Very Good        7.7553      0.242     31.993      0.000       7.280       8.230\n",
       "ROOF_Comp Shingle     -1.6737      0.156    -10.696      0.000      -1.980      -1.367\n",
       "INTWALL_Hardwood       1.3087      0.145      9.018      0.000       1.024       1.593\n",
       "WARD_Ward 2            7.1447      0.338     21.168      0.000       6.483       7.806\n",
       "WARD_Ward 3            3.7054      0.255     14.540      0.000       3.206       4.205\n",
       "WARD_Ward 4           -4.5416      0.195    -23.264      0.000      -4.924      -4.159\n",
       "WARD_Ward 5           -6.4156      0.196    -32.792      0.000      -6.799      -6.032\n",
       "WARD_Ward 7          -14.1432      0.223    -63.360      0.000     -14.581     -13.706\n",
       "WARD_Ward 8          -15.8249      0.259    -61.164      0.000     -16.332     -15.318\n",
       "==============================================================================\n",
       "Omnibus:                     4222.717   Durbin-Watson:                   1.999\n",
       "Prob(Omnibus):                  0.000   Jarque-Bera (JB):            39810.310\n",
       "Skew:                          -0.154   Prob(JB):                         0.00\n",
       "Kurtosis:                       8.094   Cond. No.                     4.66e+05\n",
       "==============================================================================\n",
       "\n",
       "Notes:\n",
       "[1] Standard Errors assume that the covariance matrix of the errors is correctly specified.\n",
       "[2] The condition number is large, 4.66e+05. This might indicate that there are\n",
       "strong multicollinearity or other numerical problems.\n",
       "\"\"\""
      ]
     },
     "execution_count": 16,
     "metadata": {},
     "output_type": "execute_result"
    }
   ],
   "source": [
    "#Drop insignificant variables and rerun the ols model\n",
    "X_train_ols = X_train.drop(drop2, axis =1)\n",
    "X_test_ols = X_test.drop(drop2, axis = 1)\n",
    "model = sm.OLS(y_train, X_train_ols.astype(float), hasconst=True).fit()\n",
    "# Print out the statistics\n",
    "#evaluate Accuracy\n",
    "evaluate(model, X_test_ols, y_test)\n",
    "model.summary()"
   ]
  },
  {
   "cell_type": "markdown",
   "metadata": {},
   "source": [
    "### DecisionTreeRegressor"
   ]
  },
  {
   "cell_type": "code",
   "execution_count": 17,
   "metadata": {},
   "outputs": [
    {
     "name": "stdout",
     "output_type": "stream",
     "text": [
      "Model Performance\n",
      "R2: 0.5338576878597825\n",
      "Mean_Absolute_Error: 9.064168166538717\n",
      "Mean_Squared_Error: 171.86453418378457\n",
      "RMSE: 13.109711445481345\n"
     ]
    }
   ],
   "source": [
    "from sklearn.tree import DecisionTreeRegressor\n",
    "#regressor = DecisionTreeRegressor(max_depth=15)\n",
    "param_dist = {'max_depth': [1,20]}\n",
    "#regressor.fit(X_train, y_train)\n",
    "#regressor.score(X_train, y_train)\n",
    "DTR = DecisionTreeRegressor()\n",
    "DTR_cv = GridSearchCV(DTR, param_dist)\n",
    "\n",
    "DTR_cv.fit(X_train_ols, y_train)\n",
    "evaluate(DTR_cv.best_estimator_, X_test_ols, y_test)"
   ]
  },
  {
   "cell_type": "code",
   "execution_count": 18,
   "metadata": {},
   "outputs": [
    {
     "name": "stdout",
     "output_type": "stream",
     "text": [
      "DecisionTreeRegressor(max_depth=20)\n"
     ]
    }
   ],
   "source": [
    "print(DTR_cv.best_estimator_)"
   ]
  },
  {
   "cell_type": "markdown",
   "metadata": {},
   "source": [
    "### RandomForestRegressor"
   ]
  },
  {
   "cell_type": "code",
   "execution_count": 19,
   "metadata": {},
   "outputs": [
    {
     "name": "stdout",
     "output_type": "stream",
     "text": [
      "Model Performance\n",
      "R2: 0.7455325355681872\n",
      "Mean_Absolute_Error: 6.983281371171471\n",
      "Mean_Squared_Error: 93.82098792685207\n",
      "RMSE: 9.686123472620617\n"
     ]
    }
   ],
   "source": [
    "from sklearn.ensemble import RandomForestRegressor\n",
    "from pprint import pprint\n",
    "\n",
    "# Create the parameter distribution\n",
    "param_dist = {'n_estimators': [int(x) for x in np.linspace(start = 100, stop = 500, num = 10)],\n",
    "               'max_features': ['auto', 'sqrt'],\n",
    "               'max_depth': [1, 20]}\n",
    "\n",
    "RFR = RandomForestRegressor()\n",
    "RFR_cv = RandomizedSearchCV(RFR, param_dist, scoring='neg_mean_absolute_error')\n",
    "RFR_cv.fit(X_train_ols, y_train)\n",
    "\n",
    "# RESULT\n",
    "evaluate(RFR_cv.best_estimator_, X_test_ols, y_test)"
   ]
  },
  {
   "cell_type": "code",
   "execution_count": 20,
   "metadata": {},
   "outputs": [
    {
     "name": "stdout",
     "output_type": "stream",
     "text": [
      "RandomForestRegressor(max_depth=20, max_features='sqrt', n_estimators=277)\n"
     ]
    }
   ],
   "source": [
    "print(RFR_cv.best_estimator_)"
   ]
  },
  {
   "cell_type": "code",
   "execution_count": 36,
   "metadata": {},
   "outputs": [],
   "source": [
    "rf = RandomForestRegressor(n_estimators=100)\n",
    "rf.fit(X_train_ols, y_train)\n",
    "importances = rf.feature_importances_\n",
    "std = np.std([tree.feature_importances_ for tree in rf.estimators_], axis=0)"
   ]
  },
  {
   "cell_type": "code",
   "execution_count": 42,
   "metadata": {},
   "outputs": [
    {
     "data": {
      "image/png": "[encoded data removed]",
      "text/plain": [
       "<Figure size 720x576 with 1 Axes>"
      ]
     },
     "metadata": {
      "needs_background": "light"
     },
     "output_type": "display_data"
    }
   ],
   "source": [
    "forest_importances = pd.Series(importances, index=df.columns[0:28])\n",
    "sorted_idx = rf.feature_importances_.argsort()\n",
    "\n",
    "fig, ax = plt.subplots(figsize=(10,8))\n",
    "forest_importances.sort_values().plot.barh(yerr=std, ax=ax)\n",
    "ax.set_title(\"Feature importances using RES_Handling\")\n",
    "ax.set_ylabel(\"Mean decrease in impurity\")\n",
    "fig.tight_layout()"
   ]
  },
  {
   "cell_type": "markdown",
   "metadata": {},
   "source": [
    "### Adaptive Boosting Decision Tree"
   ]
  },
  {
   "cell_type": "code",
   "execution_count": 25,
   "metadata": {},
   "outputs": [
    {
     "name": "stdout",
     "output_type": "stream",
     "text": [
      "Model Performance\n",
      "R2: 0.732958005598612\n",
      "Mean_Absolute_Error: 7.049672356918736\n",
      "Mean_Squared_Error: 98.45715949831632\n",
      "RMSE: 9.922558112619765\n"
     ]
    }
   ],
   "source": [
    "rng = np.random.RandomState(1)\n",
    "param_dist = {'n_estimators': [int(x) for x in np.linspace(start = 100, stop = 400, num = 10)]}\n",
    "\n",
    "\n",
    "ada = AdaBoostRegressor(DecisionTreeRegressor(random_state = rng), random_state = rng)\n",
    "ada_cv = RandomizedSearchCV(ada, param_dist, scoring='neg_mean_absolute_error')\n",
    "ada_cv.fit(X_train_ols, y_train)\n",
    "\n",
    "evaluate(ada_cv.best_estimator_, X_test_ols, y_test)"
   ]
  },
  {
   "cell_type": "code",
   "execution_count": 26,
   "metadata": {},
   "outputs": [
    {
     "name": "stdout",
     "output_type": "stream",
     "text": [
      "AdaBoostRegressor(base_estimator=DecisionTreeRegressor(random_state=RandomState(MT19937) at 0x1EB7AA2A840),\n",
      "                  n_estimators=266,\n",
      "                  random_state=RandomState(MT19937) at 0x1EB7AA2A940)\n"
     ]
    }
   ],
   "source": [
    "# Obtaining the best estimators from the model\n",
    "print(ada_cv.best_estimator_)"
   ]
  },
  {
   "cell_type": "markdown",
   "metadata": {},
   "source": [
    "### XGBRegressor"
   ]
  },
  {
   "cell_type": "code",
   "execution_count": 51,
   "metadata": {},
   "outputs": [],
   "source": [
    "from numpy import absolute\n",
    "from sklearn.model_selection import cross_val_score\n",
    "from sklearn.model_selection import RepeatedKFold\n",
    "from xgboost import XGBRegressor"
   ]
  },
  {
   "cell_type": "code",
   "execution_count": 53,
   "metadata": {},
   "outputs": [
    {
     "name": "stderr",
     "output_type": "stream",
     "text": [
      "C:\\Users\\user\\AppData\\Local\\Programs\\Python\\Python310\\lib\\site-packages\\xgboost\\data.py:262: FutureWarning: pandas.Int64Index is deprecated and will be removed from pandas in a future version. Use pandas.Index with the appropriate dtype instead.\n",
      "  elif isinstance(data.columns, (pd.Int64Index, pd.RangeIndex)):\n"
     ]
    },
    {
     "name": "stdout",
     "output_type": "stream",
     "text": [
      "Model Performance\n",
      "R2: 0.7405925558093822\n",
      "Mean_Absolute_Error: 7.114448627768978\n",
      "Mean_Squared_Error: 95.64233582429199\n",
      "RMSE: 9.7796899656529\n"
     ]
    }
   ],
   "source": [
    "xg_reg = xgb.XGBRegressor()\n",
    "xg_reg.fit(X_train_ols,y_train)\n",
    "evaluate(xg_reg, X_test_ols, y_test)"
   ]
  },
  {
   "cell_type": "markdown",
   "metadata": {},
   "source": [
    "### KNN"
   ]
  },
  {
   "cell_type": "code",
   "execution_count": null,
   "metadata": {},
   "outputs": [
    {
     "name": "stderr",
     "output_type": "stream",
     "text": [
      "C:\\Users\\user\\AppData\\Local\\Programs\\Python\\Python310\\lib\\site-packages\\sklearn\\model_selection\\_search.py:292: UserWarning: The total space of parameters 4 is smaller than n_iter=10. Running 4 iterations. For exhaustive searches, use GridSearchCV.\n",
      "  warnings.warn(\n"
     ]
    },
    {
     "name": "stdout",
     "output_type": "stream",
     "text": [
      "Model Performance\n",
      "R2: 0.3946184394129292\n",
      "Mean_Absolute_Error: 11.374063008403468\n",
      "Mean_Squared_Error: 223.2014069609985\n",
      "RMSE: 14.93992660494015\n"
     ]
    }
   ],
   "source": [
    "from sklearn.neighbors import KNeighborsRegressor\n",
    "\n",
    "\n",
    "param_dist = {\"n_neighbors\": [3, 7],\n",
    "              \"weights\": [\"uniform\", \"distance\"]}\n",
    "\n",
    "KNR = KNeighborsRegressor()\n",
    "KNR_cv = RandomizedSearchCV(KNR, param_dist, scoring='neg_mean_absolute_error')\n",
    "\n",
    "KNR_cv.fit(X_train_ols, y_train)\n",
    "#KNR.score(X_train, y_train)\n",
    "\n",
    "evaluate(KNR_cv.best_estimator_, X_test_ols, y_test)"
   ]
  },
  {
   "cell_type": "code",
   "execution_count": null,
   "metadata": {},
   "outputs": [
    {
     "name": "stdout",
     "output_type": "stream",
     "text": [
      "KNeighborsRegressor(n_neighbors=7, weights='distance')\n"
     ]
    }
   ],
   "source": [
    "print(KNR_cv.best_estimator_)"
   ]
  },
  {
   "cell_type": "markdown",
   "metadata": {},
   "source": [
    "### SVR"
   ]
  },
  {
   "cell_type": "code",
   "execution_count": 54,
   "metadata": {},
   "outputs": [
    {
     "name": "stdout",
     "output_type": "stream",
     "text": [
      "Model Performance\n",
      "R2: 0.2586294552374193\n",
      "Mean_Absolute_Error: 13.258199439667239\n",
      "Mean_Squared_Error: 273.3399221971347\n",
      "RMSE: 16.532994955456033\n"
     ]
    }
   ],
   "source": [
    "from sklearn.svm import SVR\n",
    "\n",
    "\n",
    "svr = SVR()\n",
    "svr.fit(X_train_ols, y_train)\n",
    "evaluate(svr, X_test_ols, y_test)"
   ]
  },
  {
   "cell_type": "markdown",
   "metadata": {},
   "source": [
    "### Ridge"
   ]
  },
  {
   "cell_type": "code",
   "execution_count": 21,
   "metadata": {},
   "outputs": [
    {
     "name": "stdout",
     "output_type": "stream",
     "text": [
      "Model Performance\n",
      "R2: 0.6833231738514682\n",
      "Mean_Absolute_Error: 8.261211413104062\n",
      "Mean_Squared_Error: 116.75729449002543\n",
      "RMSE: 10.805428935957398\n"
     ]
    }
   ],
   "source": [
    "from scipy.stats import uniform\n",
    "from sklearn.linear_model import Ridge\n",
    "from sklearn.model_selection import KFold\n",
    "\n",
    "\n",
    "param_grid = {'alpha': uniform()}\n",
    "seed=6\n",
    "model = Ridge()\n",
    "kfold = KFold(n_splits=8, random_state=seed, shuffle=True)\n",
    "rsearch = RandomizedSearchCV(estimator=model, param_distributions=param_grid, n_iter=100, cv=kfold, random_state=seed, scoring='neg_mean_absolute_error')\n",
    "rsearch.fit(X_train_ols, y_train)\n",
    "evaluate(rsearch, X_test_ols, y_test)"
   ]
  },
  {
   "cell_type": "code",
   "execution_count": 22,
   "metadata": {},
   "outputs": [
    {
     "name": "stdout",
     "output_type": "stream",
     "text": [
      "Ridge(alpha=0.036608530436010756)\n"
     ]
    }
   ],
   "source": [
    "print(rsearch.best_estimator_)"
   ]
  },
  {
   "cell_type": "code",
   "execution_count": 23,
   "metadata": {},
   "outputs": [
    {
     "name": "stdout",
     "output_type": "stream",
     "text": [
      "Model Performance\n",
      "R2: 0.6824520183786058\n",
      "Mean_Absolute_Error: 8.283858125130378\n",
      "Mean_Squared_Error: 117.07848552041644\n",
      "RMSE: 10.820281212631048\n"
     ]
    }
   ],
   "source": [
    "import random\n",
    "from sklearn.linear_model import Lasso\n",
    "\n",
    "param_grid = {'alpha': uniform()}\n",
    "seed=6\n",
    "model = Lasso()\n",
    "kfold = KFold(n_splits=8, random_state=seed, shuffle=True)\n",
    "rsearch = RandomizedSearchCV(estimator=model, param_distributions=param_grid, n_iter=100, cv=kfold, random_state=seed)\n",
    "rsearch.fit(X_train_ols, y_train)\n",
    "evaluate(rsearch, X_test_ols, y_test)"
   ]
  },
  {
   "cell_type": "code",
   "execution_count": 24,
   "metadata": {},
   "outputs": [
    {
     "name": "stdout",
     "output_type": "stream",
     "text": [
      "Lasso(alpha=0.036608530436010756)\n"
     ]
    }
   ],
   "source": [
    "print(rsearch.best_estimator_)"
   ]
  },
  {
   "cell_type": "markdown",
   "metadata": {},
   "source": [
    "# Demo"
   ]
  },
  {
   "cell_type": "code",
   "execution_count": 144,
   "metadata": {},
   "outputs": [],
   "source": [
    "import pickle\n",
    "filename = 'model_randomForest_r_undrop.sav'\n",
    "pickle.dump(RFR_cv, open(filename, 'wb'))\n",
    "loaded_model = pickle.load(open(filename, 'rb'))"
   ]
  },
  {
   "cell_type": "code",
   "execution_count": 145,
   "metadata": {},
   "outputs": [],
   "source": [
    "demo = X_train.head(5)\n",
    "demo.to_csv('demo.csv')"
   ]
  },
  {
   "cell_type": "code",
   "execution_count": 146,
   "metadata": {},
   "outputs": [
    {
     "data": {
      "text/html": [
       "<div>\n",
       "<style scoped>\n",
       "    .dataframe tbody tr th:only-of-type {\n",
       "        vertical-align: middle;\n",
       "    }\n",
       "\n",
       "    .dataframe tbody tr th {\n",
       "        vertical-align: top;\n",
       "    }\n",
       "\n",
       "    .dataframe thead th {\n",
       "        text-align: right;\n",
       "    }\n",
       "</style>\n",
       "<table border=\"1\" class=\"dataframe\">\n",
       "  <thead>\n",
       "    <tr style=\"text-align: right;\">\n",
       "      <th></th>\n",
       "      <th>BATHRM</th>\n",
       "      <th>HF_BATHRM</th>\n",
       "      <th>NUM_UNITS</th>\n",
       "      <th>ROOMS</th>\n",
       "      <th>BEDRM</th>\n",
       "      <th>AYB</th>\n",
       "      <th>YR_RMDL</th>\n",
       "      <th>EYB</th>\n",
       "      <th>STORIES</th>\n",
       "      <th>SALE_NUM</th>\n",
       "      <th>...</th>\n",
       "      <th>INTWALL_Vinyl Comp</th>\n",
       "      <th>INTWALL_Vinyl Sheet</th>\n",
       "      <th>INTWALL_Wood Floor</th>\n",
       "      <th>WARD_Ward 2</th>\n",
       "      <th>WARD_Ward 3</th>\n",
       "      <th>WARD_Ward 4</th>\n",
       "      <th>WARD_Ward 5</th>\n",
       "      <th>WARD_Ward 6</th>\n",
       "      <th>WARD_Ward 7</th>\n",
       "      <th>WARD_Ward 8</th>\n",
       "    </tr>\n",
       "  </thead>\n",
       "  <tbody>\n",
       "    <tr>\n",
       "      <th>0</th>\n",
       "      <td>3</td>\n",
       "      <td>1</td>\n",
       "      <td>1.0</td>\n",
       "      <td>7</td>\n",
       "      <td>3</td>\n",
       "      <td>1900.0</td>\n",
       "      <td>2009.0</td>\n",
       "      <td>1986</td>\n",
       "      <td>3.0</td>\n",
       "      <td>1</td>\n",
       "      <td>...</td>\n",
       "      <td>0</td>\n",
       "      <td>0</td>\n",
       "      <td>0</td>\n",
       "      <td>1</td>\n",
       "      <td>0</td>\n",
       "      <td>0</td>\n",
       "      <td>0</td>\n",
       "      <td>0</td>\n",
       "      <td>0</td>\n",
       "      <td>0</td>\n",
       "    </tr>\n",
       "    <tr>\n",
       "      <th>1</th>\n",
       "      <td>2</td>\n",
       "      <td>0</td>\n",
       "      <td>1.0</td>\n",
       "      <td>6</td>\n",
       "      <td>3</td>\n",
       "      <td>1923.0</td>\n",
       "      <td>2004.0</td>\n",
       "      <td>1964</td>\n",
       "      <td>2.0</td>\n",
       "      <td>1</td>\n",
       "      <td>...</td>\n",
       "      <td>0</td>\n",
       "      <td>0</td>\n",
       "      <td>0</td>\n",
       "      <td>0</td>\n",
       "      <td>0</td>\n",
       "      <td>1</td>\n",
       "      <td>0</td>\n",
       "      <td>0</td>\n",
       "      <td>0</td>\n",
       "      <td>0</td>\n",
       "    </tr>\n",
       "    <tr>\n",
       "      <th>2</th>\n",
       "      <td>3</td>\n",
       "      <td>0</td>\n",
       "      <td>1.0</td>\n",
       "      <td>8</td>\n",
       "      <td>4</td>\n",
       "      <td>1920.0</td>\n",
       "      <td>2004.0</td>\n",
       "      <td>1964</td>\n",
       "      <td>2.0</td>\n",
       "      <td>1</td>\n",
       "      <td>...</td>\n",
       "      <td>0</td>\n",
       "      <td>0</td>\n",
       "      <td>0</td>\n",
       "      <td>0</td>\n",
       "      <td>0</td>\n",
       "      <td>1</td>\n",
       "      <td>0</td>\n",
       "      <td>0</td>\n",
       "      <td>0</td>\n",
       "      <td>0</td>\n",
       "    </tr>\n",
       "    <tr>\n",
       "      <th>3</th>\n",
       "      <td>2</td>\n",
       "      <td>1</td>\n",
       "      <td>2.0</td>\n",
       "      <td>7</td>\n",
       "      <td>4</td>\n",
       "      <td>1939.0</td>\n",
       "      <td>1950.0</td>\n",
       "      <td>1950</td>\n",
       "      <td>2.0</td>\n",
       "      <td>2</td>\n",
       "      <td>...</td>\n",
       "      <td>0</td>\n",
       "      <td>0</td>\n",
       "      <td>0</td>\n",
       "      <td>0</td>\n",
       "      <td>1</td>\n",
       "      <td>0</td>\n",
       "      <td>0</td>\n",
       "      <td>0</td>\n",
       "      <td>0</td>\n",
       "      <td>0</td>\n",
       "    </tr>\n",
       "    <tr>\n",
       "      <th>4</th>\n",
       "      <td>3</td>\n",
       "      <td>1</td>\n",
       "      <td>1.0</td>\n",
       "      <td>7</td>\n",
       "      <td>4</td>\n",
       "      <td>2010.0</td>\n",
       "      <td>2013.0</td>\n",
       "      <td>2013</td>\n",
       "      <td>3.0</td>\n",
       "      <td>1</td>\n",
       "      <td>...</td>\n",
       "      <td>0</td>\n",
       "      <td>0</td>\n",
       "      <td>0</td>\n",
       "      <td>0</td>\n",
       "      <td>0</td>\n",
       "      <td>0</td>\n",
       "      <td>0</td>\n",
       "      <td>0</td>\n",
       "      <td>0</td>\n",
       "      <td>1</td>\n",
       "    </tr>\n",
       "  </tbody>\n",
       "</table>\n",
       "<p>5 rows × 129 columns</p>\n",
       "</div>"
      ],
      "text/plain": [
       "   BATHRM  HF_BATHRM  NUM_UNITS  ROOMS  BEDRM     AYB  YR_RMDL   EYB  STORIES  \\\n",
       "0       3          1        1.0      7      3  1900.0   2009.0  1986      3.0   \n",
       "1       2          0        1.0      6      3  1923.0   2004.0  1964      2.0   \n",
       "2       3          0        1.0      8      4  1920.0   2004.0  1964      2.0   \n",
       "3       2          1        2.0      7      4  1939.0   1950.0  1950      2.0   \n",
       "4       3          1        1.0      7      4  2010.0   2013.0  2013      3.0   \n",
       "\n",
       "   SALE_NUM  ...  INTWALL_Vinyl Comp  INTWALL_Vinyl Sheet  INTWALL_Wood Floor  \\\n",
       "0         1  ...                   0                    0                   0   \n",
       "1         1  ...                   0                    0                   0   \n",
       "2         1  ...                   0                    0                   0   \n",
       "3         2  ...                   0                    0                   0   \n",
       "4         1  ...                   0                    0                   0   \n",
       "\n",
       "   WARD_Ward 2  WARD_Ward 3  WARD_Ward 4  WARD_Ward 5  WARD_Ward 6  \\\n",
       "0            1            0            0            0            0   \n",
       "1            0            0            1            0            0   \n",
       "2            0            0            1            0            0   \n",
       "3            0            1            0            0            0   \n",
       "4            0            0            0            0            0   \n",
       "\n",
       "   WARD_Ward 7  WARD_Ward 8  \n",
       "0            0            0  \n",
       "1            0            0  \n",
       "2            0            0  \n",
       "3            0            0  \n",
       "4            0            1  \n",
       "\n",
       "[5 rows x 129 columns]"
      ]
     },
     "execution_count": 146,
     "metadata": {},
     "output_type": "execute_result"
    }
   ],
   "source": [
    "demo = pd.read_csv('demo.csv')\n",
    "demo.drop(['Unnamed: 0'], axis =1, inplace=True)\n",
    "demo"
   ]
  },
  {
   "cell_type": "code",
   "execution_count": 147,
   "metadata": {},
   "outputs": [
    {
     "data": {
      "text/html": [
       "<div>\n",
       "<style scoped>\n",
       "    .dataframe tbody tr th:only-of-type {\n",
       "        vertical-align: middle;\n",
       "    }\n",
       "\n",
       "    .dataframe tbody tr th {\n",
       "        vertical-align: top;\n",
       "    }\n",
       "\n",
       "    .dataframe thead th {\n",
       "        text-align: right;\n",
       "    }\n",
       "</style>\n",
       "<table border=\"1\" class=\"dataframe\">\n",
       "  <thead>\n",
       "    <tr style=\"text-align: right;\">\n",
       "      <th></th>\n",
       "      <th>PREDICT_PRICE</th>\n",
       "    </tr>\n",
       "  </thead>\n",
       "  <tbody>\n",
       "    <tr>\n",
       "      <th>0</th>\n",
       "      <td>901592.724707</td>\n",
       "    </tr>\n",
       "    <tr>\n",
       "      <th>1</th>\n",
       "      <td>415670.028386</td>\n",
       "    </tr>\n",
       "    <tr>\n",
       "      <th>2</th>\n",
       "      <td>348661.844096</td>\n",
       "    </tr>\n",
       "    <tr>\n",
       "      <th>3</th>\n",
       "      <td>911570.310543</td>\n",
       "    </tr>\n",
       "    <tr>\n",
       "      <th>4</th>\n",
       "      <td>344606.466561</td>\n",
       "    </tr>\n",
       "  </tbody>\n",
       "</table>\n",
       "</div>"
      ],
      "text/plain": [
       "   PREDICT_PRICE\n",
       "0  901592.724707\n",
       "1  415670.028386\n",
       "2  348661.844096\n",
       "3  911570.310543\n",
       "4  344606.466561"
      ]
     },
     "execution_count": 147,
     "metadata": {},
     "output_type": "execute_result"
    }
   ],
   "source": [
    "predict= pd.DataFrame(loaded_model.predict(demo))\n",
    "predict.columns = ['PREDICT_PRICE']\n",
    "predict['PREDICT_PRICE'] = predict['PREDICT_PRICE']**3\n",
    "predict"
   ]
  },
  {
   "cell_type": "code",
   "execution_count": 148,
   "metadata": {},
   "outputs": [
    {
     "data": {
      "text/html": [
       "<div>\n",
       "<style scoped>\n",
       "    .dataframe tbody tr th:only-of-type {\n",
       "        vertical-align: middle;\n",
       "    }\n",
       "\n",
       "    .dataframe tbody tr th {\n",
       "        vertical-align: top;\n",
       "    }\n",
       "\n",
       "    .dataframe thead th {\n",
       "        text-align: right;\n",
       "    }\n",
       "</style>\n",
       "<table border=\"1\" class=\"dataframe\">\n",
       "  <thead>\n",
       "    <tr style=\"text-align: right;\">\n",
       "      <th></th>\n",
       "      <th>BATHRM</th>\n",
       "      <th>HF_BATHRM</th>\n",
       "      <th>NUM_UNITS</th>\n",
       "      <th>ROOMS</th>\n",
       "      <th>BEDRM</th>\n",
       "      <th>AYB</th>\n",
       "      <th>YR_RMDL</th>\n",
       "      <th>EYB</th>\n",
       "      <th>STORIES</th>\n",
       "      <th>SALE_NUM</th>\n",
       "      <th>...</th>\n",
       "      <th>INTWALL_Vinyl Sheet</th>\n",
       "      <th>INTWALL_Wood Floor</th>\n",
       "      <th>WARD_Ward 2</th>\n",
       "      <th>WARD_Ward 3</th>\n",
       "      <th>WARD_Ward 4</th>\n",
       "      <th>WARD_Ward 5</th>\n",
       "      <th>WARD_Ward 6</th>\n",
       "      <th>WARD_Ward 7</th>\n",
       "      <th>WARD_Ward 8</th>\n",
       "      <th>PREDICT_PRICE</th>\n",
       "    </tr>\n",
       "  </thead>\n",
       "  <tbody>\n",
       "    <tr>\n",
       "      <th>0</th>\n",
       "      <td>3</td>\n",
       "      <td>1</td>\n",
       "      <td>1.0</td>\n",
       "      <td>7</td>\n",
       "      <td>3</td>\n",
       "      <td>1900.0</td>\n",
       "      <td>2009.0</td>\n",
       "      <td>1986</td>\n",
       "      <td>3.0</td>\n",
       "      <td>1</td>\n",
       "      <td>...</td>\n",
       "      <td>0</td>\n",
       "      <td>0</td>\n",
       "      <td>1</td>\n",
       "      <td>0</td>\n",
       "      <td>0</td>\n",
       "      <td>0</td>\n",
       "      <td>0</td>\n",
       "      <td>0</td>\n",
       "      <td>0</td>\n",
       "      <td>901592.724707</td>\n",
       "    </tr>\n",
       "    <tr>\n",
       "      <th>1</th>\n",
       "      <td>2</td>\n",
       "      <td>0</td>\n",
       "      <td>1.0</td>\n",
       "      <td>6</td>\n",
       "      <td>3</td>\n",
       "      <td>1923.0</td>\n",
       "      <td>2004.0</td>\n",
       "      <td>1964</td>\n",
       "      <td>2.0</td>\n",
       "      <td>1</td>\n",
       "      <td>...</td>\n",
       "      <td>0</td>\n",
       "      <td>0</td>\n",
       "      <td>0</td>\n",
       "      <td>0</td>\n",
       "      <td>1</td>\n",
       "      <td>0</td>\n",
       "      <td>0</td>\n",
       "      <td>0</td>\n",
       "      <td>0</td>\n",
       "      <td>415670.028386</td>\n",
       "    </tr>\n",
       "    <tr>\n",
       "      <th>2</th>\n",
       "      <td>3</td>\n",
       "      <td>0</td>\n",
       "      <td>1.0</td>\n",
       "      <td>8</td>\n",
       "      <td>4</td>\n",
       "      <td>1920.0</td>\n",
       "      <td>2004.0</td>\n",
       "      <td>1964</td>\n",
       "      <td>2.0</td>\n",
       "      <td>1</td>\n",
       "      <td>...</td>\n",
       "      <td>0</td>\n",
       "      <td>0</td>\n",
       "      <td>0</td>\n",
       "      <td>0</td>\n",
       "      <td>1</td>\n",
       "      <td>0</td>\n",
       "      <td>0</td>\n",
       "      <td>0</td>\n",
       "      <td>0</td>\n",
       "      <td>348661.844096</td>\n",
       "    </tr>\n",
       "    <tr>\n",
       "      <th>3</th>\n",
       "      <td>2</td>\n",
       "      <td>1</td>\n",
       "      <td>2.0</td>\n",
       "      <td>7</td>\n",
       "      <td>4</td>\n",
       "      <td>1939.0</td>\n",
       "      <td>1950.0</td>\n",
       "      <td>1950</td>\n",
       "      <td>2.0</td>\n",
       "      <td>2</td>\n",
       "      <td>...</td>\n",
       "      <td>0</td>\n",
       "      <td>0</td>\n",
       "      <td>0</td>\n",
       "      <td>1</td>\n",
       "      <td>0</td>\n",
       "      <td>0</td>\n",
       "      <td>0</td>\n",
       "      <td>0</td>\n",
       "      <td>0</td>\n",
       "      <td>911570.310543</td>\n",
       "    </tr>\n",
       "    <tr>\n",
       "      <th>4</th>\n",
       "      <td>3</td>\n",
       "      <td>1</td>\n",
       "      <td>1.0</td>\n",
       "      <td>7</td>\n",
       "      <td>4</td>\n",
       "      <td>2010.0</td>\n",
       "      <td>2013.0</td>\n",
       "      <td>2013</td>\n",
       "      <td>3.0</td>\n",
       "      <td>1</td>\n",
       "      <td>...</td>\n",
       "      <td>0</td>\n",
       "      <td>0</td>\n",
       "      <td>0</td>\n",
       "      <td>0</td>\n",
       "      <td>0</td>\n",
       "      <td>0</td>\n",
       "      <td>0</td>\n",
       "      <td>0</td>\n",
       "      <td>1</td>\n",
       "      <td>344606.466561</td>\n",
       "    </tr>\n",
       "  </tbody>\n",
       "</table>\n",
       "<p>5 rows × 130 columns</p>\n",
       "</div>"
      ],
      "text/plain": [
       "   BATHRM  HF_BATHRM  NUM_UNITS  ROOMS  BEDRM     AYB  YR_RMDL   EYB  STORIES  \\\n",
       "0       3          1        1.0      7      3  1900.0   2009.0  1986      3.0   \n",
       "1       2          0        1.0      6      3  1923.0   2004.0  1964      2.0   \n",
       "2       3          0        1.0      8      4  1920.0   2004.0  1964      2.0   \n",
       "3       2          1        2.0      7      4  1939.0   1950.0  1950      2.0   \n",
       "4       3          1        1.0      7      4  2010.0   2013.0  2013      3.0   \n",
       "\n",
       "   SALE_NUM  ...  INTWALL_Vinyl Sheet  INTWALL_Wood Floor  WARD_Ward 2  \\\n",
       "0         1  ...                    0                   0            1   \n",
       "1         1  ...                    0                   0            0   \n",
       "2         1  ...                    0                   0            0   \n",
       "3         2  ...                    0                   0            0   \n",
       "4         1  ...                    0                   0            0   \n",
       "\n",
       "   WARD_Ward 3  WARD_Ward 4  WARD_Ward 5  WARD_Ward 6  WARD_Ward 7  \\\n",
       "0            0            0            0            0            0   \n",
       "1            0            1            0            0            0   \n",
       "2            0            1            0            0            0   \n",
       "3            1            0            0            0            0   \n",
       "4            0            0            0            0            0   \n",
       "\n",
       "   WARD_Ward 8  PREDICT_PRICE  \n",
       "0            0  901592.724707  \n",
       "1            0  415670.028386  \n",
       "2            0  348661.844096  \n",
       "3            0  911570.310543  \n",
       "4            1  344606.466561  \n",
       "\n",
       "[5 rows x 130 columns]"
      ]
     },
     "execution_count": 148,
     "metadata": {},
     "output_type": "execute_result"
    }
   ],
   "source": [
    "result = pd.concat([demo,predict], axis=1)\n",
    "result"
   ]
  }
 ],
 "metadata": {
  "interpreter": {
   "hash": "c717e48f47dbf3882205ebaefec1a2b4f1b354b496a24c57e7aae83aa2cbf878"
  },
  "kernelspec": {
   "display_name": "Python 3.9.6 64-bit",
   "language": "python",
   "name": "python3"
  },
  "language_info": {
   "codemirror_mode": {
    "name": "ipython",
    "version": 3
   },
   "file_extension": ".py",
   "mimetype": "text/x-python",
   "name": "python",
   "nbconvert_exporter": "python",
   "pygments_lexer": "ipython3",
   "version": "3.10.2"
  },
  "orig_nbformat": 4
 },
 "nbformat": 4,
 "nbformat_minor": 2
}
