{
  "cells": [
    {
      "cell_type": "markdown",
      "metadata": {
        "id": "jUxhuhV77Kch"
      },
      "source": [
        "\n",
        "\n",
        "# Time Series for % Increasing Price\n",
        "\n",
        "reference: \n",
        "- https://www.machinelearningplus.com/time-series/time-series-analysis-python/\n",
        "- https://machinelearningmastery.com/decompose-time-series-data-trend-seasonality/"
      ]
    },
    {
      "cell_type": "markdown",
      "metadata": {
        "id": "bBrJPBfNWzrZ"
      },
      "source": [
        "# Import Libray and Open Data"
      ]
    },
    {
      "cell_type": "code",
      "execution_count": 93,
      "metadata": {
        "id": "Bu2qf0xf7Kcm"
      },
      "outputs": [],
      "source": [
        "import pandas as pd\n",
        "import numpy as np\n",
        "import random"
      ]
    },
    {
      "cell_type": "code",
      "execution_count": 94,
      "metadata": {
        "colab": {
          "base_uri": "https://localhost:8080/",
          "height": 112
        },
        "id": "yPZ31F6N7Kco",
        "outputId": "3640eaa9-a878-4348-ecc0-dec5022a799d"
      },
      "outputs": [
        {
          "data": {
            "text/html": [
              "<div>\n",
              "<style scoped>\n",
              "    .dataframe tbody tr th:only-of-type {\n",
              "        vertical-align: middle;\n",
              "    }\n",
              "\n",
              "    .dataframe tbody tr th {\n",
              "        vertical-align: top;\n",
              "    }\n",
              "\n",
              "    .dataframe thead th {\n",
              "        text-align: right;\n",
              "    }\n",
              "</style>\n",
              "<table border=\"1\" class=\"dataframe\">\n",
              "  <thead>\n",
              "    <tr style=\"text-align: right;\">\n",
              "      <th></th>\n",
              "      <th>SALEDATE</th>\n",
              "      <th>PRICE</th>\n",
              "    </tr>\n",
              "  </thead>\n",
              "  <tbody>\n",
              "    <tr>\n",
              "      <th>106696</th>\n",
              "      <td>2016-12-20</td>\n",
              "      <td>599900.0</td>\n",
              "    </tr>\n",
              "    <tr>\n",
              "      <th>106698</th>\n",
              "      <td>2017-02-22</td>\n",
              "      <td>677900.0</td>\n",
              "    </tr>\n",
              "  </tbody>\n",
              "</table>\n",
              "</div>"
            ],
            "text/plain": [
              "         SALEDATE     PRICE\n",
              "106696 2016-12-20  599900.0\n",
              "106698 2017-02-22  677900.0"
            ]
          },
          "execution_count": 94,
          "metadata": {},
          "output_type": "execute_result"
        }
      ],
      "source": [
        "df = pd.read_csv('Data/DC_Prop_Condominium_TimeSeries.csv', index_col = 'Unnamed: 0', parse_dates = ['SALEDATE'])\n",
        "df.head(2)"
      ]
    },
    {
      "cell_type": "markdown",
      "metadata": {
        "id": "sqP3qY4qW8SG"
      },
      "source": [
        "# Preprocessing"
      ]
    },
    {
      "cell_type": "markdown",
      "metadata": {
        "id": "y7vImWGCXERt"
      },
      "source": [
        "## Prepare Column"
      ]
    },
    {
      "cell_type": "code",
      "execution_count": 95,
      "metadata": {
        "id": "B8YNQHJk7Kcp"
      },
      "outputs": [],
      "source": [
        "df = df.sort_values(by='SALEDATE', ascending= True)"
      ]
    },
    {
      "cell_type": "code",
      "execution_count": 96,
      "metadata": {
        "id": "GHhAfh537Kcq"
      },
      "outputs": [],
      "source": [
        "df['YEAR'] = df['SALEDATE'].dt.year\n",
        "df['SOURCE'] = 'Condominium'\n",
        "df = df.rename_axis(None)"
      ]
    },
    {
      "cell_type": "markdown",
      "metadata": {
        "id": "vlRM5xZpXk88"
      },
      "source": [
        "## Aggregate Price Per Year"
      ]
    },
    {
      "cell_type": "code",
      "execution_count": 97,
      "metadata": {
        "id": "jAi-iVuf7Kcs"
      },
      "outputs": [],
      "source": [
        "df_c = pd.crosstab(index=df['YEAR'], \n",
        "            columns=[df['SOURCE']], \n",
        "            values=df['PRICE'],\n",
        "            aggfunc='mean')\n",
        "df_c = df_c.rename_axis(None)\n",
        "df_c = df_c.reset_index()\n",
        "df_c = df_c.rename(columns={'Condominium' : 'PRICE_AVG', 'index' : 'YEAR'})"
      ]
    },
    {
      "cell_type": "code",
      "execution_count": 98,
      "metadata": {},
      "outputs": [
        {
          "data": {
            "text/html": [
              "<div>\n",
              "<style scoped>\n",
              "    .dataframe tbody tr th:only-of-type {\n",
              "        vertical-align: middle;\n",
              "    }\n",
              "\n",
              "    .dataframe tbody tr th {\n",
              "        vertical-align: top;\n",
              "    }\n",
              "\n",
              "    .dataframe thead th {\n",
              "        text-align: right;\n",
              "    }\n",
              "</style>\n",
              "<table border=\"1\" class=\"dataframe\">\n",
              "  <thead>\n",
              "    <tr style=\"text-align: right;\">\n",
              "      <th>SOURCE</th>\n",
              "      <th>YEAR</th>\n",
              "      <th>PRICE_AVG</th>\n",
              "    </tr>\n",
              "  </thead>\n",
              "  <tbody>\n",
              "    <tr>\n",
              "      <th>0</th>\n",
              "      <td>1986</td>\n",
              "      <td>5.400000e+03</td>\n",
              "    </tr>\n",
              "    <tr>\n",
              "      <th>1</th>\n",
              "      <td>1988</td>\n",
              "      <td>8.050000e+04</td>\n",
              "    </tr>\n",
              "    <tr>\n",
              "      <th>2</th>\n",
              "      <td>1990</td>\n",
              "      <td>7.090000e+04</td>\n",
              "    </tr>\n",
              "    <tr>\n",
              "      <th>3</th>\n",
              "      <td>1992</td>\n",
              "      <td>1.405537e+05</td>\n",
              "    </tr>\n",
              "    <tr>\n",
              "      <th>4</th>\n",
              "      <td>1993</td>\n",
              "      <td>1.174504e+05</td>\n",
              "    </tr>\n",
              "    <tr>\n",
              "      <th>5</th>\n",
              "      <td>1994</td>\n",
              "      <td>1.273469e+05</td>\n",
              "    </tr>\n",
              "    <tr>\n",
              "      <th>6</th>\n",
              "      <td>1995</td>\n",
              "      <td>1.209522e+05</td>\n",
              "    </tr>\n",
              "    <tr>\n",
              "      <th>7</th>\n",
              "      <td>1996</td>\n",
              "      <td>1.201482e+05</td>\n",
              "    </tr>\n",
              "    <tr>\n",
              "      <th>8</th>\n",
              "      <td>1997</td>\n",
              "      <td>1.084103e+05</td>\n",
              "    </tr>\n",
              "    <tr>\n",
              "      <th>9</th>\n",
              "      <td>1998</td>\n",
              "      <td>1.227042e+05</td>\n",
              "    </tr>\n",
              "    <tr>\n",
              "      <th>10</th>\n",
              "      <td>1999</td>\n",
              "      <td>1.421604e+05</td>\n",
              "    </tr>\n",
              "    <tr>\n",
              "      <th>11</th>\n",
              "      <td>2000</td>\n",
              "      <td>1.697356e+05</td>\n",
              "    </tr>\n",
              "    <tr>\n",
              "      <th>12</th>\n",
              "      <td>2001</td>\n",
              "      <td>2.076466e+05</td>\n",
              "    </tr>\n",
              "    <tr>\n",
              "      <th>13</th>\n",
              "      <td>2002</td>\n",
              "      <td>2.275075e+05</td>\n",
              "    </tr>\n",
              "    <tr>\n",
              "      <th>14</th>\n",
              "      <td>2003</td>\n",
              "      <td>2.582046e+05</td>\n",
              "    </tr>\n",
              "    <tr>\n",
              "      <th>15</th>\n",
              "      <td>2004</td>\n",
              "      <td>3.235122e+05</td>\n",
              "    </tr>\n",
              "    <tr>\n",
              "      <th>16</th>\n",
              "      <td>2005</td>\n",
              "      <td>4.320111e+05</td>\n",
              "    </tr>\n",
              "    <tr>\n",
              "      <th>17</th>\n",
              "      <td>2006</td>\n",
              "      <td>3.995362e+05</td>\n",
              "    </tr>\n",
              "    <tr>\n",
              "      <th>18</th>\n",
              "      <td>2007</td>\n",
              "      <td>1.534524e+07</td>\n",
              "    </tr>\n",
              "    <tr>\n",
              "      <th>19</th>\n",
              "      <td>2008</td>\n",
              "      <td>4.281066e+05</td>\n",
              "    </tr>\n",
              "    <tr>\n",
              "      <th>20</th>\n",
              "      <td>2009</td>\n",
              "      <td>3.881618e+05</td>\n",
              "    </tr>\n",
              "    <tr>\n",
              "      <th>21</th>\n",
              "      <td>2010</td>\n",
              "      <td>5.254100e+05</td>\n",
              "    </tr>\n",
              "    <tr>\n",
              "      <th>22</th>\n",
              "      <td>2011</td>\n",
              "      <td>4.184543e+05</td>\n",
              "    </tr>\n",
              "    <tr>\n",
              "      <th>23</th>\n",
              "      <td>2012</td>\n",
              "      <td>4.324328e+05</td>\n",
              "    </tr>\n",
              "    <tr>\n",
              "      <th>24</th>\n",
              "      <td>2013</td>\n",
              "      <td>4.624263e+05</td>\n",
              "    </tr>\n",
              "    <tr>\n",
              "      <th>25</th>\n",
              "      <td>2014</td>\n",
              "      <td>5.365437e+05</td>\n",
              "    </tr>\n",
              "    <tr>\n",
              "      <th>26</th>\n",
              "      <td>2015</td>\n",
              "      <td>2.279341e+06</td>\n",
              "    </tr>\n",
              "    <tr>\n",
              "      <th>27</th>\n",
              "      <td>2016</td>\n",
              "      <td>5.070370e+05</td>\n",
              "    </tr>\n",
              "    <tr>\n",
              "      <th>28</th>\n",
              "      <td>2017</td>\n",
              "      <td>6.992100e+05</td>\n",
              "    </tr>\n",
              "    <tr>\n",
              "      <th>29</th>\n",
              "      <td>2018</td>\n",
              "      <td>5.489556e+05</td>\n",
              "    </tr>\n",
              "  </tbody>\n",
              "</table>\n",
              "</div>"
            ],
            "text/plain": [
              "SOURCE  YEAR     PRICE_AVG\n",
              "0       1986  5.400000e+03\n",
              "1       1988  8.050000e+04\n",
              "2       1990  7.090000e+04\n",
              "3       1992  1.405537e+05\n",
              "4       1993  1.174504e+05\n",
              "5       1994  1.273469e+05\n",
              "6       1995  1.209522e+05\n",
              "7       1996  1.201482e+05\n",
              "8       1997  1.084103e+05\n",
              "9       1998  1.227042e+05\n",
              "10      1999  1.421604e+05\n",
              "11      2000  1.697356e+05\n",
              "12      2001  2.076466e+05\n",
              "13      2002  2.275075e+05\n",
              "14      2003  2.582046e+05\n",
              "15      2004  3.235122e+05\n",
              "16      2005  4.320111e+05\n",
              "17      2006  3.995362e+05\n",
              "18      2007  1.534524e+07\n",
              "19      2008  4.281066e+05\n",
              "20      2009  3.881618e+05\n",
              "21      2010  5.254100e+05\n",
              "22      2011  4.184543e+05\n",
              "23      2012  4.324328e+05\n",
              "24      2013  4.624263e+05\n",
              "25      2014  5.365437e+05\n",
              "26      2015  2.279341e+06\n",
              "27      2016  5.070370e+05\n",
              "28      2017  6.992100e+05\n",
              "29      2018  5.489556e+05"
            ]
          },
          "execution_count": 98,
          "metadata": {},
          "output_type": "execute_result"
        }
      ],
      "source": [
        "df_c"
      ]
    },
    {
      "cell_type": "markdown",
      "metadata": {
        "id": "ULsFGlt0XuWB"
      },
      "source": [
        "## Repair Typo Price"
      ]
    },
    {
      "cell_type": "code",
      "execution_count": 99,
      "metadata": {
        "id": "AMOAhykPcdzq"
      },
      "outputs": [],
      "source": [
        "df_c.iloc[0,1] = df_c.iloc[0,1] * 10"
      ]
    },
    {
      "cell_type": "code",
      "execution_count": 100,
      "metadata": {
        "id": "gOouAhS5ccNk"
      },
      "outputs": [],
      "source": [
        "df_c.iloc[18,1] = df_c.iloc[18,1]/100"
      ]
    },
    {
      "cell_type": "code",
      "execution_count": 101,
      "metadata": {
        "id": "A7GYccb6UL3M"
      },
      "outputs": [],
      "source": [
        "df_c.iloc[26,1] = df_c.iloc[26,1] /10"
      ]
    },
    {
      "cell_type": "markdown",
      "metadata": {
        "id": "TuRtsHkNX2L6"
      },
      "source": [
        "# Plot Price by Time Series"
      ]
    },
    {
      "cell_type": "code",
      "execution_count": 102,
      "metadata": {
        "colab": {
          "base_uri": "https://localhost:8080/",
          "height": 1000
        },
        "id": "GsLHGS_47Kcu",
        "outputId": "6714a93f-1c12-42e1-9b3b-a9b8c2681fb8"
      },
      "outputs": [
        {
          "data": {
            "image/png": "[encoded data removed]",
            "text/plain": [
              "<Figure size 720x360 with 1 Axes>"
            ]
          },
          "metadata": {},
          "output_type": "display_data"
        }
      ],
      "source": [
        "import matplotlib.pyplot as plt\n",
        "import seaborn as sns\n",
        "\n",
        "plt.figure(figsize = (10,5))\n",
        "sns.set_style(\"darkgrid\")\n",
        "sns.lineplot(x='YEAR', y='PRICE_AVG', data = df_c, color = 'black', legend='full', sizes= 1)\n",
        "\n",
        "plt.xticks(rotation=45)\n",
        "plt.show()"
      ]
    },
    {
      "cell_type": "code",
      "execution_count": 103,
      "metadata": {},
      "outputs": [
        {
          "data": {
            "text/html": [
              "<div>\n",
              "<style scoped>\n",
              "    .dataframe tbody tr th:only-of-type {\n",
              "        vertical-align: middle;\n",
              "    }\n",
              "\n",
              "    .dataframe tbody tr th {\n",
              "        vertical-align: top;\n",
              "    }\n",
              "\n",
              "    .dataframe thead th {\n",
              "        text-align: right;\n",
              "    }\n",
              "</style>\n",
              "<table border=\"1\" class=\"dataframe\">\n",
              "  <thead>\n",
              "    <tr style=\"text-align: right;\">\n",
              "      <th>SOURCE</th>\n",
              "      <th>YEAR</th>\n",
              "      <th>PRICE_AVG</th>\n",
              "    </tr>\n",
              "  </thead>\n",
              "  <tbody>\n",
              "    <tr>\n",
              "      <th>0</th>\n",
              "      <td>1986</td>\n",
              "      <td>54000.000000</td>\n",
              "    </tr>\n",
              "    <tr>\n",
              "      <th>1</th>\n",
              "      <td>1988</td>\n",
              "      <td>80500.000000</td>\n",
              "    </tr>\n",
              "    <tr>\n",
              "      <th>2</th>\n",
              "      <td>1990</td>\n",
              "      <td>70900.000000</td>\n",
              "    </tr>\n",
              "    <tr>\n",
              "      <th>3</th>\n",
              "      <td>1992</td>\n",
              "      <td>140553.722449</td>\n",
              "    </tr>\n",
              "    <tr>\n",
              "      <th>4</th>\n",
              "      <td>1993</td>\n",
              "      <td>117450.400000</td>\n",
              "    </tr>\n",
              "    <tr>\n",
              "      <th>5</th>\n",
              "      <td>1994</td>\n",
              "      <td>127346.851163</td>\n",
              "    </tr>\n",
              "    <tr>\n",
              "      <th>6</th>\n",
              "      <td>1995</td>\n",
              "      <td>120952.247525</td>\n",
              "    </tr>\n",
              "    <tr>\n",
              "      <th>7</th>\n",
              "      <td>1996</td>\n",
              "      <td>120148.214286</td>\n",
              "    </tr>\n",
              "    <tr>\n",
              "      <th>8</th>\n",
              "      <td>1997</td>\n",
              "      <td>108410.272727</td>\n",
              "    </tr>\n",
              "    <tr>\n",
              "      <th>9</th>\n",
              "      <td>1998</td>\n",
              "      <td>122704.174061</td>\n",
              "    </tr>\n",
              "    <tr>\n",
              "      <th>10</th>\n",
              "      <td>1999</td>\n",
              "      <td>142160.395639</td>\n",
              "    </tr>\n",
              "    <tr>\n",
              "      <th>11</th>\n",
              "      <td>2000</td>\n",
              "      <td>169735.616981</td>\n",
              "    </tr>\n",
              "    <tr>\n",
              "      <th>12</th>\n",
              "      <td>2001</td>\n",
              "      <td>207646.586777</td>\n",
              "    </tr>\n",
              "    <tr>\n",
              "      <th>13</th>\n",
              "      <td>2002</td>\n",
              "      <td>227507.501997</td>\n",
              "    </tr>\n",
              "    <tr>\n",
              "      <th>14</th>\n",
              "      <td>2003</td>\n",
              "      <td>258204.607143</td>\n",
              "    </tr>\n",
              "    <tr>\n",
              "      <th>15</th>\n",
              "      <td>2004</td>\n",
              "      <td>323512.236584</td>\n",
              "    </tr>\n",
              "    <tr>\n",
              "      <th>16</th>\n",
              "      <td>2005</td>\n",
              "      <td>432011.052032</td>\n",
              "    </tr>\n",
              "    <tr>\n",
              "      <th>17</th>\n",
              "      <td>2006</td>\n",
              "      <td>399536.221335</td>\n",
              "    </tr>\n",
              "    <tr>\n",
              "      <th>18</th>\n",
              "      <td>2007</td>\n",
              "      <td>153452.355570</td>\n",
              "    </tr>\n",
              "    <tr>\n",
              "      <th>19</th>\n",
              "      <td>2008</td>\n",
              "      <td>428106.611884</td>\n",
              "    </tr>\n",
              "    <tr>\n",
              "      <th>20</th>\n",
              "      <td>2009</td>\n",
              "      <td>388161.782984</td>\n",
              "    </tr>\n",
              "    <tr>\n",
              "      <th>21</th>\n",
              "      <td>2010</td>\n",
              "      <td>525409.962338</td>\n",
              "    </tr>\n",
              "    <tr>\n",
              "      <th>22</th>\n",
              "      <td>2011</td>\n",
              "      <td>418454.294389</td>\n",
              "    </tr>\n",
              "    <tr>\n",
              "      <th>23</th>\n",
              "      <td>2012</td>\n",
              "      <td>432432.754970</td>\n",
              "    </tr>\n",
              "    <tr>\n",
              "      <th>24</th>\n",
              "      <td>2013</td>\n",
              "      <td>462426.285714</td>\n",
              "    </tr>\n",
              "    <tr>\n",
              "      <th>25</th>\n",
              "      <td>2014</td>\n",
              "      <td>536543.700163</td>\n",
              "    </tr>\n",
              "    <tr>\n",
              "      <th>26</th>\n",
              "      <td>2015</td>\n",
              "      <td>227934.106273</td>\n",
              "    </tr>\n",
              "    <tr>\n",
              "      <th>27</th>\n",
              "      <td>2016</td>\n",
              "      <td>507037.031185</td>\n",
              "    </tr>\n",
              "    <tr>\n",
              "      <th>28</th>\n",
              "      <td>2017</td>\n",
              "      <td>699210.000000</td>\n",
              "    </tr>\n",
              "    <tr>\n",
              "      <th>29</th>\n",
              "      <td>2018</td>\n",
              "      <td>548955.588677</td>\n",
              "    </tr>\n",
              "  </tbody>\n",
              "</table>\n",
              "</div>"
            ],
            "text/plain": [
              "SOURCE  YEAR      PRICE_AVG\n",
              "0       1986   54000.000000\n",
              "1       1988   80500.000000\n",
              "2       1990   70900.000000\n",
              "3       1992  140553.722449\n",
              "4       1993  117450.400000\n",
              "5       1994  127346.851163\n",
              "6       1995  120952.247525\n",
              "7       1996  120148.214286\n",
              "8       1997  108410.272727\n",
              "9       1998  122704.174061\n",
              "10      1999  142160.395639\n",
              "11      2000  169735.616981\n",
              "12      2001  207646.586777\n",
              "13      2002  227507.501997\n",
              "14      2003  258204.607143\n",
              "15      2004  323512.236584\n",
              "16      2005  432011.052032\n",
              "17      2006  399536.221335\n",
              "18      2007  153452.355570\n",
              "19      2008  428106.611884\n",
              "20      2009  388161.782984\n",
              "21      2010  525409.962338\n",
              "22      2011  418454.294389\n",
              "23      2012  432432.754970\n",
              "24      2013  462426.285714\n",
              "25      2014  536543.700163\n",
              "26      2015  227934.106273\n",
              "27      2016  507037.031185\n",
              "28      2017  699210.000000\n",
              "29      2018  548955.588677"
            ]
          },
          "execution_count": 103,
          "metadata": {},
          "output_type": "execute_result"
        }
      ],
      "source": [
        "df_c"
      ]
    },
    {
      "cell_type": "code",
      "execution_count": 104,
      "metadata": {
        "colab": {
          "base_uri": "https://localhost:8080/"
        },
        "id": "_vIuaCeTZvPb",
        "outputId": "84afe68b-7ac1-4595-f9d2-c3cafc009e16"
      },
      "outputs": [
        {
          "name": "stdout",
          "output_type": "stream",
          "text": [
            "Average % Increase Price Per Year 16.43736078022836 %\n"
          ]
        }
      ],
      "source": [
        "avg_percent_increase = np.median(percent_increase)*100\n",
        "print(\"Average % Increase Price Per Year\", avg_percent_increase, \"%\")"
      ]
    }
  ],
  "metadata": {
    "colab": {
      "collapsed_sections": [],
      "name": "3.3.c FP TimeSeries ML- DC.ipynb",
      "provenance": []
    },
    "interpreter": {
      "hash": "c717e48f47dbf3882205ebaefec1a2b4f1b354b496a24c57e7aae83aa2cbf878"
    },
    "kernelspec": {
      "display_name": "Python 3.9.6 64-bit",
      "language": "python",
      "name": "python3"
    },
    "language_info": {
      "codemirror_mode": {
        "name": "ipython",
        "version": 3
      },
      "file_extension": ".py",
      "mimetype": "text/x-python",
      "name": "python",
      "nbconvert_exporter": "python",
      "pygments_lexer": "ipython3",
      "version": "3.10.2"
    }
  },
  "nbformat": 4,
  "nbformat_minor": 0
}
