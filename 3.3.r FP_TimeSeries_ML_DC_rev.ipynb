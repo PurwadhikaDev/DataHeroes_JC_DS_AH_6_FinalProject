{
  "cells": [
    {
      "cell_type": "markdown",
      "metadata": {
        "id": "jUxhuhV77Kch"
      },
      "source": [
        "\n",
        "\n",
        "# Time Series for % Increasing Price\n",
        "\n",
        "reference: \n",
        "- https://www.machinelearningplus.com/time-series/time-series-analysis-python/\n",
        "- https://machinelearningmastery.com/decompose-time-series-data-trend-seasonality/"
      ]
    },
    {
      "cell_type": "markdown",
      "metadata": {
        "id": "bBrJPBfNWzrZ"
      },
      "source": [
        "# Import Libray and Open Data"
      ]
    },
    {
      "cell_type": "code",
      "execution_count": 1,
      "metadata": {
        "id": "Bu2qf0xf7Kcm"
      },
      "outputs": [],
      "source": [
        "import pandas as pd\n",
        "import numpy as np\n",
        "import random"
      ]
    },
    {
      "cell_type": "code",
      "execution_count": 2,
      "metadata": {
        "colab": {
          "base_uri": "https://localhost:8080/",
          "height": 112
        },
        "id": "yPZ31F6N7Kco",
        "outputId": "001a3367-374d-4713-d185-f13522bd4275"
      },
      "outputs": [
        {
          "data": {
            "text/html": [
              "<div>\n",
              "<style scoped>\n",
              "    .dataframe tbody tr th:only-of-type {\n",
              "        vertical-align: middle;\n",
              "    }\n",
              "\n",
              "    .dataframe tbody tr th {\n",
              "        vertical-align: top;\n",
              "    }\n",
              "\n",
              "    .dataframe thead th {\n",
              "        text-align: right;\n",
              "    }\n",
              "</style>\n",
              "<table border=\"1\" class=\"dataframe\">\n",
              "  <thead>\n",
              "    <tr style=\"text-align: right;\">\n",
              "      <th></th>\n",
              "      <th>SALEDATE</th>\n",
              "      <th>PRICE</th>\n",
              "    </tr>\n",
              "  </thead>\n",
              "  <tbody>\n",
              "    <tr>\n",
              "      <th>0</th>\n",
              "      <td>2003-11-25</td>\n",
              "      <td>1095000.0</td>\n",
              "    </tr>\n",
              "    <tr>\n",
              "      <th>2</th>\n",
              "      <td>2016-06-21</td>\n",
              "      <td>2100000.0</td>\n",
              "    </tr>\n",
              "  </tbody>\n",
              "</table>\n",
              "</div>"
            ],
            "text/plain": [
              "    SALEDATE      PRICE\n",
              "0 2003-11-25  1095000.0\n",
              "2 2016-06-21  2100000.0"
            ]
          },
          "execution_count": 2,
          "metadata": {},
          "output_type": "execute_result"
        }
      ],
      "source": [
        "df = pd.read_csv('Data/DC_Prop_Residential_TimeSeries.csv', index_col = 'Unnamed: 0', parse_dates = ['SALEDATE'])\n",
        "df.head(2)"
      ]
    },
    {
      "cell_type": "markdown",
      "metadata": {
        "id": "sqP3qY4qW8SG"
      },
      "source": [
        "# Preprocessing"
      ]
    },
    {
      "cell_type": "markdown",
      "metadata": {
        "id": "y7vImWGCXERt"
      },
      "source": [
        "## Prepare Column"
      ]
    },
    {
      "cell_type": "code",
      "execution_count": 3,
      "metadata": {
        "id": "B8YNQHJk7Kcp"
      },
      "outputs": [],
      "source": [
        "df = df.sort_values(by='SALEDATE', ascending= True)"
      ]
    },
    {
      "cell_type": "code",
      "execution_count": 4,
      "metadata": {
        "id": "GHhAfh537Kcq"
      },
      "outputs": [],
      "source": [
        "df['YEAR'] = df['SALEDATE'].dt.year\n",
        "df['SOURCE'] = 'Condominium'\n",
        "df = df.rename_axis(None)"
      ]
    },
    {
      "cell_type": "markdown",
      "metadata": {
        "id": "vlRM5xZpXk88"
      },
      "source": [
        "## Aggregate Price Per Year"
      ]
    },
    {
      "cell_type": "code",
      "execution_count": 5,
      "metadata": {
        "id": "jAi-iVuf7Kcs"
      },
      "outputs": [],
      "source": [
        "df_r = pd.crosstab(index=df['YEAR'], \n",
        "            columns=[df['SOURCE']], \n",
        "            values=df['PRICE'],\n",
        "            aggfunc='mean')\n",
        "df_r = df_r.rename_axis(None)\n",
        "df_r = df_r.reset_index()\n",
        "df_r = df_r.rename(columns={'Condominium' : 'PRICE_AVG', 'index' : 'YEAR'})"
      ]
    },
    {
      "cell_type": "markdown",
      "metadata": {
        "id": "ULsFGlt0XuWB"
      },
      "source": [
        "## Repair Typo Price"
      ]
    },
    {
      "cell_type": "code",
      "execution_count": 6,
      "metadata": {
        "id": "GU3hzD5Fft21"
      },
      "outputs": [],
      "source": [
        "df_r.iloc[6,1] = df_r.iloc[6,1] / 10"
      ]
    },
    {
      "cell_type": "markdown",
      "metadata": {
        "id": "TuRtsHkNX2L6"
      },
      "source": [
        "# Plot Price by Time Series"
      ]
    },
    {
      "cell_type": "code",
      "execution_count": 8,
      "metadata": {
        "colab": {
          "base_uri": "https://localhost:8080/",
          "height": 1000
        },
        "id": "GsLHGS_47Kcu",
        "outputId": "6cd7b3ba-858e-41e0-e040-5401725197e3"
      },
      "outputs": [
        {
          "data": {
            "image/png": "[encoded data removed]",
            "text/plain": [
              "<Figure size 720x360 with 1 Axes>"
            ]
          },
          "metadata": {},
          "output_type": "display_data"
        }
      ],
      "source": [
        "import matplotlib.pyplot as plt\n",
        "import seaborn as sns\n",
        "\n",
        "plt.figure(figsize = (10,5))\n",
        "sns.set_style(\"darkgrid\")\n",
        "sns.lineplot(x='YEAR', y='PRICE_AVG', data = df_r, color = 'black', legend='full', sizes= 1)\n",
        "\n",
        "plt.xticks(rotation=45)\n",
        "plt.show()"
      ]
    },
    {
      "cell_type": "code",
      "execution_count": 9,
      "metadata": {},
      "outputs": [
        {
          "data": {
            "text/html": [
              "<div>\n",
              "<style scoped>\n",
              "    .dataframe tbody tr th:only-of-type {\n",
              "        vertical-align: middle;\n",
              "    }\n",
              "\n",
              "    .dataframe tbody tr th {\n",
              "        vertical-align: top;\n",
              "    }\n",
              "\n",
              "    .dataframe thead th {\n",
              "        text-align: right;\n",
              "    }\n",
              "</style>\n",
              "<table border=\"1\" class=\"dataframe\">\n",
              "  <thead>\n",
              "    <tr style=\"text-align: right;\">\n",
              "      <th>SOURCE</th>\n",
              "      <th>YEAR</th>\n",
              "      <th>PRICE_AVG</th>\n",
              "    </tr>\n",
              "  </thead>\n",
              "  <tbody>\n",
              "    <tr>\n",
              "      <th>0</th>\n",
              "      <td>1982</td>\n",
              "      <td>60000.000000</td>\n",
              "    </tr>\n",
              "    <tr>\n",
              "      <th>1</th>\n",
              "      <td>1984</td>\n",
              "      <td>57750.000000</td>\n",
              "    </tr>\n",
              "    <tr>\n",
              "      <th>2</th>\n",
              "      <td>1985</td>\n",
              "      <td>173000.000000</td>\n",
              "    </tr>\n",
              "    <tr>\n",
              "      <th>3</th>\n",
              "      <td>1986</td>\n",
              "      <td>89000.000000</td>\n",
              "    </tr>\n",
              "    <tr>\n",
              "      <th>4</th>\n",
              "      <td>1988</td>\n",
              "      <td>140000.000000</td>\n",
              "    </tr>\n",
              "    <tr>\n",
              "      <th>5</th>\n",
              "      <td>1990</td>\n",
              "      <td>117833.333333</td>\n",
              "    </tr>\n",
              "    <tr>\n",
              "      <th>6</th>\n",
              "      <td>1991</td>\n",
              "      <td>100496.666667</td>\n",
              "    </tr>\n",
              "    <tr>\n",
              "      <th>7</th>\n",
              "      <td>1992</td>\n",
              "      <td>235341.982684</td>\n",
              "    </tr>\n",
              "    <tr>\n",
              "      <th>8</th>\n",
              "      <td>1993</td>\n",
              "      <td>217414.979626</td>\n",
              "    </tr>\n",
              "    <tr>\n",
              "      <th>9</th>\n",
              "      <td>1994</td>\n",
              "      <td>217566.135402</td>\n",
              "    </tr>\n",
              "    <tr>\n",
              "      <th>10</th>\n",
              "      <td>1995</td>\n",
              "      <td>219259.223228</td>\n",
              "    </tr>\n",
              "    <tr>\n",
              "      <th>11</th>\n",
              "      <td>1996</td>\n",
              "      <td>217759.689384</td>\n",
              "    </tr>\n",
              "    <tr>\n",
              "      <th>12</th>\n",
              "      <td>1997</td>\n",
              "      <td>232816.539666</td>\n",
              "    </tr>\n",
              "    <tr>\n",
              "      <th>13</th>\n",
              "      <td>1998</td>\n",
              "      <td>222925.642609</td>\n",
              "    </tr>\n",
              "    <tr>\n",
              "      <th>14</th>\n",
              "      <td>1999</td>\n",
              "      <td>255825.761719</td>\n",
              "    </tr>\n",
              "    <tr>\n",
              "      <th>15</th>\n",
              "      <td>2000</td>\n",
              "      <td>261877.119878</td>\n",
              "    </tr>\n",
              "    <tr>\n",
              "      <th>16</th>\n",
              "      <td>2001</td>\n",
              "      <td>300780.663328</td>\n",
              "    </tr>\n",
              "    <tr>\n",
              "      <th>17</th>\n",
              "      <td>2002</td>\n",
              "      <td>334278.698380</td>\n",
              "    </tr>\n",
              "    <tr>\n",
              "      <th>18</th>\n",
              "      <td>2003</td>\n",
              "      <td>408266.159960</td>\n",
              "    </tr>\n",
              "    <tr>\n",
              "      <th>19</th>\n",
              "      <td>2004</td>\n",
              "      <td>448046.315115</td>\n",
              "    </tr>\n",
              "    <tr>\n",
              "      <th>20</th>\n",
              "      <td>2005</td>\n",
              "      <td>558768.293165</td>\n",
              "    </tr>\n",
              "    <tr>\n",
              "      <th>21</th>\n",
              "      <td>2006</td>\n",
              "      <td>564169.857991</td>\n",
              "    </tr>\n",
              "    <tr>\n",
              "      <th>22</th>\n",
              "      <td>2007</td>\n",
              "      <td>607780.302128</td>\n",
              "    </tr>\n",
              "    <tr>\n",
              "      <th>23</th>\n",
              "      <td>2008</td>\n",
              "      <td>588080.483267</td>\n",
              "    </tr>\n",
              "    <tr>\n",
              "      <th>24</th>\n",
              "      <td>2009</td>\n",
              "      <td>552766.774194</td>\n",
              "    </tr>\n",
              "    <tr>\n",
              "      <th>25</th>\n",
              "      <td>2010</td>\n",
              "      <td>588897.751057</td>\n",
              "    </tr>\n",
              "    <tr>\n",
              "      <th>26</th>\n",
              "      <td>2011</td>\n",
              "      <td>600952.784462</td>\n",
              "    </tr>\n",
              "    <tr>\n",
              "      <th>27</th>\n",
              "      <td>2012</td>\n",
              "      <td>641913.154925</td>\n",
              "    </tr>\n",
              "    <tr>\n",
              "      <th>28</th>\n",
              "      <td>2013</td>\n",
              "      <td>719393.336078</td>\n",
              "    </tr>\n",
              "    <tr>\n",
              "      <th>29</th>\n",
              "      <td>2014</td>\n",
              "      <td>723207.958689</td>\n",
              "    </tr>\n",
              "    <tr>\n",
              "      <th>30</th>\n",
              "      <td>2015</td>\n",
              "      <td>769050.608831</td>\n",
              "    </tr>\n",
              "    <tr>\n",
              "      <th>31</th>\n",
              "      <td>2016</td>\n",
              "      <td>777127.687633</td>\n",
              "    </tr>\n",
              "    <tr>\n",
              "      <th>32</th>\n",
              "      <td>2017</td>\n",
              "      <td>801404.173602</td>\n",
              "    </tr>\n",
              "    <tr>\n",
              "      <th>33</th>\n",
              "      <td>2018</td>\n",
              "      <td>789869.563758</td>\n",
              "    </tr>\n",
              "  </tbody>\n",
              "</table>\n",
              "</div>"
            ],
            "text/plain": [
              "SOURCE  YEAR      PRICE_AVG\n",
              "0       1982   60000.000000\n",
              "1       1984   57750.000000\n",
              "2       1985  173000.000000\n",
              "3       1986   89000.000000\n",
              "4       1988  140000.000000\n",
              "5       1990  117833.333333\n",
              "6       1991  100496.666667\n",
              "7       1992  235341.982684\n",
              "8       1993  217414.979626\n",
              "9       1994  217566.135402\n",
              "10      1995  219259.223228\n",
              "11      1996  217759.689384\n",
              "12      1997  232816.539666\n",
              "13      1998  222925.642609\n",
              "14      1999  255825.761719\n",
              "15      2000  261877.119878\n",
              "16      2001  300780.663328\n",
              "17      2002  334278.698380\n",
              "18      2003  408266.159960\n",
              "19      2004  448046.315115\n",
              "20      2005  558768.293165\n",
              "21      2006  564169.857991\n",
              "22      2007  607780.302128\n",
              "23      2008  588080.483267\n",
              "24      2009  552766.774194\n",
              "25      2010  588897.751057\n",
              "26      2011  600952.784462\n",
              "27      2012  641913.154925\n",
              "28      2013  719393.336078\n",
              "29      2014  723207.958689\n",
              "30      2015  769050.608831\n",
              "31      2016  777127.687633\n",
              "32      2017  801404.173602\n",
              "33      2018  789869.563758"
            ]
          },
          "execution_count": 9,
          "metadata": {},
          "output_type": "execute_result"
        }
      ],
      "source": [
        "df_r"
      ]
    },
    {
      "cell_type": "markdown",
      "metadata": {
        "id": "U_hpkLeZYE7n"
      },
      "source": [
        "# Calculate % Increase Price Per Year"
      ]
    },
    {
      "cell_type": "code",
      "execution_count": null,
      "metadata": {
        "id": "wDT3fNcSYPCg"
      },
      "outputs": [],
      "source": [
        "price = df_r['PRICE_AVG']\n",
        "percent_increase = []\n",
        "for i in range(len(price)-1):\n",
        "  increase = np.abs(price[i+1] - price[i])/price[i]\n",
        "  percent_increase.append(increase)\n"
      ]
    },
    {
      "cell_type": "code",
      "execution_count": null,
      "metadata": {
        "colab": {
          "base_uri": "https://localhost:8080/"
        },
        "id": "_vIuaCeTZvPb",
        "outputId": "636c42e8-c088-4093-fc4f-f84a5abbaa03"
      },
      "outputs": [
        {
          "name": "stdout",
          "output_type": "stream",
          "text": [
            "Average % Increase Price Per Year 6.815904929872753 %\n"
          ]
        }
      ],
      "source": [
        "avg_percent_increase = np.median(percent_increase)*100\n",
        "print(\"Average % Increase Price Per Year\", avg_percent_increase, \"%\")"
      ]
    }
  ],
  "metadata": {
    "colab": {
      "collapsed_sections": [],
      "name": "3.3.r FP TimeSeries ML- DC.ipynb",
      "provenance": []
    },
    "interpreter": {
      "hash": "c717e48f47dbf3882205ebaefec1a2b4f1b354b496a24c57e7aae83aa2cbf878"
    },
    "kernelspec": {
      "display_name": "Python 3.9.6 64-bit",
      "language": "python",
      "name": "python3"
    },
    "language_info": {
      "codemirror_mode": {
        "name": "ipython",
        "version": 3
      },
      "file_extension": ".py",
      "mimetype": "text/x-python",
      "name": "python",
      "nbconvert_exporter": "python",
      "pygments_lexer": "ipython3",
      "version": "3.10.2"
    }
  },
  "nbformat": 4,
  "nbformat_minor": 0
}
