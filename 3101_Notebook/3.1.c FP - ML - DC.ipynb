{
 "cells": [
  {
   "cell_type": "markdown",
   "metadata": {},
   "source": [
    "# MODELING - Regression 22/01"
   ]
  },
  {
   "cell_type": "code",
   "execution_count": 1,
   "metadata": {},
   "outputs": [],
   "source": [
    "\n",
    "import numpy as np \n",
    "import pandas as pd \n",
    "\n",
    "import statsmodels.api as sm\n",
    "import os\n",
    "import seaborn as sns\n",
    "import matplotlib.pyplot as plt\n",
    "from scipy import stats\n",
    "from sklearn.ensemble import AdaBoostRegressor\n",
    "from sklearn.preprocessing import scale\n",
    "from sklearn.preprocessing import StandardScaler\n",
    "from sklearn.preprocessing import PowerTransformer\n",
    "from sklearn.model_selection import RandomizedSearchCV\n",
    "from sklearn.model_selection import train_test_split, cross_val_score, StratifiedKFold, GridSearchCV, RandomizedSearchCV\n",
    "from sklearn.decomposition import PCA\n",
    "from sklearn.linear_model import LinearRegression\n",
    "from sklearn.tree import DecisionTreeRegressor\n",
    "import seaborn as sns\n",
    "from sklearn import metrics \n",
    "import xgboost as xgb\n",
    "\n",
    "\n"
   ]
  },
  {
   "cell_type": "markdown",
   "metadata": {},
   "source": [
    "## Load Dataset"
   ]
  },
  {
   "cell_type": "code",
   "execution_count": 2,
   "metadata": {},
   "outputs": [
    {
     "data": {
      "text/plain": [
       "(38707, 36)"
      ]
     },
     "execution_count": 2,
     "metadata": {},
     "output_type": "execute_result"
    }
   ],
   "source": [
    "df = pd.read_csv('Data/DC_Prop_Condominium_Regression.csv', index_col= 'Unnamed: 0')\n",
    "df.shape"
   ]
  },
  {
   "cell_type": "markdown",
   "metadata": {},
   "source": [
    "Mendapatkan HARGA yang tidak diketahui ke DataFrame yang berbeda untuk prediksi"
   ]
  },
  {
   "cell_type": "markdown",
   "metadata": {},
   "source": [
    "## Menentukan Feature dan Target"
   ]
  },
  {
   "cell_type": "code",
   "execution_count": 3,
   "metadata": {},
   "outputs": [],
   "source": [
    "X=df.drop(['PRICE'],axis=1)\n",
    "y=df['PRICE']"
   ]
  },
  {
   "cell_type": "markdown",
   "metadata": {},
   "source": [
    "## Regresi untuk setiap model"
   ]
  },
  {
   "cell_type": "code",
   "execution_count": 4,
   "metadata": {},
   "outputs": [],
   "source": [
    "def evaluate(model, X_test, y_test):\n",
    "    predictions = model.predict(X_test)\n",
    "    print('Model Performance')\n",
    "    print('R2:', metrics.r2_score(y_test, predictions))\n",
    "    print('Mean_Absolute_Error:', metrics.mean_absolute_error(y_test, predictions))\n",
    "    print('Mean_Squared_Error:', metrics.mean_squared_error(y_test, predictions))\n",
    "    print('RMSE:', np.sqrt(metrics.mean_squared_error(y_test, predictions)))"
   ]
  },
  {
   "cell_type": "markdown",
   "metadata": {},
   "source": [
    "### OLS Regression"
   ]
  },
  {
   "cell_type": "code",
   "execution_count": 84,
   "metadata": {},
   "outputs": [
    {
     "name": "stdout",
     "output_type": "stream",
     "text": [
      "Model Performance\n",
      "R2: 0.41364062269202073\n",
      "Mean_Absolute_Error: 7.840637450173552\n",
      "Mean_Squared_Error: 188.8599961354754\n",
      "RMSE: 13.74263425022566\n"
     ]
    },
    {
     "data": {
      "text/html": [
       "<table class=\"simpletable\">\n",
       "<caption>OLS Regression Results</caption>\n",
       "<tr>\n",
       "  <th>Dep. Variable:</th>          <td>PRICE</td>      <th>  R-squared:         </th>  <td>   0.430</td>  \n",
       "</tr>\n",
       "<tr>\n",
       "  <th>Model:</th>                   <td>OLS</td>       <th>  Adj. R-squared:    </th>  <td>   0.430</td>  \n",
       "</tr>\n",
       "<tr>\n",
       "  <th>Method:</th>             <td>Least Squares</td>  <th>  F-statistic:       </th>  <td>   935.1</td>  \n",
       "</tr>\n",
       "<tr>\n",
       "  <th>Date:</th>             <td>Fri, 28 Jan 2022</td> <th>  Prob (F-statistic):</th>   <td>  0.00</td>   \n",
       "</tr>\n",
       "<tr>\n",
       "  <th>Time:</th>                 <td>00:43:19</td>     <th>  Log-Likelihood:    </th> <td>-1.2455e+05</td>\n",
       "</tr>\n",
       "<tr>\n",
       "  <th>No. Observations:</th>      <td> 30965</td>      <th>  AIC:               </th>  <td>2.492e+05</td> \n",
       "</tr>\n",
       "<tr>\n",
       "  <th>Df Residuals:</th>          <td> 30939</td>      <th>  BIC:               </th>  <td>2.494e+05</td> \n",
       "</tr>\n",
       "<tr>\n",
       "  <th>Df Model:</th>              <td>    25</td>      <th>                     </th>      <td> </td>     \n",
       "</tr>\n",
       "<tr>\n",
       "  <th>Covariance Type:</th>      <td>nonrobust</td>    <th>                     </th>      <td> </td>     \n",
       "</tr>\n",
       "</table>\n",
       "<table class=\"simpletable\">\n",
       "<tr>\n",
       "           <td></td>              <th>coef</th>     <th>std err</th>      <th>t</th>      <th>P>|t|</th>  <th>[0.025</th>    <th>0.975]</th>  \n",
       "</tr>\n",
       "<tr>\n",
       "  <th>BATHRM</th>              <td>    3.5317</td> <td>    0.231</td> <td>   15.298</td> <td> 0.000</td> <td>    3.079</td> <td>    3.984</td>\n",
       "</tr>\n",
       "<tr>\n",
       "  <th>HF_BATHRM</th>           <td>   -0.3948</td> <td>    0.252</td> <td>   -1.565</td> <td> 0.118</td> <td>   -0.889</td> <td>    0.100</td>\n",
       "</tr>\n",
       "<tr>\n",
       "  <th>ROOMS</th>               <td>   -1.1566</td> <td>    0.145</td> <td>   -7.982</td> <td> 0.000</td> <td>   -1.441</td> <td>   -0.873</td>\n",
       "</tr>\n",
       "<tr>\n",
       "  <th>BEDRM</th>               <td>    1.3419</td> <td>    0.209</td> <td>    6.411</td> <td> 0.000</td> <td>    0.932</td> <td>    1.752</td>\n",
       "</tr>\n",
       "<tr>\n",
       "  <th>AYB</th>                 <td>    0.0366</td> <td>    0.004</td> <td>   10.276</td> <td> 0.000</td> <td>    0.030</td> <td>    0.044</td>\n",
       "</tr>\n",
       "<tr>\n",
       "  <th>YR_RMDL</th>             <td>   -0.0374</td> <td>    0.004</td> <td>   -8.694</td> <td> 0.000</td> <td>   -0.046</td> <td>   -0.029</td>\n",
       "</tr>\n",
       "<tr>\n",
       "  <th>EYB</th>                 <td>    0.0971</td> <td>    0.005</td> <td>   21.081</td> <td> 0.000</td> <td>    0.088</td> <td>    0.106</td>\n",
       "</tr>\n",
       "<tr>\n",
       "  <th>SALE_NUM</th>            <td>    1.7349</td> <td>    0.060</td> <td>   28.901</td> <td> 0.000</td> <td>    1.617</td> <td>    1.853</td>\n",
       "</tr>\n",
       "<tr>\n",
       "  <th>FIREPLACES</th>          <td>   -0.0087</td> <td>    0.015</td> <td>   -0.595</td> <td> 0.552</td> <td>   -0.037</td> <td>    0.020</td>\n",
       "</tr>\n",
       "<tr>\n",
       "  <th>USECODE</th>             <td>   -5.2007</td> <td>    0.214</td> <td>  -24.286</td> <td> 0.000</td> <td>   -5.620</td> <td>   -4.781</td>\n",
       "</tr>\n",
       "<tr>\n",
       "  <th>LANDAREA</th>            <td>   -0.0098</td> <td>    0.000</td> <td>  -37.982</td> <td> 0.000</td> <td>   -0.010</td> <td>   -0.009</td>\n",
       "</tr>\n",
       "<tr>\n",
       "  <th>LIVING_GBA</th>          <td>    0.0245</td> <td>    0.000</td> <td>   59.321</td> <td> 0.000</td> <td>    0.024</td> <td>    0.025</td>\n",
       "</tr>\n",
       "<tr>\n",
       "  <th>SalevYB</th>             <td>    0.0808</td> <td>    0.004</td> <td>   18.790</td> <td> 0.000</td> <td>    0.072</td> <td>    0.089</td>\n",
       "</tr>\n",
       "<tr>\n",
       "  <th>SalevYI</th>             <td>    0.0204</td> <td>    0.004</td> <td>    5.593</td> <td> 0.000</td> <td>    0.013</td> <td>    0.028</td>\n",
       "</tr>\n",
       "<tr>\n",
       "  <th>HEAT_Air-Oil</th>        <td>-5.581e-14</td> <td> 5.05e-15</td> <td>  -11.044</td> <td> 0.000</td> <td>-6.57e-14</td> <td>-4.59e-14</td>\n",
       "</tr>\n",
       "<tr>\n",
       "  <th>HEAT_Elec Base Brd</th>  <td>  2.22e-13</td> <td> 2.09e-14</td> <td>   10.619</td> <td> 0.000</td> <td> 1.81e-13</td> <td> 2.63e-13</td>\n",
       "</tr>\n",
       "<tr>\n",
       "  <th>HEAT_Electric Rad</th>   <td> 8.813e-14</td> <td> 8.55e-15</td> <td>   10.305</td> <td> 0.000</td> <td> 7.14e-14</td> <td> 1.05e-13</td>\n",
       "</tr>\n",
       "<tr>\n",
       "  <th>HEAT_Evp Cool</th>       <td>-9.218e-14</td> <td>  8.7e-15</td> <td>  -10.591</td> <td> 0.000</td> <td>-1.09e-13</td> <td>-7.51e-14</td>\n",
       "</tr>\n",
       "<tr>\n",
       "  <th>HEAT_Forced Air</th>     <td>  -58.0957</td> <td>    5.453</td> <td>  -10.653</td> <td> 0.000</td> <td>  -68.784</td> <td>  -47.407</td>\n",
       "</tr>\n",
       "<tr>\n",
       "  <th>HEAT_Gravity Furnac</th> <td>-7.822e-14</td> <td> 7.27e-15</td> <td>  -10.766</td> <td> 0.000</td> <td>-9.25e-14</td> <td> -6.4e-14</td>\n",
       "</tr>\n",
       "<tr>\n",
       "  <th>HEAT_Hot Water Rad</th>  <td>  -58.0429</td> <td>    5.472</td> <td>  -10.608</td> <td> 0.000</td> <td>  -68.767</td> <td>  -47.318</td>\n",
       "</tr>\n",
       "<tr>\n",
       "  <th>HEAT_Ht Pump</th>        <td>  -55.8025</td> <td>    5.454</td> <td>  -10.232</td> <td> 0.000</td> <td>  -66.492</td> <td>  -45.113</td>\n",
       "</tr>\n",
       "<tr>\n",
       "  <th>HEAT_Ind Unit</th>       <td> 2.464e-14</td> <td> 2.42e-15</td> <td>   10.161</td> <td> 0.000</td> <td> 1.99e-14</td> <td> 2.94e-14</td>\n",
       "</tr>\n",
       "<tr>\n",
       "  <th>HEAT_Wall Furnace</th>   <td> 3.161e-13</td> <td> 2.97e-14</td> <td>   10.655</td> <td> 0.000</td> <td> 2.58e-13</td> <td> 3.74e-13</td>\n",
       "</tr>\n",
       "<tr>\n",
       "  <th>HEAT_Warm Cool</th>      <td>  -61.2762</td> <td>    5.456</td> <td>  -11.232</td> <td> 0.000</td> <td>  -71.969</td> <td>  -50.583</td>\n",
       "</tr>\n",
       "<tr>\n",
       "  <th>HEAT_Water Base Brd</th> <td>-3.302e-13</td> <td> 3.09e-14</td> <td>  -10.680</td> <td> 0.000</td> <td>-3.91e-13</td> <td> -2.7e-13</td>\n",
       "</tr>\n",
       "<tr>\n",
       "  <th>AC_1</th>                <td>    3.3594</td> <td>    0.422</td> <td>    7.955</td> <td> 0.000</td> <td>    2.532</td> <td>    4.187</td>\n",
       "</tr>\n",
       "<tr>\n",
       "  <th>QUALIFIED_U</th>         <td>    1.2040</td> <td>    0.184</td> <td>    6.553</td> <td> 0.000</td> <td>    0.844</td> <td>    1.564</td>\n",
       "</tr>\n",
       "<tr>\n",
       "  <th>WARD_Ward 2</th>         <td>   -0.2424</td> <td>    0.238</td> <td>   -1.018</td> <td> 0.309</td> <td>   -0.709</td> <td>    0.224</td>\n",
       "</tr>\n",
       "<tr>\n",
       "  <th>WARD_Ward 3</th>         <td>   -3.4083</td> <td>    0.283</td> <td>  -12.062</td> <td> 0.000</td> <td>   -3.962</td> <td>   -2.854</td>\n",
       "</tr>\n",
       "<tr>\n",
       "  <th>WARD_Ward 4</th>         <td>   -7.6167</td> <td>    0.430</td> <td>  -17.714</td> <td> 0.000</td> <td>   -8.459</td> <td>   -6.774</td>\n",
       "</tr>\n",
       "<tr>\n",
       "  <th>WARD_Ward 5</th>         <td>   -8.6484</td> <td>    0.365</td> <td>  -23.682</td> <td> 0.000</td> <td>   -9.364</td> <td>   -7.933</td>\n",
       "</tr>\n",
       "<tr>\n",
       "  <th>WARD_Ward 6</th>         <td>   -2.3524</td> <td>    0.266</td> <td>   -8.842</td> <td> 0.000</td> <td>   -2.874</td> <td>   -1.831</td>\n",
       "</tr>\n",
       "<tr>\n",
       "  <th>WARD_Ward 7</th>         <td>  -16.1576</td> <td>    0.478</td> <td>  -33.787</td> <td> 0.000</td> <td>  -17.095</td> <td>  -15.220</td>\n",
       "</tr>\n",
       "<tr>\n",
       "  <th>WARD_Ward 8</th>         <td>  -11.9575</td> <td>    0.458</td> <td>  -26.114</td> <td> 0.000</td> <td>  -12.855</td> <td>  -11.060</td>\n",
       "</tr>\n",
       "</table>\n",
       "<table class=\"simpletable\">\n",
       "<tr>\n",
       "  <th>Omnibus:</th>       <td>26265.068</td> <th>  Durbin-Watson:     </th>  <td>   1.992</td>  \n",
       "</tr>\n",
       "<tr>\n",
       "  <th>Prob(Omnibus):</th>  <td> 0.000</td>   <th>  Jarque-Bera (JB):  </th> <td>1844048.234</td>\n",
       "</tr>\n",
       "<tr>\n",
       "  <th>Skew:</th>           <td> 3.689</td>   <th>  Prob(JB):          </th>  <td>    0.00</td>  \n",
       "</tr>\n",
       "<tr>\n",
       "  <th>Kurtosis:</th>       <td>40.079</td>   <th>  Cond. No.          </th>  <td>1.06e+16</td>  \n",
       "</tr>\n",
       "</table><br/><br/>Notes:<br/>[1] Standard Errors assume that the covariance matrix of the errors is correctly specified.<br/>[2] The smallest eigenvalue is 3.48e-21. This might indicate that there are<br/>strong multicollinearity problems or that the design matrix is singular."
      ],
      "text/plain": [
       "<class 'statsmodels.iolib.summary.Summary'>\n",
       "\"\"\"\n",
       "                            OLS Regression Results                            \n",
       "==============================================================================\n",
       "Dep. Variable:                  PRICE   R-squared:                       0.430\n",
       "Model:                            OLS   Adj. R-squared:                  0.430\n",
       "Method:                 Least Squares   F-statistic:                     935.1\n",
       "Date:                Fri, 28 Jan 2022   Prob (F-statistic):               0.00\n",
       "Time:                        00:43:19   Log-Likelihood:            -1.2455e+05\n",
       "No. Observations:               30965   AIC:                         2.492e+05\n",
       "Df Residuals:                   30939   BIC:                         2.494e+05\n",
       "Df Model:                          25                                         \n",
       "Covariance Type:            nonrobust                                         \n",
       "=======================================================================================\n",
       "                          coef    std err          t      P>|t|      [0.025      0.975]\n",
       "---------------------------------------------------------------------------------------\n",
       "BATHRM                  3.5317      0.231     15.298      0.000       3.079       3.984\n",
       "HF_BATHRM              -0.3948      0.252     -1.565      0.118      -0.889       0.100\n",
       "ROOMS                  -1.1566      0.145     -7.982      0.000      -1.441      -0.873\n",
       "BEDRM                   1.3419      0.209      6.411      0.000       0.932       1.752\n",
       "AYB                     0.0366      0.004     10.276      0.000       0.030       0.044\n",
       "YR_RMDL                -0.0374      0.004     -8.694      0.000      -0.046      -0.029\n",
       "EYB                     0.0971      0.005     21.081      0.000       0.088       0.106\n",
       "SALE_NUM                1.7349      0.060     28.901      0.000       1.617       1.853\n",
       "FIREPLACES             -0.0087      0.015     -0.595      0.552      -0.037       0.020\n",
       "USECODE                -5.2007      0.214    -24.286      0.000      -5.620      -4.781\n",
       "LANDAREA               -0.0098      0.000    -37.982      0.000      -0.010      -0.009\n",
       "LIVING_GBA              0.0245      0.000     59.321      0.000       0.024       0.025\n",
       "SalevYB                 0.0808      0.004     18.790      0.000       0.072       0.089\n",
       "SalevYI                 0.0204      0.004      5.593      0.000       0.013       0.028\n",
       "HEAT_Air-Oil        -5.581e-14   5.05e-15    -11.044      0.000   -6.57e-14   -4.59e-14\n",
       "HEAT_Elec Base Brd    2.22e-13   2.09e-14     10.619      0.000    1.81e-13    2.63e-13\n",
       "HEAT_Electric Rad    8.813e-14   8.55e-15     10.305      0.000    7.14e-14    1.05e-13\n",
       "HEAT_Evp Cool       -9.218e-14    8.7e-15    -10.591      0.000   -1.09e-13   -7.51e-14\n",
       "HEAT_Forced Air       -58.0957      5.453    -10.653      0.000     -68.784     -47.407\n",
       "HEAT_Gravity Furnac -7.822e-14   7.27e-15    -10.766      0.000   -9.25e-14    -6.4e-14\n",
       "HEAT_Hot Water Rad    -58.0429      5.472    -10.608      0.000     -68.767     -47.318\n",
       "HEAT_Ht Pump          -55.8025      5.454    -10.232      0.000     -66.492     -45.113\n",
       "HEAT_Ind Unit        2.464e-14   2.42e-15     10.161      0.000    1.99e-14    2.94e-14\n",
       "HEAT_Wall Furnace    3.161e-13   2.97e-14     10.655      0.000    2.58e-13    3.74e-13\n",
       "HEAT_Warm Cool        -61.2762      5.456    -11.232      0.000     -71.969     -50.583\n",
       "HEAT_Water Base Brd -3.302e-13   3.09e-14    -10.680      0.000   -3.91e-13    -2.7e-13\n",
       "AC_1                    3.3594      0.422      7.955      0.000       2.532       4.187\n",
       "QUALIFIED_U             1.2040      0.184      6.553      0.000       0.844       1.564\n",
       "WARD_Ward 2            -0.2424      0.238     -1.018      0.309      -0.709       0.224\n",
       "WARD_Ward 3            -3.4083      0.283    -12.062      0.000      -3.962      -2.854\n",
       "WARD_Ward 4            -7.6167      0.430    -17.714      0.000      -8.459      -6.774\n",
       "WARD_Ward 5            -8.6484      0.365    -23.682      0.000      -9.364      -7.933\n",
       "WARD_Ward 6            -2.3524      0.266     -8.842      0.000      -2.874      -1.831\n",
       "WARD_Ward 7           -16.1576      0.478    -33.787      0.000     -17.095     -15.220\n",
       "WARD_Ward 8           -11.9575      0.458    -26.114      0.000     -12.855     -11.060\n",
       "==============================================================================\n",
       "Omnibus:                    26265.068   Durbin-Watson:                   1.992\n",
       "Prob(Omnibus):                  0.000   Jarque-Bera (JB):          1844048.234\n",
       "Skew:                           3.689   Prob(JB):                         0.00\n",
       "Kurtosis:                      40.079   Cond. No.                     1.06e+16\n",
       "==============================================================================\n",
       "\n",
       "Notes:\n",
       "[1] Standard Errors assume that the covariance matrix of the errors is correctly specified.\n",
       "[2] The smallest eigenvalue is 3.48e-21. This might indicate that there are\n",
       "strong multicollinearity problems or that the design matrix is singular.\n",
       "\"\"\""
      ]
     },
     "execution_count": 84,
     "metadata": {},
     "output_type": "execute_result"
    }
   ],
   "source": [
    "#split into Test and Train\n",
    "X_train, X_test, y_train, y_test = train_test_split( X, y, test_size = 0.2, random_state = 100)\n",
    "model = sm.OLS(y_train, X_train.astype(float), hasconst=True).fit()\n",
    "# Print out the statistics\n",
    "#evaluate Accuracy\n",
    "evaluate(model, X_test, y_test)\n",
    "model.summary()\n",
    "\n"
   ]
  },
  {
   "cell_type": "markdown",
   "metadata": {},
   "source": [
    "### LinearRegression"
   ]
  },
  {
   "cell_type": "code",
   "execution_count": 6,
   "metadata": {},
   "outputs": [
    {
     "data": {
      "text/plain": [
       "0.5097570791774684"
      ]
     },
     "execution_count": 6,
     "metadata": {},
     "output_type": "execute_result"
    }
   ],
   "source": [
    "reg = LinearRegression().fit(X_test, y_test)\n",
    "reg.score(X_test, y_test)"
   ]
  },
  {
   "cell_type": "code",
   "execution_count": 17,
   "metadata": {},
   "outputs": [
    {
     "name": "stdout",
     "output_type": "stream",
     "text": [
      "Model Performance\n",
      "R2: 0.41442393394352817\n",
      "Mean_Absolute_Error: 7.833795735013645\n",
      "Mean_Squared_Error: 188.60770007667992\n",
      "RMSE: 13.733451863121665\n"
     ]
    },
    {
     "data": {
      "text/html": [
       "<table class=\"simpletable\">\n",
       "<caption>OLS Regression Results</caption>\n",
       "<tr>\n",
       "  <th>Dep. Variable:</th>          <td>PRICE</td>      <th>  R-squared:         </th>  <td>   0.430</td>  \n",
       "</tr>\n",
       "<tr>\n",
       "  <th>Model:</th>                   <td>OLS</td>       <th>  Adj. R-squared:    </th>  <td>   0.430</td>  \n",
       "</tr>\n",
       "<tr>\n",
       "  <th>Method:</th>             <td>Least Squares</td>  <th>  F-statistic:       </th>  <td>   1062.</td>  \n",
       "</tr>\n",
       "<tr>\n",
       "  <th>Date:</th>             <td>Thu, 27 Jan 2022</td> <th>  Prob (F-statistic):</th>   <td>  0.00</td>   \n",
       "</tr>\n",
       "<tr>\n",
       "  <th>Time:</th>                 <td>23:46:50</td>     <th>  Log-Likelihood:    </th> <td>-1.2456e+05</td>\n",
       "</tr>\n",
       "<tr>\n",
       "  <th>No. Observations:</th>      <td> 30965</td>      <th>  AIC:               </th>  <td>2.492e+05</td> \n",
       "</tr>\n",
       "<tr>\n",
       "  <th>Df Residuals:</th>          <td> 30942</td>      <th>  BIC:               </th>  <td>2.493e+05</td> \n",
       "</tr>\n",
       "<tr>\n",
       "  <th>Df Model:</th>              <td>    22</td>      <th>                     </th>      <td> </td>     \n",
       "</tr>\n",
       "<tr>\n",
       "  <th>Covariance Type:</th>      <td>nonrobust</td>    <th>                     </th>      <td> </td>     \n",
       "</tr>\n",
       "</table>\n",
       "<table class=\"simpletable\">\n",
       "<tr>\n",
       "           <td></td>              <th>coef</th>     <th>std err</th>      <th>t</th>      <th>P>|t|</th>  <th>[0.025</th>    <th>0.975]</th>  \n",
       "</tr>\n",
       "<tr>\n",
       "  <th>BATHRM</th>              <td>    3.5929</td> <td>    0.228</td> <td>   15.747</td> <td> 0.000</td> <td>    3.146</td> <td>    4.040</td>\n",
       "</tr>\n",
       "<tr>\n",
       "  <th>ROOMS</th>               <td>   -1.1694</td> <td>    0.145</td> <td>   -8.085</td> <td> 0.000</td> <td>   -1.453</td> <td>   -0.886</td>\n",
       "</tr>\n",
       "<tr>\n",
       "  <th>BEDRM</th>               <td>    1.3788</td> <td>    0.208</td> <td>    6.615</td> <td> 0.000</td> <td>    0.970</td> <td>    1.787</td>\n",
       "</tr>\n",
       "<tr>\n",
       "  <th>AYB</th>                 <td>    0.0363</td> <td>    0.004</td> <td>   10.209</td> <td> 0.000</td> <td>    0.029</td> <td>    0.043</td>\n",
       "</tr>\n",
       "<tr>\n",
       "  <th>YR_RMDL</th>             <td>   -0.0366</td> <td>    0.004</td> <td>   -8.584</td> <td> 0.000</td> <td>   -0.045</td> <td>   -0.028</td>\n",
       "</tr>\n",
       "<tr>\n",
       "  <th>EYB</th>                 <td>    0.0964</td> <td>    0.005</td> <td>   21.002</td> <td> 0.000</td> <td>    0.087</td> <td>    0.105</td>\n",
       "</tr>\n",
       "<tr>\n",
       "  <th>SALE_NUM</th>            <td>    1.7349</td> <td>    0.060</td> <td>   28.902</td> <td> 0.000</td> <td>    1.617</td> <td>    1.853</td>\n",
       "</tr>\n",
       "<tr>\n",
       "  <th>USECODE</th>             <td>   -5.1876</td> <td>    0.210</td> <td>  -24.656</td> <td> 0.000</td> <td>   -5.600</td> <td>   -4.775</td>\n",
       "</tr>\n",
       "<tr>\n",
       "  <th>LANDAREA</th>            <td>   -0.0098</td> <td>    0.000</td> <td>  -38.321</td> <td> 0.000</td> <td>   -0.010</td> <td>   -0.009</td>\n",
       "</tr>\n",
       "<tr>\n",
       "  <th>LIVING_GBA</th>          <td>    0.0243</td> <td>    0.000</td> <td>   62.453</td> <td> 0.000</td> <td>    0.024</td> <td>    0.025</td>\n",
       "</tr>\n",
       "<tr>\n",
       "  <th>SalevYB</th>             <td>    0.0805</td> <td>    0.004</td> <td>   18.724</td> <td> 0.000</td> <td>    0.072</td> <td>    0.089</td>\n",
       "</tr>\n",
       "<tr>\n",
       "  <th>SalevYI</th>             <td>    0.0204</td> <td>    0.004</td> <td>    5.589</td> <td> 0.000</td> <td>    0.013</td> <td>    0.027</td>\n",
       "</tr>\n",
       "<tr>\n",
       "  <th>HEAT_Air-Oil</th>        <td> -1.22e-13</td> <td> 1.19e-14</td> <td>  -10.226</td> <td> 0.000</td> <td>-1.45e-13</td> <td>-9.86e-14</td>\n",
       "</tr>\n",
       "<tr>\n",
       "  <th>HEAT_Elec Base Brd</th>  <td> 9.743e-16</td> <td> 1.83e-16</td> <td>    5.321</td> <td> 0.000</td> <td> 6.15e-16</td> <td> 1.33e-15</td>\n",
       "</tr>\n",
       "<tr>\n",
       "  <th>HEAT_Electric Rad</th>   <td>  3.82e-14</td> <td> 3.44e-15</td> <td>   11.094</td> <td> 0.000</td> <td> 3.15e-14</td> <td>  4.5e-14</td>\n",
       "</tr>\n",
       "<tr>\n",
       "  <th>HEAT_Evp Cool</th>       <td>-1.232e-14</td> <td> 1.21e-15</td> <td>  -10.162</td> <td> 0.000</td> <td>-1.47e-14</td> <td>-9.94e-15</td>\n",
       "</tr>\n",
       "<tr>\n",
       "  <th>HEAT_Forced Air</th>     <td>  -58.1227</td> <td>    5.453</td> <td>  -10.659</td> <td> 0.000</td> <td>  -68.810</td> <td>  -47.435</td>\n",
       "</tr>\n",
       "<tr>\n",
       "  <th>HEAT_Gravity Furnac</th> <td> 6.607e-15</td> <td> 6.09e-16</td> <td>   10.853</td> <td> 0.000</td> <td> 5.41e-15</td> <td>  7.8e-15</td>\n",
       "</tr>\n",
       "<tr>\n",
       "  <th>HEAT_Hot Water Rad</th>  <td>  -58.0609</td> <td>    5.471</td> <td>  -10.612</td> <td> 0.000</td> <td>  -68.785</td> <td>  -47.337</td>\n",
       "</tr>\n",
       "<tr>\n",
       "  <th>HEAT_Ht Pump</th>        <td>  -55.8519</td> <td>    5.453</td> <td>  -10.243</td> <td> 0.000</td> <td>  -66.540</td> <td>  -45.164</td>\n",
       "</tr>\n",
       "<tr>\n",
       "  <th>HEAT_Ind Unit</th>       <td>-8.111e-14</td> <td> 7.57e-15</td> <td>  -10.719</td> <td> 0.000</td> <td>-9.59e-14</td> <td>-6.63e-14</td>\n",
       "</tr>\n",
       "<tr>\n",
       "  <th>HEAT_Wall Furnace</th>   <td>-1.815e-13</td> <td>  1.7e-14</td> <td>  -10.706</td> <td> 0.000</td> <td>-2.15e-13</td> <td>-1.48e-13</td>\n",
       "</tr>\n",
       "<tr>\n",
       "  <th>HEAT_Warm Cool</th>      <td>  -61.3257</td> <td>    5.455</td> <td>  -11.243</td> <td> 0.000</td> <td>  -72.017</td> <td>  -50.634</td>\n",
       "</tr>\n",
       "<tr>\n",
       "  <th>AC_1</th>                <td>    3.3200</td> <td>    0.422</td> <td>    7.871</td> <td> 0.000</td> <td>    2.493</td> <td>    4.147</td>\n",
       "</tr>\n",
       "<tr>\n",
       "  <th>QUALIFIED_U</th>         <td>    1.2147</td> <td>    0.184</td> <td>    6.619</td> <td> 0.000</td> <td>    0.855</td> <td>    1.574</td>\n",
       "</tr>\n",
       "<tr>\n",
       "  <th>WARD_Ward 3</th>         <td>   -3.2238</td> <td>    0.244</td> <td>  -13.204</td> <td> 0.000</td> <td>   -3.702</td> <td>   -2.745</td>\n",
       "</tr>\n",
       "<tr>\n",
       "  <th>WARD_Ward 4</th>         <td>   -7.5001</td> <td>    0.416</td> <td>  -18.022</td> <td> 0.000</td> <td>   -8.316</td> <td>   -6.684</td>\n",
       "</tr>\n",
       "<tr>\n",
       "  <th>WARD_Ward 5</th>         <td>   -8.5441</td> <td>    0.351</td> <td>  -24.329</td> <td> 0.000</td> <td>   -9.232</td> <td>   -7.856</td>\n",
       "</tr>\n",
       "<tr>\n",
       "  <th>WARD_Ward 6</th>         <td>   -2.1910</td> <td>    0.227</td> <td>   -9.659</td> <td> 0.000</td> <td>   -2.636</td> <td>   -1.746</td>\n",
       "</tr>\n",
       "<tr>\n",
       "  <th>WARD_Ward 7</th>         <td>  -15.9817</td> <td>    0.466</td> <td>  -34.266</td> <td> 0.000</td> <td>  -16.896</td> <td>  -15.068</td>\n",
       "</tr>\n",
       "<tr>\n",
       "  <th>WARD_Ward 8</th>         <td>  -11.8004</td> <td>    0.447</td> <td>  -26.391</td> <td> 0.000</td> <td>  -12.677</td> <td>  -10.924</td>\n",
       "</tr>\n",
       "</table>\n",
       "<table class=\"simpletable\">\n",
       "<tr>\n",
       "  <th>Omnibus:</th>       <td>26315.563</td> <th>  Durbin-Watson:     </th>  <td>   1.992</td>  \n",
       "</tr>\n",
       "<tr>\n",
       "  <th>Prob(Omnibus):</th>  <td> 0.000</td>   <th>  Jarque-Bera (JB):  </th> <td>1858481.311</td>\n",
       "</tr>\n",
       "<tr>\n",
       "  <th>Skew:</th>           <td> 3.699</td>   <th>  Prob(JB):          </th>  <td>    0.00</td>  \n",
       "</tr>\n",
       "<tr>\n",
       "  <th>Kurtosis:</th>       <td>40.225</td>   <th>  Cond. No.          </th>  <td>1.06e+16</td>  \n",
       "</tr>\n",
       "</table><br/><br/>Notes:<br/>[1] Standard Errors assume that the covariance matrix of the errors is correctly specified.<br/>[2] The smallest eigenvalue is 3.48e-21. This might indicate that there are<br/>strong multicollinearity problems or that the design matrix is singular."
      ],
      "text/plain": [
       "<class 'statsmodels.iolib.summary.Summary'>\n",
       "\"\"\"\n",
       "                            OLS Regression Results                            \n",
       "==============================================================================\n",
       "Dep. Variable:                  PRICE   R-squared:                       0.430\n",
       "Model:                            OLS   Adj. R-squared:                  0.430\n",
       "Method:                 Least Squares   F-statistic:                     1062.\n",
       "Date:                Thu, 27 Jan 2022   Prob (F-statistic):               0.00\n",
       "Time:                        23:46:50   Log-Likelihood:            -1.2456e+05\n",
       "No. Observations:               30965   AIC:                         2.492e+05\n",
       "Df Residuals:                   30942   BIC:                         2.493e+05\n",
       "Df Model:                          22                                         \n",
       "Covariance Type:            nonrobust                                         \n",
       "=======================================================================================\n",
       "                          coef    std err          t      P>|t|      [0.025      0.975]\n",
       "---------------------------------------------------------------------------------------\n",
       "BATHRM                  3.5929      0.228     15.747      0.000       3.146       4.040\n",
       "ROOMS                  -1.1694      0.145     -8.085      0.000      -1.453      -0.886\n",
       "BEDRM                   1.3788      0.208      6.615      0.000       0.970       1.787\n",
       "AYB                     0.0363      0.004     10.209      0.000       0.029       0.043\n",
       "YR_RMDL                -0.0366      0.004     -8.584      0.000      -0.045      -0.028\n",
       "EYB                     0.0964      0.005     21.002      0.000       0.087       0.105\n",
       "SALE_NUM                1.7349      0.060     28.902      0.000       1.617       1.853\n",
       "USECODE                -5.1876      0.210    -24.656      0.000      -5.600      -4.775\n",
       "LANDAREA               -0.0098      0.000    -38.321      0.000      -0.010      -0.009\n",
       "LIVING_GBA              0.0243      0.000     62.453      0.000       0.024       0.025\n",
       "SalevYB                 0.0805      0.004     18.724      0.000       0.072       0.089\n",
       "SalevYI                 0.0204      0.004      5.589      0.000       0.013       0.027\n",
       "HEAT_Air-Oil         -1.22e-13   1.19e-14    -10.226      0.000   -1.45e-13   -9.86e-14\n",
       "HEAT_Elec Base Brd   9.743e-16   1.83e-16      5.321      0.000    6.15e-16    1.33e-15\n",
       "HEAT_Electric Rad     3.82e-14   3.44e-15     11.094      0.000    3.15e-14     4.5e-14\n",
       "HEAT_Evp Cool       -1.232e-14   1.21e-15    -10.162      0.000   -1.47e-14   -9.94e-15\n",
       "HEAT_Forced Air       -58.1227      5.453    -10.659      0.000     -68.810     -47.435\n",
       "HEAT_Gravity Furnac  6.607e-15   6.09e-16     10.853      0.000    5.41e-15     7.8e-15\n",
       "HEAT_Hot Water Rad    -58.0609      5.471    -10.612      0.000     -68.785     -47.337\n",
       "HEAT_Ht Pump          -55.8519      5.453    -10.243      0.000     -66.540     -45.164\n",
       "HEAT_Ind Unit       -8.111e-14   7.57e-15    -10.719      0.000   -9.59e-14   -6.63e-14\n",
       "HEAT_Wall Furnace   -1.815e-13    1.7e-14    -10.706      0.000   -2.15e-13   -1.48e-13\n",
       "HEAT_Warm Cool        -61.3257      5.455    -11.243      0.000     -72.017     -50.634\n",
       "AC_1                    3.3200      0.422      7.871      0.000       2.493       4.147\n",
       "QUALIFIED_U             1.2147      0.184      6.619      0.000       0.855       1.574\n",
       "WARD_Ward 3            -3.2238      0.244    -13.204      0.000      -3.702      -2.745\n",
       "WARD_Ward 4            -7.5001      0.416    -18.022      0.000      -8.316      -6.684\n",
       "WARD_Ward 5            -8.5441      0.351    -24.329      0.000      -9.232      -7.856\n",
       "WARD_Ward 6            -2.1910      0.227     -9.659      0.000      -2.636      -1.746\n",
       "WARD_Ward 7           -15.9817      0.466    -34.266      0.000     -16.896     -15.068\n",
       "WARD_Ward 8           -11.8004      0.447    -26.391      0.000     -12.677     -10.924\n",
       "==============================================================================\n",
       "Omnibus:                    26315.563   Durbin-Watson:                   1.992\n",
       "Prob(Omnibus):                  0.000   Jarque-Bera (JB):          1858481.311\n",
       "Skew:                           3.699   Prob(JB):                         0.00\n",
       "Kurtosis:                      40.225   Cond. No.                     1.06e+16\n",
       "==============================================================================\n",
       "\n",
       "Notes:\n",
       "[1] Standard Errors assume that the covariance matrix of the errors is correctly specified.\n",
       "[2] The smallest eigenvalue is 3.48e-21. This might indicate that there are\n",
       "strong multicollinearity problems or that the design matrix is singular.\n",
       "\"\"\""
      ]
     },
     "execution_count": 17,
     "metadata": {},
     "output_type": "execute_result"
    }
   ],
   "source": [
    "drop_res = ['WARD_Ward 2', 'FIREPLACES', 'HEAT_Water Base Brd', 'HF_BATHRM']\n",
    "#Drop insignificant variables and rerun the ols model\n",
    "X_train_ols = X_train.drop(drop_res, axis =1)\n",
    "X_test_ols = X_test.drop(drop_res, axis = 1)\n",
    "model = sm.OLS(y_train, X_train_ols.astype(float), hasconst=True).fit()\n",
    "# Print out the statistics\n",
    "#evaluate Accuracy\n",
    "evaluate(model, X_test_ols, y_test)\n",
    "model.summary()"
   ]
  },
  {
   "cell_type": "markdown",
   "metadata": {},
   "source": [
    "### DecisionTreeRegressor"
   ]
  },
  {
   "cell_type": "code",
   "execution_count": 18,
   "metadata": {},
   "outputs": [
    {
     "name": "stdout",
     "output_type": "stream",
     "text": [
      "Model Performance\n",
      "R2: 0.7638203124935957\n",
      "Mean_Absolute_Error: 4.57759431688683\n",
      "Mean_Squared_Error: 76.07091588527462\n",
      "RMSE: 8.721864243685213\n"
     ]
    }
   ],
   "source": [
    "from sklearn.tree import DecisionTreeRegressor\n",
    "#regressor = DecisionTreeRegressor(max_depth=15)\n",
    "param_dist = {'max_depth': [1,20]}\n",
    "#regressor.fit(X_train, y_train)\n",
    "#regressor.score(X_train, y_train)\n",
    "DTR = DecisionTreeRegressor()\n",
    "DTR_cv = GridSearchCV(DTR, param_dist)\n",
    "DTR_cv.fit(X_train, y_train)\n",
    "evaluate(DTR_cv.best_estimator_, X_test, y_test)"
   ]
  },
  {
   "cell_type": "markdown",
   "metadata": {},
   "source": [
    "### Hyperparamater Tunning"
   ]
  },
  {
   "cell_type": "markdown",
   "metadata": {},
   "source": [
    "### RandomForestRegressor"
   ]
  },
  {
   "cell_type": "code",
   "execution_count": 19,
   "metadata": {},
   "outputs": [
    {
     "name": "stdout",
     "output_type": "stream",
     "text": [
      "Model Performance\n",
      "R2: 0.8760406920171472\n",
      "Mean_Absolute_Error: 3.6608780737855726\n",
      "Mean_Squared_Error: 39.925948714386166\n",
      "RMSE: 6.318698340195247\n"
     ]
    }
   ],
   "source": [
    "from sklearn.ensemble import RandomForestRegressor\n",
    "from pprint import pprint\n",
    "\n",
    "# Create the parameter distribution\n",
    "param_dist = {'n_estimators': [int(x) for x in np.linspace(start = 100, stop = 500, num = 10)],\n",
    "               'max_features': ['auto', 'sqrt'],\n",
    "               'max_depth': [1, 20]}\n",
    "\n",
    "RFR = RandomForestRegressor()\n",
    "RFR_cv = RandomizedSearchCV(RFR, param_dist)\n",
    "RFR_cv.fit(X_train, y_train)\n",
    "evaluate(RFR_cv.best_estimator_, X_test, y_test)"
   ]
  },
  {
   "cell_type": "code",
   "execution_count": 20,
   "metadata": {},
   "outputs": [
    {
     "data": {
      "text/plain": [
       "RandomForestRegressor(max_depth=20, max_features='sqrt', n_estimators=277)"
      ]
     },
     "execution_count": 20,
     "metadata": {},
     "output_type": "execute_result"
    }
   ],
   "source": [
    "RFR_cv.best_estimator_"
   ]
  },
  {
   "cell_type": "code",
   "execution_count": 21,
   "metadata": {},
   "outputs": [
    {
     "data": {
      "text/plain": [
       "RandomForestRegressor()"
      ]
     },
     "execution_count": 21,
     "metadata": {},
     "output_type": "execute_result"
    }
   ],
   "source": [
    "rf = RandomForestRegressor(n_estimators=100)\n",
    "rf.fit(X_train, y_train)"
   ]
  },
  {
   "cell_type": "code",
   "execution_count": 35,
   "metadata": {},
   "outputs": [
    {
     "data": {
      "text/plain": [
       "(35,)"
      ]
     },
     "execution_count": 35,
     "metadata": {},
     "output_type": "execute_result"
    }
   ],
   "source": [
    "rf.feature_importances_"
   ]
  },
  {
   "cell_type": "code",
   "execution_count": 32,
   "metadata": {},
   "outputs": [
    {
     "data": {
      "text/plain": [
       "Index(['BATHRM', 'HF_BATHRM', 'ROOMS', 'BEDRM', 'AYB', 'YR_RMDL', 'EYB',\n",
       "       'PRICE', 'SALE_NUM', 'FIREPLACES', 'USECODE', 'LANDAREA', 'LIVING_GBA',\n",
       "       'SalevYB', 'SalevYI', 'HEAT_Air-Oil', 'HEAT_Elec Base Brd',\n",
       "       'HEAT_Electric Rad', 'HEAT_Evp Cool', 'HEAT_Forced Air',\n",
       "       'HEAT_Gravity Furnac', 'HEAT_Hot Water Rad', 'HEAT_Ht Pump',\n",
       "       'HEAT_Ind Unit', 'HEAT_Wall Furnace', 'HEAT_Warm Cool',\n",
       "       'HEAT_Water Base Brd', 'AC_1', 'QUALIFIED_U', 'WARD_Ward 2',\n",
       "       'WARD_Ward 3', 'WARD_Ward 4', 'WARD_Ward 5', 'WARD_Ward 6',\n",
       "       'WARD_Ward 7', 'WARD_Ward 8'],\n",
       "      dtype='object')"
      ]
     },
     "execution_count": 32,
     "metadata": {},
     "output_type": "execute_result"
    }
   ],
   "source": [
    "df.columns"
   ]
  },
  {
   "cell_type": "code",
   "execution_count": 42,
   "metadata": {},
   "outputs": [],
   "source": [
    "importances = rf.feature_importances_\n",
    "std = np.std([tree.feature_importances_ for tree in rf.estimators_], axis=0)\n"
   ]
  },
  {
   "cell_type": "code",
   "execution_count": 80,
   "metadata": {},
   "outputs": [
    {
     "data": {
      "text/plain": [
       "array([0.18627258, 0.00258045, 0.00627831, 0.00912355, 0.04747553,\n",
       "       0.10878719, 0.08507182, 0.04706298, 0.00310651])"
      ]
     },
     "execution_count": 80,
     "metadata": {},
     "output_type": "execute_result"
    }
   ],
   "source": [
    "importances[0:9]"
   ]
  },
  {
   "cell_type": "code",
   "execution_count": 83,
   "metadata": {},
   "outputs": [
    {
     "data": {
      "image/png": "[encoded data removed]",
      "text/plain": [
       "<Figure size 1296x576 with 1 Axes>"
      ]
     },
     "metadata": {
      "needs_background": "light"
     },
     "output_type": "display_data"
    }
   ],
   "source": [
    "forest_importances = pd.Series(importances, index=df.columns[0:35])\n",
    "sorted_idx = rf.feature_importances_.argsort()\n",
    "\n",
    "fig, ax = plt.subplots(figsize=(18,8))\n",
    "forest_importances.sort_values().plot.barh(yerr=std, ax=ax)\n",
    "ax.set_title(\"Feature importances using MDI\")\n",
    "ax.set_ylabel(\"Mean decrease in impurity\")\n",
    "fig.tight_layout()"
   ]
  },
  {
   "cell_type": "code",
   "execution_count": 61,
   "metadata": {},
   "outputs": [
    {
     "data": {
      "text/plain": [
       "(38707, 36)"
      ]
     },
     "execution_count": 61,
     "metadata": {},
     "output_type": "execute_result"
    }
   ],
   "source": [
    "df.shape"
   ]
  },
  {
   "cell_type": "markdown",
   "metadata": {},
   "source": [
    "### Adaptive Boosting Decision Tree"
   ]
  },
  {
   "cell_type": "code",
   "execution_count": null,
   "metadata": {},
   "outputs": [],
   "source": [
    "rng = np.random.RandomState(1)\n",
    "param_dist = {'n_estimators': [int(x) for x in np.linspace(start = 100, stop = 400, num = 10)]}\n",
    "\n",
    "\n",
    "ada = AdaBoostRegressor(DecisionTreeRegressor(random_state = rng), random_state = rng)\n",
    "ada_cv = RandomizedSearchCV(ada, param_dist)\n",
    "ada_cv.fit(X_train, y_train)\n",
    "\n",
    "evaluate(ada_cv.best_estimator_, X_test, y_test)"
   ]
  },
  {
   "cell_type": "code",
   "execution_count": null,
   "metadata": {},
   "outputs": [
    {
     "name": "stdout",
     "output_type": "stream",
     "text": [
      "AdaBoostRegressor(base_estimator=DecisionTreeRegressor(random_state=RandomState(MT19937) at 0x1BD0BAED040),\n",
      "                  n_estimators=100,\n",
      "                  random_state=RandomState(MT19937) at 0x1BD0BAED140)\n"
     ]
    }
   ],
   "source": [
    "#Obtaining the best estimators from the model\n",
    "print(ada_cv.best_estimator_)"
   ]
  },
  {
   "cell_type": "markdown",
   "metadata": {},
   "source": [
    "### XGBRegressor"
   ]
  },
  {
   "cell_type": "code",
   "execution_count": null,
   "metadata": {},
   "outputs": [],
   "source": [
    "from numpy import absolute\n",
    "from sklearn.model_selection import cross_val_score\n",
    "from sklearn.model_selection import RepeatedKFold\n",
    "from xgboost import XGBRegressor"
   ]
  },
  {
   "cell_type": "code",
   "execution_count": null,
   "metadata": {},
   "outputs": [],
   "source": [
    "xg_reg = xgb.XGBRegressor(objective ='reg:linear',max_depth = 5, min_child_weight = 1, colsample_bytree = 0.8)"
   ]
  },
  {
   "cell_type": "code",
   "execution_count": null,
   "metadata": {},
   "outputs": [],
   "source": [
    "model = XGBRegressor()"
   ]
  },
  {
   "cell_type": "code",
   "execution_count": null,
   "metadata": {},
   "outputs": [],
   "source": [
    "# define model evaluation method\n",
    "cv = RepeatedKFold(n_splits=10, n_repeats=3, random_state=1)\n",
    "# evaluate model\n",
    "scores = cross_val_score(model, X, y, scoring='neg_mean_absolute_error', cv=cv, n_jobs=-1)"
   ]
  },
  {
   "cell_type": "code",
   "execution_count": null,
   "metadata": {},
   "outputs": [],
   "source": [
    "scores = absolute(scores)\n",
    "print('Mean MAE: %.3f (%.3f)' % (scores.mean(), scores.std()) )"
   ]
  },
  {
   "cell_type": "code",
   "execution_count": null,
   "metadata": {},
   "outputs": [],
   "source": [
    "# fit a final xgboost model on the housing dataset and make a prediction\n",
    "from numpy import asarray\n",
    "from pandas import read_csv\n",
    "from xgboost import XGBRegressor\n",
    "# load the dataset\n",
    "# define model\n",
    "model = XGBRegressor()\n",
    "# fit model\n",
    "model.fit(X, y)\n",
    "# define new data\n",
    "row = [0.00632,18.00,2.310,0,0.5380,6.5750,65.20,4.0900,1,296.0,15.30,396.90,4.98]\n",
    "new_data = asarray([row])\n",
    "# make a prediction\n",
    "yhat = model.predict(new_data)\n",
    "# summarize prediction\n",
    "print('Predicted: %.3f' % yhat)"
   ]
  },
  {
   "cell_type": "markdown",
   "metadata": {},
   "source": [
    "### KNN"
   ]
  },
  {
   "cell_type": "code",
   "execution_count": null,
   "metadata": {},
   "outputs": [
    {
     "name": "stderr",
     "output_type": "stream",
     "text": [
      "C:\\Users\\cbc-user\\AppData\\Local\\Programs\\Python\\Python39\\lib\\site-packages\\sklearn\\model_selection\\_search.py:292: UserWarning: The total space of parameters 4 is smaller than n_iter=10. Running 4 iterations. For exhaustive searches, use GridSearchCV.\n",
      "  warnings.warn(\n"
     ]
    },
    {
     "name": "stdout",
     "output_type": "stream",
     "text": [
      "Model Performance\n",
      "R2: 0.4565369943114388\n",
      "Mean_Absolute_Error: 10.240782773909753\n",
      "Mean_Squared_Error: 220.6165234480196\n",
      "RMSE: 14.85316543528751\n"
     ]
    }
   ],
   "source": [
    "from sklearn.neighbors import KNeighborsRegressor\n",
    "\n",
    "\n",
    "param_dist = {\"n_neighbors\": [3, 7],\n",
    "              \"weights\": [\"uniform\", \"distance\"]}\n",
    "\n",
    "KNR = KNeighborsRegressor()\n",
    "\n",
    "KNR_cv = RandomizedSearchCV(KNR, param_dist, cv=5)\n",
    "\n",
    "KNR_cv.fit(X_train, y_train)\n",
    "#KNR.score(X_train, y_train)\n",
    "\n",
    "evaluate(KNR_cv.best_estimator_, X_test, y_test)"
   ]
  },
  {
   "cell_type": "code",
   "execution_count": null,
   "metadata": {},
   "outputs": [
    {
     "data": {
      "text/plain": [
       "KNeighborsRegressor(n_neighbors=7, weights='distance')"
      ]
     },
     "execution_count": 25,
     "metadata": {},
     "output_type": "execute_result"
    }
   ],
   "source": [
    "KNR_cv.best_estimator_"
   ]
  },
  {
   "cell_type": "markdown",
   "metadata": {},
   "source": [
    "### SVR"
   ]
  },
  {
   "cell_type": "code",
   "execution_count": null,
   "metadata": {},
   "outputs": [
    {
     "name": "stderr",
     "output_type": "stream",
     "text": [
      "C:\\Users\\cbc-user\\AppData\\Local\\Programs\\Python\\Python39\\lib\\site-packages\\sklearn\\model_selection\\_search.py:292: UserWarning: The total space of parameters 6 is smaller than n_iter=10. Running 6 iterations. For exhaustive searches, use GridSearchCV.\n",
      "  warnings.warn(\n"
     ]
    }
   ],
   "source": [
    "from sklearn.svm import SVR\n",
    "\n",
    "\n",
    "param_dist = {\"kernel\": [\"rbf\", \"linear\", \"poly\"],\n",
    "             \"C\": [1, 20]}\n",
    "\n",
    "svr = SVR()\n",
    "svr_cv = RandomizedSearchCV(svr, param_dist, cv=5)   \n",
    "svr_cv.fit(X_train, y_train)\n",
    "svr.fit(X_train, y_train)\n",
    "evaluate(svr_cv.best_estimator_, X_test, y_test)\n",
    "evaluate(svr, X_test, y_test)"
   ]
  },
  {
   "cell_type": "code",
   "execution_count": null,
   "metadata": {},
   "outputs": [],
   "source": [
    "from sklearn.svm import SVR\n",
    "svr = SVR(kernel='linear')\n",
    "svr.fit(X_train, y_train)\n",
    "accuracy = evaluate(svr, X_test, y_test)"
   ]
  },
  {
   "cell_type": "markdown",
   "metadata": {},
   "source": [
    "### Ridge"
   ]
  },
  {
   "cell_type": "code",
   "execution_count": null,
   "metadata": {},
   "outputs": [],
   "source": [
    "from scipy.stats import uniform\n",
    "from sklearn.linear_model import Ridge\n",
    "from sklearn.model_selection import KFold\n",
    "\n",
    "\n",
    "param_grid = {'alpha': uniform()}\n",
    "seed=6\n",
    "model = Ridge()\n",
    "kfold = KFold(n_splits=8, random_state=seed, shuffle=True)\n",
    "rsearch = RandomizedSearchCV(estimator=model, param_distributions=param_grid, n_iter=100, cv=kfold, random_state=seed)\n",
    "rsearch.fit(X, y)\n",
    "print(rsearch.best_score_)\n",
    "print(rsearch.best_estimator_.alpha)"
   ]
  },
  {
   "cell_type": "code",
   "execution_count": null,
   "metadata": {},
   "outputs": [],
   "source": [
    "evaluate(rsearch, X_test, y_test)"
   ]
  },
  {
   "cell_type": "code",
   "execution_count": null,
   "metadata": {},
   "outputs": [],
   "source": [
    "rsearch.best_estimator_"
   ]
  },
  {
   "cell_type": "code",
   "execution_count": null,
   "metadata": {},
   "outputs": [],
   "source": [
    "#Question 9 RIDGE REGRESSION\n",
    "import warnings\n",
    "warnings.filterwarnings(\"ignore\")\n",
    "from sklearn.metrics import mean_squared_error\n",
    "import random\n",
    "# Split data into training and test sets\n",
    "X_train, X_test , y_train, y_test = train_test_split(X, y, test_size=0.5, random_state=1)\n",
    "MSE=[]\n",
    "xvalues=[]\n",
    "for i in range (0,500):\n",
    "    b=random.randint(1, 100000)\n",
    "    xvalues.append(b*.0001)\n",
    "    ridge1 = Ridge(alpha =b*.0001, normalize = True)\n",
    "    ridge1.fit(X_train, y_train)             # Fit a ridge regression on the training data\n",
    "    pred2 = ridge1.predict(X_test)           # Use this model to predict the test data\n",
    "    #print(pd.Series(ridge2.coef_, index = X.columns)) # Print coefficients\n",
    "    # Calculate the test MSE\n",
    "    #print(b*.0001,mean_squared_error(y_test, pred2),'yes')\n",
    "    MSE.append(mean_squared_error(y_test, pred2))\n",
    "# with increase in shrinkage paramter , model is having a high MSE , this implies that ridge regression is not a suitable method\n",
    "\n",
    "plt.scatter(xvalues,MSE)\n",
    "plt.xlabel('Alpha for ridge regression')\n",
    "plt.ylabel('MSE for ridge regression')\n",
    "plt.title('MSE Vs Alpha RIDGE REGRESSION')"
   ]
  },
  {
   "cell_type": "code",
   "execution_count": null,
   "metadata": {},
   "outputs": [],
   "source": [
    "from sklearn.linear_model import Lasso\n",
    "\n",
    "# Split data into training and test sets\n",
    "X_train, X_test , y_train, y_test = train_test_split(X, y, test_size=0.5, random_state=1)\n",
    "MSE=[]\n",
    "xvalues=[]\n",
    "import warnings\n",
    "warnings.filterwarnings(\"ignore\")\n",
    "for i in range (0,100):\n",
    "    b=random.randint(1,100000)\n",
    "    xvalues.append(b*.0001)\n",
    "    lasso1 = Lasso(alpha =b*.0001)\n",
    "    lasso1.fit(X_train, y_train)             # Fit a ridge regression on the training data\n",
    "    pred2 = lasso1.predict(X_test)           # Use this model to predict the test data\n",
    "    #print(pd.Series(ridge2.coef_, index = X.columns)) # Print coefficients\n",
    "    # Calculate the test MSE\n",
    "    #print(b*.0001,mean_squared_error(y_test, pred2),'yes')\n",
    "    MSE.append(mean_squared_error(y_test, pred2))\n",
    "# with increase in shrinkage paramter , model is having a high MSE , this implies that LASSO regression is not a suitable method\n",
    "\n",
    "plt.scatter(xvalues,MSE)\n",
    "plt.xlabel('Alpha for LASSO regression')\n",
    "plt.ylabel('MSE for LASSO regression')\n",
    "plt.title('MSE Vs Alpha LASSO  REGRESSION')"
   ]
  },
  {
   "cell_type": "markdown",
   "metadata": {},
   "source": [
    "### Other"
   ]
  },
  {
   "cell_type": "code",
   "execution_count": null,
   "metadata": {},
   "outputs": [],
   "source": [
    "def diagnostic_plots(df,variabel): # fungsi def untuk memplot istribusi kolom di dataset airbnb\n",
    "    #ukuran\n",
    "    plt.figure(figsize=(32,10)) #ukuran kesamping dan kebawah\n",
    "    #histogram\n",
    "    plt.subplot(1,2,1) #row, kolom, index\n",
    "    sns.distplot(df[variabel],bins=30) #distplot untuk memplot distribusi univariate dengan interval dibagi 30\n",
    "    plt.title(\"Histogram\") #titel/judul\n",
    "    # Boxplot\n",
    "    plt.subplot(1,2,2)#row,kolom,index\n",
    "    sns.boxplot(y=df[variabel]) #menggunakan plot boxplot \n",
    "    plt.title(\"Boxplot\") #titel/judul\n",
    "    \n",
    "    plt.show() #mengeluarkan"
   ]
  },
  {
   "cell_type": "code",
   "execution_count": null,
   "metadata": {},
   "outputs": [
    {
     "name": "stderr",
     "output_type": "stream",
     "text": [
      "C:\\Users\\cbc-user\\AppData\\Local\\Programs\\Python\\Python39\\lib\\site-packages\\seaborn\\distributions.py:2619: FutureWarning: `distplot` is a deprecated function and will be removed in a future version. Please adapt your code to use either `displot` (a figure-level function with similar flexibility) or `histplot` (an axes-level function for histograms).\n",
      "  warnings.warn(msg, FutureWarning)\n"
     ]
    },
    {
     "data": {
      "image/png": "[encoded data removed]",
      "text/plain": [
       "<Figure size 2304x720 with 2 Axes>"
      ]
     },
     "metadata": {
      "needs_background": "light"
     },
     "output_type": "display_data"
    }
   ],
   "source": [
    "diagnostic_plots(df,'PRICE')"
   ]
  }
 ],
 "metadata": {
  "interpreter": {
   "hash": "c717e48f47dbf3882205ebaefec1a2b4f1b354b496a24c57e7aae83aa2cbf878"
  },
  "kernelspec": {
   "display_name": "Python 3.9.6 64-bit",
   "language": "python",
   "name": "python3"
  },
  "language_info": {
   "codemirror_mode": {
    "name": "ipython",
    "version": 3
   },
   "file_extension": ".py",
   "mimetype": "text/x-python",
   "name": "python",
   "nbconvert_exporter": "python",
   "pygments_lexer": "ipython3",
   "version": "3.9.6"
  },
  "orig_nbformat": 4
 },
 "nbformat": 4,
 "nbformat_minor": 2
}
