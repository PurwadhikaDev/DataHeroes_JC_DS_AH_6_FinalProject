{
  "cells": [
    {
      "cell_type": "markdown",
      "metadata": {
        "id": "_5y5xc-jHfpI"
      },
      "source": [
        "# Import Libraries"
      ]
    },
    {
      "cell_type": "code",
      "execution_count": null,
      "metadata": {
        "id": "fDauZYfUHUwz"
      },
      "outputs": [],
      "source": [
        "import pandas as pd, numpy as np\n",
        "import matplotlib.pyplot as plt\n",
        "import seaborn as sns"
      ]
    },
    {
      "cell_type": "markdown",
      "metadata": {
        "id": "xyjGoQQHIfQR"
      },
      "source": [
        "# Load Dataset"
      ]
    },
    {
      "cell_type": "code",
      "execution_count": null,
      "metadata": {
        "id": "zSxzmdMQIeGe"
      },
      "outputs": [],
      "source": [
        "# Loading the dataset\n",
        "dataset = pd.read_csv('Data/DC_Prop_Residential1.csv', index_col= 'Unnamed: 0')\n",
        "dataset = dataset.reset_index()"
      ]
    },
    {
      "cell_type": "code",
      "execution_count": null,
      "metadata": {
        "colab": {
          "base_uri": "https://localhost:8080/",
          "height": 357
        },
        "id": "Js2G5bSnnRO4",
        "outputId": "99f2f243-c345-49e3-83b7-586444b69b7b"
      },
      "outputs": [
        {
          "data": {
            "text/html": [
              "<div>\n",
              "<style scoped>\n",
              "    .dataframe tbody tr th:only-of-type {\n",
              "        vertical-align: middle;\n",
              "    }\n",
              "\n",
              "    .dataframe tbody tr th {\n",
              "        vertical-align: top;\n",
              "    }\n",
              "\n",
              "    .dataframe thead th {\n",
              "        text-align: right;\n",
              "    }\n",
              "</style>\n",
              "<table border=\"1\" class=\"dataframe\">\n",
              "  <thead>\n",
              "    <tr style=\"text-align: right;\">\n",
              "      <th></th>\n",
              "      <th>index</th>\n",
              "      <th>BATHRM</th>\n",
              "      <th>HF_BATHRM</th>\n",
              "      <th>HEAT</th>\n",
              "      <th>AC</th>\n",
              "      <th>NUM_UNITS</th>\n",
              "      <th>ROOMS</th>\n",
              "      <th>BEDRM</th>\n",
              "      <th>AYB</th>\n",
              "      <th>YR_RMDL</th>\n",
              "      <th>...</th>\n",
              "      <th>EXTWALL</th>\n",
              "      <th>ROOF</th>\n",
              "      <th>INTWALL</th>\n",
              "      <th>KITCHENS</th>\n",
              "      <th>FIREPLACES</th>\n",
              "      <th>USECODE</th>\n",
              "      <th>LANDAREA</th>\n",
              "      <th>WARD</th>\n",
              "      <th>SalevYB</th>\n",
              "      <th>SalevYI</th>\n",
              "    </tr>\n",
              "  </thead>\n",
              "  <tbody>\n",
              "    <tr>\n",
              "      <th>0</th>\n",
              "      <td>0</td>\n",
              "      <td>4</td>\n",
              "      <td>0</td>\n",
              "      <td>0</td>\n",
              "      <td>1</td>\n",
              "      <td>2.0</td>\n",
              "      <td>8</td>\n",
              "      <td>4</td>\n",
              "      <td>1910.0</td>\n",
              "      <td>1988.0</td>\n",
              "      <td>...</td>\n",
              "      <td>0</td>\n",
              "      <td>0</td>\n",
              "      <td>0</td>\n",
              "      <td>2.0</td>\n",
              "      <td>5</td>\n",
              "      <td>24</td>\n",
              "      <td>1680</td>\n",
              "      <td>1</td>\n",
              "      <td>93.0</td>\n",
              "      <td>31</td>\n",
              "    </tr>\n",
              "    <tr>\n",
              "      <th>1</th>\n",
              "      <td>1</td>\n",
              "      <td>3</td>\n",
              "      <td>1</td>\n",
              "      <td>1</td>\n",
              "      <td>1</td>\n",
              "      <td>2.0</td>\n",
              "      <td>9</td>\n",
              "      <td>5</td>\n",
              "      <td>1910.0</td>\n",
              "      <td>2009.0</td>\n",
              "      <td>...</td>\n",
              "      <td>0</td>\n",
              "      <td>1</td>\n",
              "      <td>0</td>\n",
              "      <td>2.0</td>\n",
              "      <td>4</td>\n",
              "      <td>24</td>\n",
              "      <td>1680</td>\n",
              "      <td>1</td>\n",
              "      <td>106.0</td>\n",
              "      <td>32</td>\n",
              "    </tr>\n",
              "    <tr>\n",
              "      <th>2</th>\n",
              "      <td>2</td>\n",
              "      <td>3</td>\n",
              "      <td>1</td>\n",
              "      <td>1</td>\n",
              "      <td>1</td>\n",
              "      <td>2.0</td>\n",
              "      <td>8</td>\n",
              "      <td>5</td>\n",
              "      <td>1900.0</td>\n",
              "      <td>2003.0</td>\n",
              "      <td>...</td>\n",
              "      <td>0</td>\n",
              "      <td>1</td>\n",
              "      <td>0</td>\n",
              "      <td>2.0</td>\n",
              "      <td>3</td>\n",
              "      <td>24</td>\n",
              "      <td>1680</td>\n",
              "      <td>1</td>\n",
              "      <td>106.0</td>\n",
              "      <td>22</td>\n",
              "    </tr>\n",
              "    <tr>\n",
              "      <th>3</th>\n",
              "      <td>3</td>\n",
              "      <td>3</td>\n",
              "      <td>2</td>\n",
              "      <td>1</td>\n",
              "      <td>1</td>\n",
              "      <td>1.0</td>\n",
              "      <td>10</td>\n",
              "      <td>5</td>\n",
              "      <td>1913.0</td>\n",
              "      <td>1972.0</td>\n",
              "      <td>...</td>\n",
              "      <td>0</td>\n",
              "      <td>1</td>\n",
              "      <td>0</td>\n",
              "      <td>1.0</td>\n",
              "      <td>4</td>\n",
              "      <td>11</td>\n",
              "      <td>2196</td>\n",
              "      <td>1</td>\n",
              "      <td>97.0</td>\n",
              "      <td>38</td>\n",
              "    </tr>\n",
              "    <tr>\n",
              "      <th>4</th>\n",
              "      <td>4</td>\n",
              "      <td>3</td>\n",
              "      <td>1</td>\n",
              "      <td>1</td>\n",
              "      <td>1</td>\n",
              "      <td>2.0</td>\n",
              "      <td>8</td>\n",
              "      <td>4</td>\n",
              "      <td>1906.0</td>\n",
              "      <td>2011.0</td>\n",
              "      <td>...</td>\n",
              "      <td>0</td>\n",
              "      <td>0</td>\n",
              "      <td>0</td>\n",
              "      <td>2.0</td>\n",
              "      <td>1</td>\n",
              "      <td>24</td>\n",
              "      <td>1627</td>\n",
              "      <td>1</td>\n",
              "      <td>105.0</td>\n",
              "      <td>39</td>\n",
              "    </tr>\n",
              "  </tbody>\n",
              "</table>\n",
              "<p>5 rows × 31 columns</p>\n",
              "</div>"
            ],
            "text/plain": [
              "   index  BATHRM  HF_BATHRM  HEAT  AC  NUM_UNITS  ROOMS  BEDRM     AYB  \\\n",
              "0      0       4          0     0   1        2.0      8      4  1910.0   \n",
              "1      1       3          1     1   1        2.0      9      5  1910.0   \n",
              "2      2       3          1     1   1        2.0      8      5  1900.0   \n",
              "3      3       3          2     1   1        1.0     10      5  1913.0   \n",
              "4      4       3          1     1   1        2.0      8      4  1906.0   \n",
              "\n",
              "   YR_RMDL  ...  EXTWALL  ROOF  INTWALL  KITCHENS  FIREPLACES  USECODE  \\\n",
              "0   1988.0  ...        0     0        0       2.0           5       24   \n",
              "1   2009.0  ...        0     1        0       2.0           4       24   \n",
              "2   2003.0  ...        0     1        0       2.0           3       24   \n",
              "3   1972.0  ...        0     1        0       1.0           4       11   \n",
              "4   2011.0  ...        0     0        0       2.0           1       24   \n",
              "\n",
              "   LANDAREA  WARD  SalevYB  SalevYI  \n",
              "0      1680     1     93.0       31  \n",
              "1      1680     1    106.0       32  \n",
              "2      1680     1    106.0       22  \n",
              "3      2196     1     97.0       38  \n",
              "4      1627     1    105.0       39  \n",
              "\n",
              "[5 rows x 31 columns]"
            ]
          },
          "execution_count": 4,
          "metadata": {},
          "output_type": "execute_result"
        }
      ],
      "source": [
        "dataset.head()"
      ]
    },
    {
      "cell_type": "code",
      "execution_count": null,
      "metadata": {
        "id": "yelh3o6eI5bI"
      },
      "outputs": [],
      "source": [
        "data = 'BATHRM', 'HF_BATHRM', 'HEAT', 'AC', 'NUM_UNITS', 'ROOMS', 'BEDRM', 'AYB', 'YR_RMDL', 'EYB', 'STORIES', 'PRICE', 'QUALIFIED', 'SALE_NUM', 'GBA', 'BLDG_NUM', 'STYLE', 'STRUCT', 'GRADE', 'CNDTN', 'EXTWALL', 'ROOF', 'INTWALL', 'KITCHENS', 'FIREPLACES', 'USECODE', 'LANDAREA', 'WARD', 'SalevYB', 'SalevYI'\n",
        "X = dataset.loc[:1000, data].values"
      ]
    },
    {
      "cell_type": "code",
      "execution_count": null,
      "metadata": {
        "colab": {
          "base_uri": "https://localhost:8080/"
        },
        "id": "WhByaU5QI0Fw",
        "outputId": "5f8589f0-c597-4abb-ecf8-7e48af105db8"
      },
      "outputs": [
        {
          "data": {
            "text/plain": [
              "(57798, 31)"
            ]
          },
          "execution_count": 7,
          "metadata": {},
          "output_type": "execute_result"
        }
      ],
      "source": [
        "dataset.shape"
      ]
    },
    {
      "cell_type": "code",
      "execution_count": null,
      "metadata": {
        "colab": {
          "base_uri": "https://localhost:8080/",
          "height": 357
        },
        "outputId": "99f2f243-c345-49e3-83b7-586444b69b7b",
        "id": "tMgdOkcKi7KI"
      },
      "outputs": [
        {
          "data": {
            "text/html": [
              "<div>\n",
              "<style scoped>\n",
              "    .dataframe tbody tr th:only-of-type {\n",
              "        vertical-align: middle;\n",
              "    }\n",
              "\n",
              "    .dataframe tbody tr th {\n",
              "        vertical-align: top;\n",
              "    }\n",
              "\n",
              "    .dataframe thead th {\n",
              "        text-align: right;\n",
              "    }\n",
              "</style>\n",
              "<table border=\"1\" class=\"dataframe\">\n",
              "  <thead>\n",
              "    <tr style=\"text-align: right;\">\n",
              "      <th></th>\n",
              "      <th>index</th>\n",
              "      <th>BATHRM</th>\n",
              "      <th>HF_BATHRM</th>\n",
              "      <th>HEAT</th>\n",
              "      <th>AC</th>\n",
              "      <th>NUM_UNITS</th>\n",
              "      <th>ROOMS</th>\n",
              "      <th>BEDRM</th>\n",
              "      <th>AYB</th>\n",
              "      <th>YR_RMDL</th>\n",
              "      <th>...</th>\n",
              "      <th>EXTWALL</th>\n",
              "      <th>ROOF</th>\n",
              "      <th>INTWALL</th>\n",
              "      <th>KITCHENS</th>\n",
              "      <th>FIREPLACES</th>\n",
              "      <th>USECODE</th>\n",
              "      <th>LANDAREA</th>\n",
              "      <th>WARD</th>\n",
              "      <th>SalevYB</th>\n",
              "      <th>SalevYI</th>\n",
              "    </tr>\n",
              "  </thead>\n",
              "  <tbody>\n",
              "    <tr>\n",
              "      <th>0</th>\n",
              "      <td>0</td>\n",
              "      <td>4</td>\n",
              "      <td>0</td>\n",
              "      <td>0</td>\n",
              "      <td>1</td>\n",
              "      <td>2.0</td>\n",
              "      <td>8</td>\n",
              "      <td>4</td>\n",
              "      <td>1910.0</td>\n",
              "      <td>1988.0</td>\n",
              "      <td>...</td>\n",
              "      <td>0</td>\n",
              "      <td>0</td>\n",
              "      <td>0</td>\n",
              "      <td>2.0</td>\n",
              "      <td>5</td>\n",
              "      <td>24</td>\n",
              "      <td>1680</td>\n",
              "      <td>1</td>\n",
              "      <td>93.0</td>\n",
              "      <td>31</td>\n",
              "    </tr>\n",
              "    <tr>\n",
              "      <th>1</th>\n",
              "      <td>1</td>\n",
              "      <td>3</td>\n",
              "      <td>1</td>\n",
              "      <td>1</td>\n",
              "      <td>1</td>\n",
              "      <td>2.0</td>\n",
              "      <td>9</td>\n",
              "      <td>5</td>\n",
              "      <td>1910.0</td>\n",
              "      <td>2009.0</td>\n",
              "      <td>...</td>\n",
              "      <td>0</td>\n",
              "      <td>1</td>\n",
              "      <td>0</td>\n",
              "      <td>2.0</td>\n",
              "      <td>4</td>\n",
              "      <td>24</td>\n",
              "      <td>1680</td>\n",
              "      <td>1</td>\n",
              "      <td>106.0</td>\n",
              "      <td>32</td>\n",
              "    </tr>\n",
              "    <tr>\n",
              "      <th>2</th>\n",
              "      <td>2</td>\n",
              "      <td>3</td>\n",
              "      <td>1</td>\n",
              "      <td>1</td>\n",
              "      <td>1</td>\n",
              "      <td>2.0</td>\n",
              "      <td>8</td>\n",
              "      <td>5</td>\n",
              "      <td>1900.0</td>\n",
              "      <td>2003.0</td>\n",
              "      <td>...</td>\n",
              "      <td>0</td>\n",
              "      <td>1</td>\n",
              "      <td>0</td>\n",
              "      <td>2.0</td>\n",
              "      <td>3</td>\n",
              "      <td>24</td>\n",
              "      <td>1680</td>\n",
              "      <td>1</td>\n",
              "      <td>106.0</td>\n",
              "      <td>22</td>\n",
              "    </tr>\n",
              "    <tr>\n",
              "      <th>3</th>\n",
              "      <td>3</td>\n",
              "      <td>3</td>\n",
              "      <td>2</td>\n",
              "      <td>1</td>\n",
              "      <td>1</td>\n",
              "      <td>1.0</td>\n",
              "      <td>10</td>\n",
              "      <td>5</td>\n",
              "      <td>1913.0</td>\n",
              "      <td>1972.0</td>\n",
              "      <td>...</td>\n",
              "      <td>0</td>\n",
              "      <td>1</td>\n",
              "      <td>0</td>\n",
              "      <td>1.0</td>\n",
              "      <td>4</td>\n",
              "      <td>11</td>\n",
              "      <td>2196</td>\n",
              "      <td>1</td>\n",
              "      <td>97.0</td>\n",
              "      <td>38</td>\n",
              "    </tr>\n",
              "    <tr>\n",
              "      <th>4</th>\n",
              "      <td>4</td>\n",
              "      <td>3</td>\n",
              "      <td>1</td>\n",
              "      <td>1</td>\n",
              "      <td>1</td>\n",
              "      <td>2.0</td>\n",
              "      <td>8</td>\n",
              "      <td>4</td>\n",
              "      <td>1906.0</td>\n",
              "      <td>2011.0</td>\n",
              "      <td>...</td>\n",
              "      <td>0</td>\n",
              "      <td>0</td>\n",
              "      <td>0</td>\n",
              "      <td>2.0</td>\n",
              "      <td>1</td>\n",
              "      <td>24</td>\n",
              "      <td>1627</td>\n",
              "      <td>1</td>\n",
              "      <td>105.0</td>\n",
              "      <td>39</td>\n",
              "    </tr>\n",
              "  </tbody>\n",
              "</table>\n",
              "<p>5 rows × 31 columns</p>\n",
              "</div>"
            ],
            "text/plain": [
              "   index  BATHRM  HF_BATHRM  HEAT  AC  NUM_UNITS  ROOMS  BEDRM     AYB  \\\n",
              "0      0       4          0     0   1        2.0      8      4  1910.0   \n",
              "1      1       3          1     1   1        2.0      9      5  1910.0   \n",
              "2      2       3          1     1   1        2.0      8      5  1900.0   \n",
              "3      3       3          2     1   1        1.0     10      5  1913.0   \n",
              "4      4       3          1     1   1        2.0      8      4  1906.0   \n",
              "\n",
              "   YR_RMDL  ...  EXTWALL  ROOF  INTWALL  KITCHENS  FIREPLACES  USECODE  \\\n",
              "0   1988.0  ...        0     0        0       2.0           5       24   \n",
              "1   2009.0  ...        0     1        0       2.0           4       24   \n",
              "2   2003.0  ...        0     1        0       2.0           3       24   \n",
              "3   1972.0  ...        0     1        0       1.0           4       11   \n",
              "4   2011.0  ...        0     0        0       2.0           1       24   \n",
              "\n",
              "   LANDAREA  WARD  SalevYB  SalevYI  \n",
              "0      1680     1     93.0       31  \n",
              "1      1680     1    106.0       32  \n",
              "2      1680     1    106.0       22  \n",
              "3      2196     1     97.0       38  \n",
              "4      1627     1    105.0       39  \n",
              "\n",
              "[5 rows x 31 columns]"
            ]
          },
          "execution_count": 8,
          "metadata": {},
          "output_type": "execute_result"
        }
      ],
      "source": [
        "dataset.head()"
      ]
    },
    {
      "cell_type": "code",
      "execution_count": null,
      "metadata": {
        "colab": {
          "base_uri": "https://localhost:8080/"
        },
        "id": "xbZC1SEloyBb",
        "outputId": "4befe389-7c5c-4c15-e2ae-da708941ee75"
      },
      "outputs": [
        {
          "data": {
            "text/plain": [
              "(1001, 30)"
            ]
          },
          "execution_count": 9,
          "metadata": {},
          "output_type": "execute_result"
        }
      ],
      "source": [
        "X.shape"
      ]
    },
    {
      "cell_type": "markdown",
      "metadata": {
        "id": "ZpEerfIdi7KR"
      },
      "source": [
        "# Kmeans"
      ]
    },
    {
      "cell_type": "code",
      "execution_count": null,
      "metadata": {
        "id": "-vRj_glWi7KU",
        "outputId": "752f7f67-0210-45ac-a443-445d100ad746"
      },
      "outputs": [
        {
          "name": "stdout",
          "output_type": "stream",
          "text": [
            "Silhouette Score: 0.5596\n",
            "Calinski Harabasz Score: 1937.8953\n",
            "Davies Bouldin Score: 0.5476\n",
            "Inrtia = 55374458938728.4531\n"
          ]
        }
      ],
      "source": [
        "from sklearn.cluster import KMeans\n",
        "from sklearn.metrics import silhouette_score \n",
        "from sklearn.metrics import calinski_harabasz_score\n",
        "from sklearn.metrics import davies_bouldin_score\n",
        "kmeans = KMeans(n_clusters=3)\n",
        "kmeans.fit(X)\n",
        "predictions = kmeans.fit_predict(X)\n",
        "# Ekstrak informasi\n",
        "\n",
        "\n",
        "score_kemans_s = silhouette_score(X, kmeans.labels_, metric='euclidean')\n",
        "score_kemans_c = calinski_harabasz_score(X, kmeans.labels_)\n",
        "score_kemans_d = davies_bouldin_score(X, predictions)\n",
        "score_kemans_i = kmeans.inertia_\n",
        "print('Silhouette Score: %.4f' % score_kemans_s)\n",
        "print('Calinski Harabasz Score: %.4f' % score_kemans_c)\n",
        "print('Davies Bouldin Score: %.4f' % score_kemans_d)\n",
        "print(f'Inrtia = {score_kemans_i:.4f}')"
      ]
    },
    {
      "cell_type": "code",
      "execution_count": null,
      "metadata": {
        "id": "Gj6YPK_mi7KX",
        "outputId": "1003eb01-21c4-480a-c56f-a1ec30448bfa"
      },
      "outputs": [
        {
          "data": {
            "image/png": "[encoded data removed]",
            "text/plain": [
              "<Figure size 864x576 with 1 Axes>"
            ]
          },
          "metadata": {
            "needs_background": "light"
          },
          "output_type": "display_data"
        }
      ],
      "source": [
        "c_sklearn = kmeans.labels_\n",
        "new_z_sklearn = kmeans.cluster_centers_\n",
        "\n",
        "plt.figure(figsize=(12,8))\n",
        "for i in range(len(c_sklearn)):\n",
        "    if c_sklearn[i] == 0:\n",
        "        plt.scatter(X[i,8], X[i,11], c='r', marker='+')\n",
        "    elif c_sklearn[i] == 1:\n",
        "        plt.scatter(X[i,8], X[i,11], c='g', marker='+')\n",
        "    else:\n",
        "        plt.scatter(X[i,8], X[i,11], c='b', marker='+')\n",
        "\n",
        "plt.scatter(new_z_sklearn[0,8], new_z_sklearn[0,11], c='r', edgecolor='k', s=100, label='centroid 1')\n",
        "plt.scatter(new_z_sklearn[1,8], new_z_sklearn[1,11], c='g', edgecolor='k', s=100, label='centroid 2')\n",
        "plt.scatter(new_z_sklearn[2,8], new_z_sklearn[2,11], c='b', edgecolor='k', s=100, label='centroid 3')\n",
        "\n",
        "\n",
        "plt.legend()\n",
        "plt.show()\n"
      ]
    },
    {
      "cell_type": "markdown",
      "metadata": {
        "id": "m2sfDloCoW_c"
      },
      "source": [
        "# Agglomerative"
      ]
    },
    {
      "cell_type": "code",
      "execution_count": null,
      "metadata": {
        "id": "7tbO_Xhji7Ka",
        "outputId": "641bd915-ca8c-43fc-9c08-3b4e4bed8d6f"
      },
      "outputs": [
        {
          "data": {
            "image/png": "[encoded data removed]",
            "text/plain": [
              "<Figure size 2880x2880 with 1 Axes>"
            ]
          },
          "metadata": {
            "needs_background": "light"
          },
          "output_type": "display_data"
        }
      ],
      "source": [
        "# Dendrogram for Hierarchical Clustering\n",
        "import scipy.cluster.hierarchy as shc\n",
        "from matplotlib import pyplot\n",
        "pyplot.figure(figsize=(40,40))  \n",
        "pyplot.title(\"Dendrograms\")  \n",
        "dend = shc.dendrogram(shc.linkage(X, method='ward'))"
      ]
    },
    {
      "cell_type": "code",
      "execution_count": null,
      "metadata": {
        "id": "fWXBtb7oi7Kc",
        "outputId": "4bc7471c-9523-46b9-d305-222b4dbd439e"
      },
      "outputs": [
        {
          "name": "stdout",
          "output_type": "stream",
          "text": [
            "Silhouette Score: 0.5504\n",
            "Calinski Harabasz Score: 2160.3531\n",
            "Davies Bouldin Score: 0.5468\n"
          ]
        }
      ],
      "source": [
        "# Agglomerative clustering\n",
        "from numpy import unique\n",
        "from numpy import where\n",
        "from sklearn.cluster import AgglomerativeClustering\n",
        "from matplotlib import pyplot\n",
        "# define the model\n",
        "model = AgglomerativeClustering(n_clusters=4)\n",
        "# fit model and predict clusters\n",
        "yhat = model.fit(X)\n",
        "yhat_2 = model.fit_predict(X)\n",
        "# retrieve unique clusters\n",
        "clusters = unique(yhat)\n",
        "# Calculate cluster validation metrics\n",
        "score_AGclustering_s = silhouette_score(X, yhat.labels_, metric='euclidean')\n",
        "score_AGclustering_c = calinski_harabasz_score(X, yhat.labels_)\n",
        "score_AGclustering_d = davies_bouldin_score(X, yhat_2)\n",
        "print('Silhouette Score: %.4f' % score_AGclustering_s)\n",
        "print('Calinski Harabasz Score: %.4f' % score_AGclustering_c)\n",
        "print('Davies Bouldin Score: %.4f' % score_AGclustering_d)"
      ]
    },
    {
      "cell_type": "markdown",
      "metadata": {
        "id": "nRFQxhpgi7Kq"
      },
      "source": [
        "# Gaussian Mixture Modelling (GMM)"
      ]
    },
    {
      "cell_type": "code",
      "execution_count": null,
      "metadata": {
        "id": "6y1itnV0i7Kr",
        "outputId": "acbdab54-225c-4a14-f249-ff41c88b559e"
      },
      "outputs": [
        {
          "name": "stdout",
          "output_type": "stream",
          "text": [
            "Silhouette Score: 0.3569\n",
            "Calinski Harabasz Score: 6373.8344\n",
            "Davies Bouldin Score: 0.6225\n"
          ]
        }
      ],
      "source": [
        "# gaussian mixture clustering\n",
        "from numpy import unique\n",
        "from numpy import where\n",
        "from sklearn.mixture import GaussianMixture\n",
        "from matplotlib import pyplot\n",
        "# define the model\n",
        "model = GaussianMixture(n_components= 26,covariance_type= \"full\", random_state = 10)\n",
        "# fit the model\n",
        "model.fit(X)\n",
        "# assign a cluster to each example\n",
        "yhat = model.predict(X)\n",
        "# retrieve unique clusters\n",
        "clusters = unique(yhat)\n",
        "# Calculate cluster validation score\n",
        "score_dbsacn_s = silhouette_score(X, yhat, metric='euclidean')\n",
        "score_dbsacn_c = calinski_harabasz_score(X, yhat)\n",
        "score_dbsacn_d = davies_bouldin_score(X, yhat)\n",
        "print('Silhouette Score: %.4f' % score_dbsacn_s)\n",
        "print('Calinski Harabasz Score: %.4f' % score_dbsacn_c)\n",
        "print('Davies Bouldin Score: %.4f' % score_dbsacn_d)"
      ]
    },
    {
      "cell_type": "markdown",
      "source": [
        "# RESULT\n",
        "\n",
        "Dari SC metode terbaik yang digunakan adalah Kmeans. Dari Kmeans kita bisa menginterpreasi hasil:\n",
        "\n",
        "    - CLUSTER 1 = LOW RISK PROPERTY\n",
        "    - CLUSTER 2 = MEDIUM RISK PROPERTY\n",
        "    - CLUSTER 3 = MEDIUM RISK PROPERTY\n",
        "\n",
        "\n",
        "Model Kmeans akan digunakan utk mengukur resiko property yang akan kita beli"
      ],
      "metadata": {
        "id": "Y0yoxPN5jPOc"
      }
    }
  ],
  "metadata": {
    "accelerator": "GPU",
    "colab": {
      "name": "3.2.r FP Unsupervised ML- DC.ipynb",
      "provenance": [],
      "collapsed_sections": []
    },
    "kernelspec": {
      "display_name": "Python 3",
      "name": "python3"
    },
    "language_info": {
      "codemirror_mode": {
        "name": "ipython",
        "version": 3
      },
      "file_extension": ".py",
      "mimetype": "text/x-python",
      "name": "python",
      "nbconvert_exporter": "python",
      "pygments_lexer": "ipython3",
      "version": "3.9.6"
    }
  },
  "nbformat": 4,
  "nbformat_minor": 0
}