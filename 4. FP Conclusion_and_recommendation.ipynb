{
 "cells": [
  {
   "cell_type": "markdown",
   "metadata": {},
   "source": [
    "# OUTPUT REGRESI:\n",
    "Berapa harga pasar dari rumah yang ditawarkan penjual kepada kita jika diketahui customer dengan `annual income = 50 k$` dan `Spending score = 37` ?\n",
    "\n",
    "# OUTPUT CLUSTERING:\n",
    "Masuk ke cluster mana customer dengan `annual income = 50 k$` dan `Spending score = 37`\n",
    "\n",
    "# OUTPUT TIME SERIES:\n",
    "Berapa harga rumah di 1 tahun kedepan ?"
   ]
  }
 ],
 "metadata": {
  "interpreter": {
   "hash": "c717e48f47dbf3882205ebaefec1a2b4f1b354b496a24c57e7aae83aa2cbf878"
  },
  "kernelspec": {
   "display_name": "Python 3.9.6 64-bit",
   "language": "python",
   "name": "python3"
  },
  "language_info": {
   "name": "python",
   "version": "3.9.6"
  },
  "orig_nbformat": 4
 },
 "nbformat": 4,
 "nbformat_minor": 2
}
