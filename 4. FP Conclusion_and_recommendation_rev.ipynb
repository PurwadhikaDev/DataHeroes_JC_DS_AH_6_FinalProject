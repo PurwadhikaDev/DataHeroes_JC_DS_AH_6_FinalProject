{
 "cells": [
  {
   "cell_type": "markdown",
   "metadata": {},
   "source": [
    "# OUTPUT REGRESI:\n",
    "- Kita dapat menjawab berapa harga pasar dari rumah yang ditawarkan penjual kepada kita,  dengan mengetahui atribut dari rumah / condominium yang akan dijual.\n",
    "- Fitur terpenting penentu harga Residential adalah EYB (Tahun Rumah dibangun) dan Untuk Condominum adalah BATHROOM\n",
    "- Model terbaik yang di pakai adalah `Random Forest` dengan R2 = ± 87%\n",
    "\n",
    "\n",
    "# OUTPUT CLUSTERING:\n",
    "- Model clustering dapat memberikan informasi cluster resiko / condominium, \n",
    "Cluster resiko dapat meberikan suggestion kepada kita sembagai pembeli untuk basis harga tawar-menawar\n",
    "- Model terbaik yang di pakai adalah `Kmeans`\n",
    "\n",
    "# OUTPUT TIME SERIES:\n",
    "- Model Time-Series dapat memberikan informasi tren kenaikan harga dari tren harga rumah maupun condominium\n",
    "- Dari hasil perhitungan ML, Kenaikan harga dalam presentase pertahun adalah\n",
    "\t* Residential >>> 6,81%\n",
    "\t* Condominium >>> 16,43%\n",
    "\n",
    "\n",
    "# KOMBINASI 3 OUTPUT\n",
    "Kombinasi 3 OUTPUT tsb dapat memberikan perhitungan margin keuntungan kami, dimana Margin keuntungan kami adalah:\n",
    "\n",
    "`Harga Jual Rumah - Harga beli`\n",
    "\n",
    "\t\tatau \n",
    "\n",
    "`(Hasil regresi (Harga Wajar di Pasar) x Tren Harga Rumah) - Harga beli`\n",
    "\n",
    "# Rekomendasi dan Future Works:\n",
    "- Outlier dan data handling perlu untuk diperhatikan sebelum model dijalankan, karena data input sangat mempengaruhi output model (Garbage In Garbage Out)\n",
    "- Melakukan prediksi harga rumah dengan mempertimbangkan aspek spasial dan melakukan peramalan harga masa depan dengan metode time-series terkini seperti prophet. \n",
    "- Membuat Function untuk mengotomatisasi dan mendapatkan semua urutan analisis dalam 1x run.\n",
    "- Membuat API Services Endpoint dari Function otomatisasi yang terlah di buat dengan teknologi seperti Flask, Django, ataupun Fast API\n",
    "- Mempublikasikan API Services Endpoint yang telah di buat dalam micro service environment seperti Docker\n"
   ]
  }
 ],
 "metadata": {
  "interpreter": {
   "hash": "c717e48f47dbf3882205ebaefec1a2b4f1b354b496a24c57e7aae83aa2cbf878"
  },
  "kernelspec": {
   "display_name": "Python 3.9.6 64-bit",
   "language": "python",
   "name": "python3"
  },
  "language_info": {
   "name": "python",
   "version": "3.9.6"
  },
  "orig_nbformat": 4
 },
 "nbformat": 4,
 "nbformat_minor": 2
}
